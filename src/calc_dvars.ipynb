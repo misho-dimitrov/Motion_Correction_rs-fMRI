{
 "cells": [
  {
   "cell_type": "markdown",
   "metadata": {},
   "source": [
    "# Compare the performance of several pre-processing pipelines in terms of motion correction as measured by the root mean square of the temporal derivative of the post-processed fMRI signal (DVARS)\n",
    "\n",
    "### DVARS - check https://journals.plos.org/plosone/article?id=10.1371/journal.pone.0173289 and https://www.sciencedirect.com/science/article/pii/S1053811917310972"
   ]
  },
  {
   "cell_type": "code",
   "execution_count": 2,
   "metadata": {},
   "outputs": [],
   "source": []
  },
  {
   "cell_type": "code",
   "execution_count": 1,
   "metadata": {},
   "outputs": [],
   "source": [
    "import glob\n",
    "import os\n",
    "import sys\n",
    "\n",
    "import pandas as pd\n",
    "import numpy as np\n",
    "from numpy import mean\n",
    "import matplotlib.pyplot as plt\n",
    "from pylab import rcParams\n",
    "import seaborn as sns\n",
    "\n",
    "from scipy import stats\n",
    "from scipy.stats import wilcoxon\n",
    "\n",
    "from statsmodels.stats.multitest import multipletests\n",
    "import statannot\n",
    "from statannot import add_stat_annotation\n",
    "\n",
    "import xlrd\n",
    "import itertools"
   ]
  },
  {
   "cell_type": "code",
   "execution_count": null,
   "metadata": {},
   "outputs": [],
   "source": []
  },
  {
   "cell_type": "code",
   "execution_count": null,
   "metadata": {},
   "outputs": [],
   "source": [
    "# First, check if the ASC and TD groups differ significantly in terms of age, IQ \n",
    "# and in-scanner movement (i.e. framewise displacement - FD)\n",
    "# Participant list : \n",
    "# M005B, M007A, M008A, M010A, M013B, M014A, M015C, M016C, M020B\n",
    "# M105B, M106C, M109C, M110A, M111B, M114A, M115C, M121A"
   ]
  },
  {
   "cell_type": "code",
   "execution_count": 3,
   "metadata": {},
   "outputs": [],
   "source": [
    "# Load FD data\n",
    "fd_data = pd.read_excel(r'/Users/mishodimitrov/Downloads/PhD/Analysis/Project_Uno/mean_fd_split.xlsx', sheet_name='asc_td_p', engine='openpyxl')"
   ]
  },
  {
   "cell_type": "code",
   "execution_count": 4,
   "metadata": {},
   "outputs": [
    {
     "name": "stdout",
     "output_type": "stream",
     "text": [
      "0    0.060405\n",
      "1    0.115580\n",
      "2    0.062291\n",
      "3    0.170476\n",
      "4    0.067968\n",
      "5    0.078633\n",
      "6    0.085417\n",
      "7    0.140576\n",
      "8    0.264926\n",
      "Name: fd, dtype: float64\n",
      "11    0.128344\n",
      "12    0.092802\n",
      "13    0.153768\n",
      "14    0.076472\n",
      "15    0.565535\n",
      "16    0.231221\n",
      "17    0.057706\n",
      "18    0.340496\n",
      "Name: fd, dtype: float64\n"
     ]
    }
   ],
   "source": [
    "# Split into groups\n",
    "fd_data_td = fd_data.iloc[:9,1]\n",
    "print(fd_data_td)\n",
    "fd_data_asc = fd_data.iloc[11:19,1] # get only non-NaN values as the NaN values are not actually missing values, rather the ASC sample size is just smaller\n",
    "print(fd_data_asc)"
   ]
  },
  {
   "cell_type": "code",
   "execution_count": null,
   "metadata": {},
   "outputs": [],
   "source": []
  },
  {
   "cell_type": "code",
   "execution_count": 5,
   "metadata": {},
   "outputs": [],
   "source": [
    "# To check for normality of data\n",
    "def check_norm(data):\n",
    "    # Visualise first\n",
    "    plt.hist(data\n",
    "             ,bins = 10\n",
    "            )\n",
    "    plt.show()\n",
    "    \n",
    "    k2, p = stats.normaltest(data)\n",
    "    alpha = 0.05\n",
    "\n",
    "    print('P-value = ' + '{0:.10f}'.format(p))\n",
    "\n",
    "    # null hypothesis: x comes from a normal distribution\n",
    "    if p < alpha:\n",
    "        print(\"The null hypothesis can be rejected. The sample is NOT normally distributed.\")\n",
    "        return False\n",
    "    else:\n",
    "        print(\"The null hypothesis cannot be rejected. The sample is normally distributed.\")\n",
    "        return True"
   ]
  },
  {
   "cell_type": "code",
   "execution_count": 13,
   "metadata": {},
   "outputs": [
    {
     "data": {
      "image/png": "[encoded data removed]",
      "text/plain": [
       "<Figure size 640x480 with 1 Axes>"
      ]
     },
     "metadata": {},
     "output_type": "display_data"
    },
    {
     "name": "stdout",
     "output_type": "stream",
     "text": [
      "P-value = 0.0355545348\n",
      "The null hypothesis can be rejected. The sample is NOT normally distributed.\n"
     ]
    }
   ],
   "source": [
    "# Check normality of the TD group\n",
    "norm_td = check_norm(fd_data_td)"
   ]
  },
  {
   "cell_type": "code",
   "execution_count": 14,
   "metadata": {},
   "outputs": [
    {
     "data": {
      "image/png": "[encoded data removed]",
      "text/plain": [
       "<Figure size 640x480 with 1 Axes>"
      ]
     },
     "metadata": {},
     "output_type": "display_data"
    },
    {
     "name": "stdout",
     "output_type": "stream",
     "text": [
      "P-value = 0.0498718234\n",
      "The null hypothesis can be rejected. The sample is NOT normally distributed.\n"
     ]
    }
   ],
   "source": [
    "# Check normality of the ASC group\n",
    "norm_asc = check_norm(fd_data_asc)"
   ]
  },
  {
   "cell_type": "code",
   "execution_count": null,
   "metadata": {},
   "outputs": [],
   "source": []
  },
  {
   "cell_type": "code",
   "execution_count": 8,
   "metadata": {},
   "outputs": [],
   "source": [
    "# Check for equality of variances\n",
    "def calc_var_equal(d1, d2):\n",
    "    v1, v2 = np.var(d1), np.var(d2)\n",
    "    if (v1 / v2) or (v2 / v1) >= 4:\n",
    "        return False\n",
    "    else:\n",
    "        return True"
   ]
  },
  {
   "cell_type": "code",
   "execution_count": 15,
   "metadata": {},
   "outputs": [],
   "source": [
    "var_equal = calc_var_equal(fd_data_td, fd_data_asc)"
   ]
  },
  {
   "cell_type": "code",
   "execution_count": null,
   "metadata": {},
   "outputs": [],
   "source": []
  },
  {
   "cell_type": "code",
   "execution_count": 10,
   "metadata": {},
   "outputs": [],
   "source": [
    "# Test for significant group differences\n",
    "def test_sign_diff(d1, norm_d1, d2, norm_d2, var_equal):\n",
    "    if norm_d1 == True and norm_d2 == True:\n",
    "        if var_equal == True:\n",
    "            print(stats.ttest_ind(a=d1, b=d2, equal_var=True))\n",
    "        # https://www.statology.org/determine-equal-or-unequal-variance/\n",
    "        else:\n",
    "            print(stats.ttest_ind(a=d1, b=d2, equal_var=False))\n",
    "    else:\n",
    "        #https://docs.scipy.org/doc/scipy-0.14.0/reference/generated/scipy.stats.mannwhitneyu.html\n",
    "        u, prob = stats.mannwhitneyu(d1, d2)\n",
    "        print(\"u = {:g}\".format(u))\n",
    "        print(\"prob = {:g}\".format(prob))\n",
    "        # to get two-sided p-value:\n",
    "        two_sided_prob = 2 * prob\n",
    "        print(\"P-value = \" + str(two_sided_prob))"
   ]
  },
  {
   "cell_type": "code",
   "execution_count": 16,
   "metadata": {},
   "outputs": [
    {
     "name": "stdout",
     "output_type": "stream",
     "text": [
      "u = 25\n",
      "prob = 0.321267\n",
      "P-value = 0.6425339366515838\n"
     ]
    }
   ],
   "source": [
    "test_sign_diff(fd_data_td, norm_td, fd_data_asc, norm_asc, var_equal)"
   ]
  },
  {
   "cell_type": "code",
   "execution_count": null,
   "metadata": {},
   "outputs": [],
   "source": []
  },
  {
   "cell_type": "markdown",
   "metadata": {},
   "source": [
    "# Create a function to unite the functions above, which would take factor as input, i.e. age, IQ and FD....\n"
   ]
  },
  {
   "cell_type": "code",
   "execution_count": null,
   "metadata": {},
   "outputs": [],
   "source": []
  },
  {
   "cell_type": "code",
   "execution_count": 16,
   "metadata": {},
   "outputs": [
    {
     "name": "stdout",
     "output_type": "stream",
     "text": [
      "0    23.0\n",
      "1    20.0\n",
      "2    23.0\n",
      "3    36.0\n",
      "4    22.0\n",
      "5    24.0\n",
      "6    37.0\n",
      "7    28.0\n",
      "8    51.0\n",
      "Name: Age, dtype: float64\n",
      "11    40.0\n",
      "12    33.0\n",
      "13    19.0\n",
      "14    33.0\n",
      "15    30.0\n",
      "16    43.0\n",
      "17    25.0\n",
      "18    49.0\n",
      "Name: Age, dtype: float64\n"
     ]
    }
   ],
   "source": [
    "# age\n",
    "df_age_all = pd.read_excel(r'/Users/mishodimitrov/Downloads/PhD/Analysis/Project_Uno/ARB_cov_split.xlsx', sheet_name='age_asc_td_p', engine='openpyxl')\n",
    "df_age_td = df_age_all.iloc[:9,1]\n",
    "print(df_age_td)\n",
    "df_age_asc = df_age_all.iloc[11:19,1]\n",
    "print(df_age_asc)"
   ]
  },
  {
   "cell_type": "code",
   "execution_count": 17,
   "metadata": {},
   "outputs": [
    {
     "name": "stdout",
     "output_type": "stream",
     "text": [
      "p = 0.0826605\n",
      "The null hypothesis cannot be rejected\n"
     ]
    }
   ],
   "source": [
    "# check normality of the TD group\n",
    "k2, p = stats.normaltest(df_age_td)\n",
    "\n",
    "alpha = 1e-3\n",
    "\n",
    "print(\"p = {:g}\".format(p))\n",
    "\n",
    "if p < alpha:  # null hypothesis: x comes from a normal distribution\n",
    "\n",
    "    print(\"The null hypothesis can be rejected\")\n",
    "\n",
    "else:\n",
    "\n",
    "    print(\"The null hypothesis cannot be rejected\")"
   ]
  },
  {
   "cell_type": "code",
   "execution_count": 40,
   "metadata": {},
   "outputs": [
    {
     "data": {
      "image/png": "[encoded data removed]",
      "text/plain": [
       "<Figure size 432x288 with 1 Axes>"
      ]
     },
     "metadata": {
      "needs_background": "light"
     },
     "output_type": "display_data"
    }
   ],
   "source": [
    "#visualise as well\n",
    "plt.hist(df_age_td\n",
    "         , bins = 5\n",
    "        )\n",
    "plt.show()"
   ]
  },
  {
   "cell_type": "code",
   "execution_count": 19,
   "metadata": {},
   "outputs": [
    {
     "name": "stdout",
     "output_type": "stream",
     "text": [
      "p = 0.977129\n",
      "The null hypothesis cannot be rejected\n"
     ]
    }
   ],
   "source": [
    "# check normality of the TD group\n",
    "k2, p = stats.normaltest(df_age_asc)\n",
    "\n",
    "alpha = 1e-3\n",
    "\n",
    "print(\"p = {:g}\".format(p))\n",
    "\n",
    "if p < alpha:  # null hypothesis: x comes from a normal distribution\n",
    "\n",
    "    print(\"The null hypothesis can be rejected\")\n",
    "\n",
    "else:\n",
    "\n",
    "    print(\"The null hypothesis cannot be rejected\")"
   ]
  },
  {
   "cell_type": "code",
   "execution_count": 41,
   "metadata": {},
   "outputs": [
    {
     "data": {
      "image/png": "[encoded data removed]",
      "text/plain": [
       "<Figure size 432x288 with 1 Axes>"
      ]
     },
     "metadata": {
      "needs_background": "light"
     },
     "output_type": "display_data"
    }
   ],
   "source": [
    "#visualise as well\n",
    "plt.hist(df_age_asc\n",
    "         , bins = 5\n",
    "        )\n",
    "plt.show()"
   ]
  },
  {
   "cell_type": "code",
   "execution_count": 21,
   "metadata": {},
   "outputs": [
    {
     "name": "stdout",
     "output_type": "stream",
     "text": [
      "91.55555555555556 83.25\n"
     ]
    }
   ],
   "source": [
    "#find variance for each group\n",
    "print(np.var(df_age_td), np.var(df_age_asc))"
   ]
  },
  {
   "cell_type": "code",
   "execution_count": 22,
   "metadata": {},
   "outputs": [
    {
     "data": {
      "text/plain": [
       "Ttest_indResult(statistic=-0.9636094797023772, pvalue=0.35052042689913065)"
      ]
     },
     "execution_count": 22,
     "metadata": {},
     "output_type": "execute_result"
    }
   ],
   "source": [
    "# perform a two-sample t-test on the age data\n",
    "stats.ttest_ind(a=df_age_td, b=df_age_asc, equal_var=True)"
   ]
  },
  {
   "cell_type": "code",
   "execution_count": null,
   "metadata": {},
   "outputs": [],
   "source": []
  },
  {
   "cell_type": "code",
   "execution_count": 23,
   "metadata": {},
   "outputs": [
    {
     "name": "stdout",
     "output_type": "stream",
     "text": [
      "0    119.0\n",
      "1    117.0\n",
      "2    123.0\n",
      "3    121.0\n",
      "4    114.0\n",
      "5    128.0\n",
      "6    115.0\n",
      "7    114.0\n",
      "8    107.0\n",
      "Name: IQ, dtype: float64\n",
      "11      NaN\n",
      "12      NaN\n",
      "13    118.0\n",
      "14    125.0\n",
      "15    107.0\n",
      "16    106.0\n",
      "17    118.0\n",
      "18    128.0\n",
      "Name: IQ, dtype: float64\n"
     ]
    }
   ],
   "source": [
    "# IQ\n",
    "df_iq_all = pd.read_excel(r'/Users/mishodimitrov/Downloads/PhD/Analysis/Project_Uno/ARB_cov_split.xlsx', sheet_name='iq_asc_td_p', engine='openpyxl')\n",
    "df_iq_td = df_iq_all.iloc[:9,1]\n",
    "print(df_iq_td)\n",
    "df_iq_asc = df_iq_all.iloc[11:19,1] # N.B. there is a couple of missing value at the beginning of the ASC group\n",
    "print(df_iq_asc)"
   ]
  },
  {
   "cell_type": "code",
   "execution_count": 24,
   "metadata": {},
   "outputs": [
    {
     "name": "stdout",
     "output_type": "stream",
     "text": [
      "0    119.0\n",
      "1    117.0\n",
      "2    123.0\n",
      "3    121.0\n",
      "4    114.0\n",
      "5    128.0\n",
      "6    115.0\n",
      "7    114.0\n",
      "8    107.0\n",
      "Name: IQ, dtype: float64\n",
      "11    117.0\n",
      "12    117.0\n",
      "13    118.0\n",
      "14    125.0\n",
      "15    107.0\n",
      "16    106.0\n",
      "17    118.0\n",
      "18    128.0\n",
      "Name: IQ, dtype: float64\n"
     ]
    }
   ],
   "source": [
    "# Interpolated missing values\n",
    "\n",
    "iq_td_mean = df_iq_td.mean()\n",
    "df_iq_td = df_iq_td.fillna(iq_td_mean)\n",
    "print(df_iq_td)\n",
    "\n",
    "iq_asc_mean = df_iq_asc.mean()\n",
    "df_iq_asc = df_iq_asc.fillna(iq_asc_mean)\n",
    "print(df_iq_asc)"
   ]
  },
  {
   "cell_type": "code",
   "execution_count": 25,
   "metadata": {},
   "outputs": [
    {
     "name": "stdout",
     "output_type": "stream",
     "text": [
      "p = 0.877296\n",
      "The null hypothesis cannot be rejected\n"
     ]
    }
   ],
   "source": [
    "# check normality of the TD group\n",
    "k2, p = stats.normaltest(df_iq_td)\n",
    "\n",
    "alpha = 1e-3\n",
    "\n",
    "print(\"p = {:g}\".format(p))\n",
    "\n",
    "if p < alpha:  # null hypothesis: x comes from a normal distribution\n",
    "\n",
    "    print(\"The null hypothesis can be rejected\")\n",
    "\n",
    "else:\n",
    "\n",
    "    print(\"The null hypothesis cannot be rejected\")"
   ]
  },
  {
   "cell_type": "code",
   "execution_count": 42,
   "metadata": {},
   "outputs": [
    {
     "data": {
      "image/png": "[encoded data removed]",
      "text/plain": [
       "<Figure size 432x288 with 1 Axes>"
      ]
     },
     "metadata": {
      "needs_background": "light"
     },
     "output_type": "display_data"
    }
   ],
   "source": [
    "#visualise as well\n",
    "plt.hist(df_iq_td\n",
    "         , bins = 5\n",
    "        )\n",
    "plt.show()"
   ]
  },
  {
   "cell_type": "code",
   "execution_count": 27,
   "metadata": {},
   "outputs": [
    {
     "name": "stdout",
     "output_type": "stream",
     "text": [
      "p = 0.938027\n",
      "The null hypothesis cannot be rejected\n"
     ]
    }
   ],
   "source": [
    "# check normality of the TD group\n",
    "k2, p = stats.normaltest(df_iq_asc)\n",
    "\n",
    "alpha = 1e-3\n",
    "\n",
    "print(\"p = {:g}\".format(p))\n",
    "\n",
    "if p < alpha:  # null hypothesis: x comes from a normal distribution\n",
    "\n",
    "    print(\"The null hypothesis can be rejected\")\n",
    "\n",
    "else:\n",
    "\n",
    "    print(\"The null hypothesis cannot be rejected\")"
   ]
  },
  {
   "cell_type": "code",
   "execution_count": 43,
   "metadata": {},
   "outputs": [
    {
     "data": {
      "image/png": "[encoded data removed]",
      "text/plain": [
       "<Figure size 432x288 with 1 Axes>"
      ]
     },
     "metadata": {
      "needs_background": "light"
     },
     "output_type": "display_data"
    }
   ],
   "source": [
    "#visualise as well\n",
    "plt.hist(df_iq_asc\n",
    "         , bins = 5\n",
    "        )\n",
    "plt.show()"
   ]
  },
  {
   "cell_type": "code",
   "execution_count": 30,
   "metadata": {},
   "outputs": [
    {
     "name": "stdout",
     "output_type": "stream",
     "text": [
      "32.91358024691358 51.0\n"
     ]
    }
   ],
   "source": [
    "#find variance for each group\n",
    "print(np.var(df_iq_td), np.var(df_iq_asc))"
   ]
  },
  {
   "cell_type": "code",
   "execution_count": 31,
   "metadata": {},
   "outputs": [
    {
     "data": {
      "text/plain": [
       "Ttest_indResult(statistic=0.1668630007003614, pvalue=0.8697064477738561)"
      ]
     },
     "execution_count": 31,
     "metadata": {},
     "output_type": "execute_result"
    }
   ],
   "source": [
    "# perform a two-sample t-test on the age data\n",
    "stats.ttest_ind(a=df_iq_td, b=df_iq_asc, equal_var=True)"
   ]
  },
  {
   "cell_type": "code",
   "execution_count": null,
   "metadata": {},
   "outputs": [],
   "source": []
  },
  {
   "cell_type": "code",
   "execution_count": 2,
   "metadata": {},
   "outputs": [],
   "source": [
    "pipeline_list = []\n",
    "for n in range(12):\n",
    "        # get a pipeline\n",
    "        pipeline = pd.read_excel(r'~/Downloads/PhD/Analysis/QC/ARB_QC.xlsx', sheet_name=n)\n",
    "        stacked_pipeline = pipeline.stack()\n",
    "        pipeline_list.append(stacked_pipeline)"
   ]
  },
  {
   "cell_type": "code",
   "execution_count": 3,
   "metadata": {},
   "outputs": [
    {
     "data": {
      "text/plain": [
       "0    0       3.26922\n",
       "     0.1     3.03093\n",
       "     0.2     3.06855\n",
       "     0.3     3.82601\n",
       "     0.4     3.34560\n",
       "              ...   \n",
       "190  0.12    2.51645\n",
       "     0.13    8.52097\n",
       "     0.14    4.05079\n",
       "     0.15    2.90582\n",
       "     0.16    4.78742\n",
       "Length: 3247, dtype: float64"
      ]
     },
     "execution_count": 3,
     "metadata": {},
     "output_type": "execute_result"
    }
   ],
   "source": [
    "pipeline_list[1]"
   ]
  },
  {
   "cell_type": "code",
   "execution_count": 62,
   "metadata": {},
   "outputs": [
    {
     "data": {
      "image/png": "[encoded data removed]",
      "text/plain": [
       "<Figure size 432x288 with 1 Axes>"
      ]
     },
     "metadata": {
      "needs_background": "light"
     },
     "output_type": "display_data"
    },
    {
     "data": {
      "image/png": "[encoded data removed]",
      "text/plain": [
       "<Figure size 432x288 with 1 Axes>"
      ]
     },
     "metadata": {
      "needs_background": "light"
     },
     "output_type": "display_data"
    },
    {
     "data": {
      "image/png": "[encoded data removed]",
      "text/plain": [
       "<Figure size 432x288 with 1 Axes>"
      ]
     },
     "metadata": {
      "needs_background": "light"
     },
     "output_type": "display_data"
    },
    {
     "data": {
      "image/png": "[encoded data removed]",
      "text/plain": [
       "<Figure size 432x288 with 1 Axes>"
      ]
     },
     "metadata": {
      "needs_background": "light"
     },
     "output_type": "display_data"
    },
    {
     "data": {
      "image/png": "[encoded data removed]",
      "text/plain": [
       "<Figure size 432x288 with 1 Axes>"
      ]
     },
     "metadata": {
      "needs_background": "light"
     },
     "output_type": "display_data"
    },
    {
     "data": {
      "image/png": "[encoded data removed]",
      "text/plain": [
       "<Figure size 432x288 with 1 Axes>"
      ]
     },
     "metadata": {
      "needs_background": "light"
     },
     "output_type": "display_data"
    },
    {
     "data": {
      "image/png": "[encoded data removed]",
      "text/plain": [
       "<Figure size 432x288 with 1 Axes>"
      ]
     },
     "metadata": {
      "needs_background": "light"
     },
     "output_type": "display_data"
    },
    {
     "data": {
      "image/png": "[encoded data removed]",
      "text/plain": [
       "<Figure size 432x288 with 1 Axes>"
      ]
     },
     "metadata": {
      "needs_background": "light"
     },
     "output_type": "display_data"
    },
    {
     "data": {
      "image/png": "[encoded data removed]",
      "text/plain": [
       "<Figure size 432x288 with 1 Axes>"
      ]
     },
     "metadata": {
      "needs_background": "light"
     },
     "output_type": "display_data"
    },
    {
     "data": {
      "image/png": "[encoded data removed]",
      "text/plain": [
       "<Figure size 432x288 with 1 Axes>"
      ]
     },
     "metadata": {
      "needs_background": "light"
     },
     "output_type": "display_data"
    },
    {
     "data": {
      "image/png": "[encoded data removed]",
      "text/plain": [
       "<Figure size 432x288 with 1 Axes>"
      ]
     },
     "metadata": {
      "needs_background": "light"
     },
     "output_type": "display_data"
    },
    {
     "data": {
      "image/png": "[encoded data removed]",
      "text/plain": [
       "<Figure size 432x288 with 1 Axes>"
      ]
     },
     "metadata": {
      "needs_background": "light"
     },
     "output_type": "display_data"
    }
   ],
   "source": [
    "# check normality\n",
    "for n in range(12):\n",
    "    plt.hist(pipeline_list[n], bins = 20)\n",
    "    plt.show()"
   ]
  },
  {
   "cell_type": "code",
   "execution_count": 4,
   "metadata": {},
   "outputs": [
    {
     "data": {
      "text/plain": [
       "['MEICA_3_echo',\n",
       " 'MEICA_4_echo',\n",
       " '1_echo',\n",
       " '1_echo_SDC',\n",
       " '3_echo',\n",
       " '3_echo_SDC',\n",
       " '3_echo_T2s',\n",
       " '3_echo_T2s_SDC',\n",
       " '4_echo',\n",
       " '4_echo_SDC',\n",
       " '4_echo_T2s',\n",
       " '4_echo_T2s_SDC']"
      ]
     },
     "execution_count": 4,
     "metadata": {},
     "output_type": "execute_result"
    }
   ],
   "source": [
    "xls = xlrd.open_workbook(r'~/Downloads/PhD/Analysis/QC/ARB_QC.xlsx', on_demand=True)\n",
    "pipeline_names = xls.sheet_names()\n",
    "pipeline_names"
   ]
  },
  {
   "cell_type": "code",
   "execution_count": 5,
   "metadata": {},
   "outputs": [
    {
     "data": {
      "image/png": "[encoded data removed]",
      "text/plain": [
       "<Figure size 1440x576 with 1 Axes>"
      ]
     },
     "metadata": {
      "needs_background": "light"
     },
     "output_type": "display_data"
    }
   ],
   "source": [
    "# https://matplotlib.org/3.1.1/api/_as_gen/matplotlib.pyplot.boxplot.html\n",
    "\n",
    "fig, ax = plt.subplots(figsize=(20,8))\n",
    "dvars_figure = ax.boxplot(pipeline_list, \n",
    "                          #notch=True, \n",
    "                          bootstrap=5000, \n",
    "                          showfliers=False)\n",
    "ax.set_xticklabels(pipeline_names)\n",
    "#plt.show(dvars_figure)\n",
    "plt.savefig(\"dvars.png\")"
   ]
  },
  {
   "cell_type": "code",
   "execution_count": 9,
   "metadata": {},
   "outputs": [],
   "source": [
    "# get the median value\n",
    "# the integer should match the pipeline of interest, i.e. ranges from 0 to 11 in this case\n",
    "#print(dvars_figure['medians'][0].get_ydata())\n",
    "# for the lower and upper bounds, each pipeline gets a couple of indices, i.e. \n",
    "# pipeline 1 has 0 for lower and 1 for upper boundary, pipeline 2 has 2 for lower and 3 for upper boundary etc.\n",
    "# get the lower bound of the whiskers\n",
    "#print(dvars_figure['caps'][0].get_ydata())\n",
    "# get the upper bound of the whiskers\n",
    "#print(dvars_figure['caps'][1].get_ydata())"
   ]
  },
  {
   "cell_type": "code",
   "execution_count": 5,
   "metadata": {},
   "outputs": [
    {
     "data": {
      "text/html": [
       "<div>\n",
       "<style scoped>\n",
       "    .dataframe tbody tr th:only-of-type {\n",
       "        vertical-align: middle;\n",
       "    }\n",
       "\n",
       "    .dataframe tbody tr th {\n",
       "        vertical-align: top;\n",
       "    }\n",
       "\n",
       "    .dataframe thead th {\n",
       "        text-align: right;\n",
       "    }\n",
       "</style>\n",
       "<table border=\"1\" class=\"dataframe\">\n",
       "  <thead>\n",
       "    <tr style=\"text-align: right;\">\n",
       "      <th></th>\n",
       "      <th></th>\n",
       "      <th>0</th>\n",
       "      <th>1</th>\n",
       "      <th>2</th>\n",
       "      <th>3</th>\n",
       "      <th>4</th>\n",
       "      <th>5</th>\n",
       "      <th>6</th>\n",
       "      <th>7</th>\n",
       "      <th>8</th>\n",
       "      <th>9</th>\n",
       "      <th>10</th>\n",
       "      <th>11</th>\n",
       "    </tr>\n",
       "  </thead>\n",
       "  <tbody>\n",
       "    <tr>\n",
       "      <th rowspan=\"5\" valign=\"top\">0</th>\n",
       "      <th>0</th>\n",
       "      <td>3.27061</td>\n",
       "      <td>3.26922</td>\n",
       "      <td>8.18908</td>\n",
       "      <td>18.8007</td>\n",
       "      <td>13.47820</td>\n",
       "      <td>13.50270</td>\n",
       "      <td>6.00060</td>\n",
       "      <td>13.45690</td>\n",
       "      <td>15.21930</td>\n",
       "      <td>18.77520</td>\n",
       "      <td>7.00165</td>\n",
       "      <td>14.90970</td>\n",
       "    </tr>\n",
       "    <tr>\n",
       "      <th>0.1</th>\n",
       "      <td>2.49046</td>\n",
       "      <td>3.03093</td>\n",
       "      <td>16.61550</td>\n",
       "      <td>23.5093</td>\n",
       "      <td>15.49000</td>\n",
       "      <td>15.08640</td>\n",
       "      <td>7.03698</td>\n",
       "      <td>20.37080</td>\n",
       "      <td>16.47880</td>\n",
       "      <td>16.17540</td>\n",
       "      <td>7.60036</td>\n",
       "      <td>15.99170</td>\n",
       "    </tr>\n",
       "    <tr>\n",
       "      <th>0.2</th>\n",
       "      <td>2.86700</td>\n",
       "      <td>3.06855</td>\n",
       "      <td>8.22911</td>\n",
       "      <td>18.3823</td>\n",
       "      <td>18.26410</td>\n",
       "      <td>14.66840</td>\n",
       "      <td>5.59414</td>\n",
       "      <td>16.87830</td>\n",
       "      <td>20.17850</td>\n",
       "      <td>14.32950</td>\n",
       "      <td>6.85083</td>\n",
       "      <td>21.28800</td>\n",
       "    </tr>\n",
       "    <tr>\n",
       "      <th>0.3</th>\n",
       "      <td>3.61683</td>\n",
       "      <td>3.82601</td>\n",
       "      <td>21.77850</td>\n",
       "      <td>59.0945</td>\n",
       "      <td>39.43180</td>\n",
       "      <td>20.57370</td>\n",
       "      <td>7.03026</td>\n",
       "      <td>24.74810</td>\n",
       "      <td>23.14750</td>\n",
       "      <td>22.90680</td>\n",
       "      <td>8.91669</td>\n",
       "      <td>23.32580</td>\n",
       "    </tr>\n",
       "    <tr>\n",
       "      <th>0.4</th>\n",
       "      <td>3.20922</td>\n",
       "      <td>3.34560</td>\n",
       "      <td>7.13750</td>\n",
       "      <td>28.3236</td>\n",
       "      <td>22.87900</td>\n",
       "      <td>22.83500</td>\n",
       "      <td>5.25222</td>\n",
       "      <td>22.97470</td>\n",
       "      <td>25.36830</td>\n",
       "      <td>25.21820</td>\n",
       "      <td>6.15223</td>\n",
       "      <td>29.73170</td>\n",
       "    </tr>\n",
       "    <tr>\n",
       "      <th>...</th>\n",
       "      <th>...</th>\n",
       "      <td>...</td>\n",
       "      <td>...</td>\n",
       "      <td>...</td>\n",
       "      <td>...</td>\n",
       "      <td>...</td>\n",
       "      <td>...</td>\n",
       "      <td>...</td>\n",
       "      <td>...</td>\n",
       "      <td>...</td>\n",
       "      <td>...</td>\n",
       "      <td>...</td>\n",
       "      <td>...</td>\n",
       "    </tr>\n",
       "    <tr>\n",
       "      <th rowspan=\"5\" valign=\"top\">190</th>\n",
       "      <th>0.12</th>\n",
       "      <td>2.25133</td>\n",
       "      <td>2.51645</td>\n",
       "      <td>13.40020</td>\n",
       "      <td>13.5402</td>\n",
       "      <td>4.00597</td>\n",
       "      <td>4.24402</td>\n",
       "      <td>4.30930</td>\n",
       "      <td>4.63428</td>\n",
       "      <td>4.67924</td>\n",
       "      <td>4.57106</td>\n",
       "      <td>4.74442</td>\n",
       "      <td>4.79032</td>\n",
       "    </tr>\n",
       "    <tr>\n",
       "      <th>0.13</th>\n",
       "      <td>6.74825</td>\n",
       "      <td>8.52097</td>\n",
       "      <td>30.42650</td>\n",
       "      <td>23.9909</td>\n",
       "      <td>37.70760</td>\n",
       "      <td>39.05880</td>\n",
       "      <td>36.09080</td>\n",
       "      <td>38.46600</td>\n",
       "      <td>42.46290</td>\n",
       "      <td>42.57440</td>\n",
       "      <td>40.55970</td>\n",
       "      <td>44.96210</td>\n",
       "    </tr>\n",
       "    <tr>\n",
       "      <th>0.14</th>\n",
       "      <td>4.51715</td>\n",
       "      <td>4.05079</td>\n",
       "      <td>11.31030</td>\n",
       "      <td>10.8822</td>\n",
       "      <td>8.96405</td>\n",
       "      <td>8.91679</td>\n",
       "      <td>8.69740</td>\n",
       "      <td>8.90285</td>\n",
       "      <td>10.48090</td>\n",
       "      <td>9.88066</td>\n",
       "      <td>9.61186</td>\n",
       "      <td>10.70270</td>\n",
       "    </tr>\n",
       "    <tr>\n",
       "      <th>0.15</th>\n",
       "      <td>2.60696</td>\n",
       "      <td>2.90582</td>\n",
       "      <td>12.27250</td>\n",
       "      <td>12.8591</td>\n",
       "      <td>6.04500</td>\n",
       "      <td>6.25096</td>\n",
       "      <td>5.71284</td>\n",
       "      <td>6.38231</td>\n",
       "      <td>6.56449</td>\n",
       "      <td>7.04411</td>\n",
       "      <td>6.35265</td>\n",
       "      <td>6.57341</td>\n",
       "    </tr>\n",
       "    <tr>\n",
       "      <th>0.16</th>\n",
       "      <td>6.46680</td>\n",
       "      <td>4.78742</td>\n",
       "      <td>14.16430</td>\n",
       "      <td>13.3600</td>\n",
       "      <td>9.57494</td>\n",
       "      <td>9.99594</td>\n",
       "      <td>12.14570</td>\n",
       "      <td>12.77400</td>\n",
       "      <td>13.78880</td>\n",
       "      <td>14.16370</td>\n",
       "      <td>13.03640</td>\n",
       "      <td>13.29500</td>\n",
       "    </tr>\n",
       "  </tbody>\n",
       "</table>\n",
       "<p>3247 rows × 12 columns</p>\n",
       "</div>"
      ],
      "text/plain": [
       "               0        1         2        3         4         5         6   \\\n",
       "0   0     3.27061  3.26922   8.18908  18.8007  13.47820  13.50270   6.00060   \n",
       "    0.1   2.49046  3.03093  16.61550  23.5093  15.49000  15.08640   7.03698   \n",
       "    0.2   2.86700  3.06855   8.22911  18.3823  18.26410  14.66840   5.59414   \n",
       "    0.3   3.61683  3.82601  21.77850  59.0945  39.43180  20.57370   7.03026   \n",
       "    0.4   3.20922  3.34560   7.13750  28.3236  22.87900  22.83500   5.25222   \n",
       "...           ...      ...       ...      ...       ...       ...       ...   \n",
       "190 0.12  2.25133  2.51645  13.40020  13.5402   4.00597   4.24402   4.30930   \n",
       "    0.13  6.74825  8.52097  30.42650  23.9909  37.70760  39.05880  36.09080   \n",
       "    0.14  4.51715  4.05079  11.31030  10.8822   8.96405   8.91679   8.69740   \n",
       "    0.15  2.60696  2.90582  12.27250  12.8591   6.04500   6.25096   5.71284   \n",
       "    0.16  6.46680  4.78742  14.16430  13.3600   9.57494   9.99594  12.14570   \n",
       "\n",
       "                7         8         9         10        11  \n",
       "0   0     13.45690  15.21930  18.77520   7.00165  14.90970  \n",
       "    0.1   20.37080  16.47880  16.17540   7.60036  15.99170  \n",
       "    0.2   16.87830  20.17850  14.32950   6.85083  21.28800  \n",
       "    0.3   24.74810  23.14750  22.90680   8.91669  23.32580  \n",
       "    0.4   22.97470  25.36830  25.21820   6.15223  29.73170  \n",
       "...            ...       ...       ...       ...       ...  \n",
       "190 0.12   4.63428   4.67924   4.57106   4.74442   4.79032  \n",
       "    0.13  38.46600  42.46290  42.57440  40.55970  44.96210  \n",
       "    0.14   8.90285  10.48090   9.88066   9.61186  10.70270  \n",
       "    0.15   6.38231   6.56449   7.04411   6.35265   6.57341  \n",
       "    0.16  12.77400  13.78880  14.16370  13.03640  13.29500  \n",
       "\n",
       "[3247 rows x 12 columns]"
      ]
     },
     "execution_count": 5,
     "metadata": {},
     "output_type": "execute_result"
    }
   ],
   "source": [
    "# convert the list of Pandas Series objects into a Pandas DataFrame object\n",
    "df_pipeline_list = pd.concat(pipeline_list, axis=1)\n",
    "df_pipeline_list"
   ]
  },
  {
   "cell_type": "code",
   "execution_count": 6,
   "metadata": {},
   "outputs": [],
   "source": [
    "# Rename columns so that they are labelled by the pipeline names\n",
    "new_pipeline_names = ['3-echo ME-ICA', \n",
    " '4-echo ME-ICA',\n",
    " '1-echo baseline',\n",
    " '1-echo + SDC',\n",
    " '3-echo',\n",
    " '3-echo + SDC',\n",
    " '3-echo + T2s',\n",
    " '3-echo + T2s + SDC',\n",
    " '4-echo',\n",
    " '4-echo + SDC',\n",
    " '4-echo + T2s',\n",
    " '4-echo + T2s + SDC']\n",
    "df_pipeline_list.columns = new_pipeline_names"
   ]
  },
  {
   "cell_type": "code",
   "execution_count": 7,
   "metadata": {},
   "outputs": [
    {
     "data": {
      "text/html": [
       "<div>\n",
       "<style scoped>\n",
       "    .dataframe tbody tr th:only-of-type {\n",
       "        vertical-align: middle;\n",
       "    }\n",
       "\n",
       "    .dataframe tbody tr th {\n",
       "        vertical-align: top;\n",
       "    }\n",
       "\n",
       "    .dataframe thead th {\n",
       "        text-align: right;\n",
       "    }\n",
       "</style>\n",
       "<table border=\"1\" class=\"dataframe\">\n",
       "  <thead>\n",
       "    <tr style=\"text-align: right;\">\n",
       "      <th></th>\n",
       "      <th></th>\n",
       "      <th>3-echo ME-ICA</th>\n",
       "      <th>4-echo ME-ICA</th>\n",
       "      <th>1-echo baseline</th>\n",
       "      <th>1-echo + SDC</th>\n",
       "      <th>3-echo</th>\n",
       "      <th>3-echo + SDC</th>\n",
       "      <th>3-echo + T2s</th>\n",
       "      <th>3-echo + T2s + SDC</th>\n",
       "      <th>4-echo</th>\n",
       "      <th>4-echo + SDC</th>\n",
       "      <th>4-echo + T2s</th>\n",
       "      <th>4-echo + T2s + SDC</th>\n",
       "    </tr>\n",
       "  </thead>\n",
       "  <tbody>\n",
       "    <tr>\n",
       "      <th rowspan=\"5\" valign=\"top\">0</th>\n",
       "      <th>0</th>\n",
       "      <td>3.27061</td>\n",
       "      <td>3.26922</td>\n",
       "      <td>8.18908</td>\n",
       "      <td>18.8007</td>\n",
       "      <td>13.47820</td>\n",
       "      <td>13.50270</td>\n",
       "      <td>6.00060</td>\n",
       "      <td>13.45690</td>\n",
       "      <td>15.21930</td>\n",
       "      <td>18.77520</td>\n",
       "      <td>7.00165</td>\n",
       "      <td>14.90970</td>\n",
       "    </tr>\n",
       "    <tr>\n",
       "      <th>0.1</th>\n",
       "      <td>2.49046</td>\n",
       "      <td>3.03093</td>\n",
       "      <td>16.61550</td>\n",
       "      <td>23.5093</td>\n",
       "      <td>15.49000</td>\n",
       "      <td>15.08640</td>\n",
       "      <td>7.03698</td>\n",
       "      <td>20.37080</td>\n",
       "      <td>16.47880</td>\n",
       "      <td>16.17540</td>\n",
       "      <td>7.60036</td>\n",
       "      <td>15.99170</td>\n",
       "    </tr>\n",
       "    <tr>\n",
       "      <th>0.2</th>\n",
       "      <td>2.86700</td>\n",
       "      <td>3.06855</td>\n",
       "      <td>8.22911</td>\n",
       "      <td>18.3823</td>\n",
       "      <td>18.26410</td>\n",
       "      <td>14.66840</td>\n",
       "      <td>5.59414</td>\n",
       "      <td>16.87830</td>\n",
       "      <td>20.17850</td>\n",
       "      <td>14.32950</td>\n",
       "      <td>6.85083</td>\n",
       "      <td>21.28800</td>\n",
       "    </tr>\n",
       "    <tr>\n",
       "      <th>0.3</th>\n",
       "      <td>3.61683</td>\n",
       "      <td>3.82601</td>\n",
       "      <td>21.77850</td>\n",
       "      <td>59.0945</td>\n",
       "      <td>39.43180</td>\n",
       "      <td>20.57370</td>\n",
       "      <td>7.03026</td>\n",
       "      <td>24.74810</td>\n",
       "      <td>23.14750</td>\n",
       "      <td>22.90680</td>\n",
       "      <td>8.91669</td>\n",
       "      <td>23.32580</td>\n",
       "    </tr>\n",
       "    <tr>\n",
       "      <th>0.4</th>\n",
       "      <td>3.20922</td>\n",
       "      <td>3.34560</td>\n",
       "      <td>7.13750</td>\n",
       "      <td>28.3236</td>\n",
       "      <td>22.87900</td>\n",
       "      <td>22.83500</td>\n",
       "      <td>5.25222</td>\n",
       "      <td>22.97470</td>\n",
       "      <td>25.36830</td>\n",
       "      <td>25.21820</td>\n",
       "      <td>6.15223</td>\n",
       "      <td>29.73170</td>\n",
       "    </tr>\n",
       "    <tr>\n",
       "      <th>...</th>\n",
       "      <th>...</th>\n",
       "      <td>...</td>\n",
       "      <td>...</td>\n",
       "      <td>...</td>\n",
       "      <td>...</td>\n",
       "      <td>...</td>\n",
       "      <td>...</td>\n",
       "      <td>...</td>\n",
       "      <td>...</td>\n",
       "      <td>...</td>\n",
       "      <td>...</td>\n",
       "      <td>...</td>\n",
       "      <td>...</td>\n",
       "    </tr>\n",
       "    <tr>\n",
       "      <th rowspan=\"5\" valign=\"top\">190</th>\n",
       "      <th>0.12</th>\n",
       "      <td>2.25133</td>\n",
       "      <td>2.51645</td>\n",
       "      <td>13.40020</td>\n",
       "      <td>13.5402</td>\n",
       "      <td>4.00597</td>\n",
       "      <td>4.24402</td>\n",
       "      <td>4.30930</td>\n",
       "      <td>4.63428</td>\n",
       "      <td>4.67924</td>\n",
       "      <td>4.57106</td>\n",
       "      <td>4.74442</td>\n",
       "      <td>4.79032</td>\n",
       "    </tr>\n",
       "    <tr>\n",
       "      <th>0.13</th>\n",
       "      <td>6.74825</td>\n",
       "      <td>8.52097</td>\n",
       "      <td>30.42650</td>\n",
       "      <td>23.9909</td>\n",
       "      <td>37.70760</td>\n",
       "      <td>39.05880</td>\n",
       "      <td>36.09080</td>\n",
       "      <td>38.46600</td>\n",
       "      <td>42.46290</td>\n",
       "      <td>42.57440</td>\n",
       "      <td>40.55970</td>\n",
       "      <td>44.96210</td>\n",
       "    </tr>\n",
       "    <tr>\n",
       "      <th>0.14</th>\n",
       "      <td>4.51715</td>\n",
       "      <td>4.05079</td>\n",
       "      <td>11.31030</td>\n",
       "      <td>10.8822</td>\n",
       "      <td>8.96405</td>\n",
       "      <td>8.91679</td>\n",
       "      <td>8.69740</td>\n",
       "      <td>8.90285</td>\n",
       "      <td>10.48090</td>\n",
       "      <td>9.88066</td>\n",
       "      <td>9.61186</td>\n",
       "      <td>10.70270</td>\n",
       "    </tr>\n",
       "    <tr>\n",
       "      <th>0.15</th>\n",
       "      <td>2.60696</td>\n",
       "      <td>2.90582</td>\n",
       "      <td>12.27250</td>\n",
       "      <td>12.8591</td>\n",
       "      <td>6.04500</td>\n",
       "      <td>6.25096</td>\n",
       "      <td>5.71284</td>\n",
       "      <td>6.38231</td>\n",
       "      <td>6.56449</td>\n",
       "      <td>7.04411</td>\n",
       "      <td>6.35265</td>\n",
       "      <td>6.57341</td>\n",
       "    </tr>\n",
       "    <tr>\n",
       "      <th>0.16</th>\n",
       "      <td>6.46680</td>\n",
       "      <td>4.78742</td>\n",
       "      <td>14.16430</td>\n",
       "      <td>13.3600</td>\n",
       "      <td>9.57494</td>\n",
       "      <td>9.99594</td>\n",
       "      <td>12.14570</td>\n",
       "      <td>12.77400</td>\n",
       "      <td>13.78880</td>\n",
       "      <td>14.16370</td>\n",
       "      <td>13.03640</td>\n",
       "      <td>13.29500</td>\n",
       "    </tr>\n",
       "  </tbody>\n",
       "</table>\n",
       "<p>3247 rows × 12 columns</p>\n",
       "</div>"
      ],
      "text/plain": [
       "          3-echo ME-ICA  4-echo ME-ICA  1-echo baseline  1-echo + SDC  \\\n",
       "0   0           3.27061        3.26922          8.18908       18.8007   \n",
       "    0.1         2.49046        3.03093         16.61550       23.5093   \n",
       "    0.2         2.86700        3.06855          8.22911       18.3823   \n",
       "    0.3         3.61683        3.82601         21.77850       59.0945   \n",
       "    0.4         3.20922        3.34560          7.13750       28.3236   \n",
       "...                 ...            ...              ...           ...   \n",
       "190 0.12        2.25133        2.51645         13.40020       13.5402   \n",
       "    0.13        6.74825        8.52097         30.42650       23.9909   \n",
       "    0.14        4.51715        4.05079         11.31030       10.8822   \n",
       "    0.15        2.60696        2.90582         12.27250       12.8591   \n",
       "    0.16        6.46680        4.78742         14.16430       13.3600   \n",
       "\n",
       "            3-echo  3-echo + SDC  3-echo + T2s  3-echo + T2s + SDC    4-echo  \\\n",
       "0   0     13.47820      13.50270       6.00060            13.45690  15.21930   \n",
       "    0.1   15.49000      15.08640       7.03698            20.37080  16.47880   \n",
       "    0.2   18.26410      14.66840       5.59414            16.87830  20.17850   \n",
       "    0.3   39.43180      20.57370       7.03026            24.74810  23.14750   \n",
       "    0.4   22.87900      22.83500       5.25222            22.97470  25.36830   \n",
       "...            ...           ...           ...                 ...       ...   \n",
       "190 0.12   4.00597       4.24402       4.30930             4.63428   4.67924   \n",
       "    0.13  37.70760      39.05880      36.09080            38.46600  42.46290   \n",
       "    0.14   8.96405       8.91679       8.69740             8.90285  10.48090   \n",
       "    0.15   6.04500       6.25096       5.71284             6.38231   6.56449   \n",
       "    0.16   9.57494       9.99594      12.14570            12.77400  13.78880   \n",
       "\n",
       "          4-echo + SDC  4-echo + T2s  4-echo + T2s + SDC  \n",
       "0   0         18.77520       7.00165            14.90970  \n",
       "    0.1       16.17540       7.60036            15.99170  \n",
       "    0.2       14.32950       6.85083            21.28800  \n",
       "    0.3       22.90680       8.91669            23.32580  \n",
       "    0.4       25.21820       6.15223            29.73170  \n",
       "...                ...           ...                 ...  \n",
       "190 0.12       4.57106       4.74442             4.79032  \n",
       "    0.13      42.57440      40.55970            44.96210  \n",
       "    0.14       9.88066       9.61186            10.70270  \n",
       "    0.15       7.04411       6.35265             6.57341  \n",
       "    0.16      14.16370      13.03640            13.29500  \n",
       "\n",
       "[3247 rows x 12 columns]"
      ]
     },
     "execution_count": 7,
     "metadata": {},
     "output_type": "execute_result"
    }
   ],
   "source": [
    "# visualise the updated dataframe\n",
    "df_pipeline_list"
   ]
  },
  {
   "cell_type": "code",
   "execution_count": 8,
   "metadata": {},
   "outputs": [
    {
     "data": {
      "text/plain": [
       "0    0       3.27061\n",
       "     0.1     2.49046\n",
       "     0.2     2.86700\n",
       "     0.3     3.61683\n",
       "     0.4     3.20922\n",
       "              ...   \n",
       "190  0.12    2.25133\n",
       "     0.13    6.74825\n",
       "     0.14    4.51715\n",
       "     0.15    2.60696\n",
       "     0.16    6.46680\n",
       "Name: 3-echo ME-ICA, Length: 3247, dtype: float64"
      ]
     },
     "execution_count": 8,
     "metadata": {},
     "output_type": "execute_result"
    }
   ],
   "source": [
    "df_pipeline_list.iloc[:,0]"
   ]
  },
  {
   "cell_type": "code",
   "execution_count": 9,
   "metadata": {},
   "outputs": [
    {
     "name": "stdout",
     "output_type": "stream",
     "text": [
      "The median for 3-echo ME-ICA is = 3.06789\n",
      "The median for 4-echo ME-ICA is = 3.39795\n",
      "The median for 1-echo baseline is = 9.72028\n",
      "The median for 1-echo + SDC is = 9.61166\n",
      "The median for 3-echo is = 6.8628\n",
      "The median for 3-echo + SDC is = 6.95338\n",
      "The median for 3-echo + T2s is = 6.83042\n",
      "The median for 3-echo + T2s + SDC is = 6.9607\n",
      "The median for 4-echo is = 7.75452\n",
      "The median for 4-echo + SDC is = 7.81463\n",
      "The median for 4-echo + T2s is = 7.51995\n",
      "The median for 4-echo + T2s + SDC is = 7.83426\n"
     ]
    }
   ],
   "source": [
    "for i in range(df_pipeline_list.shape[1]):\n",
    "    print('The median for ' + df_pipeline_list.columns[i] + ' is = ' + str(np.median(df_pipeline_list.iloc[:,i])) )"
   ]
  },
  {
   "cell_type": "code",
   "execution_count": null,
   "metadata": {},
   "outputs": [],
   "source": []
  },
  {
   "cell_type": "code",
   "execution_count": 10,
   "metadata": {},
   "outputs": [
    {
     "name": "stdout",
     "output_type": "stream",
     "text": [
      "[('MEICA_3_echo', 'MEICA_4_echo'), ('MEICA_3_echo', '1_echo'), ('MEICA_3_echo', '1_echo_SDC'), ('MEICA_3_echo', '3_echo'), ('MEICA_3_echo', '3_echo_SDC'), ('MEICA_3_echo', '3_echo_T2s'), ('MEICA_3_echo', '3_echo_T2s_SDC'), ('MEICA_3_echo', '4_echo'), ('MEICA_3_echo', '4_echo_SDC'), ('MEICA_3_echo', '4_echo_T2s'), ('MEICA_3_echo', '4_echo_T2s_SDC'), ('MEICA_4_echo', '1_echo'), ('MEICA_4_echo', '1_echo_SDC'), ('MEICA_4_echo', '3_echo'), ('MEICA_4_echo', '3_echo_SDC'), ('MEICA_4_echo', '3_echo_T2s'), ('MEICA_4_echo', '3_echo_T2s_SDC'), ('MEICA_4_echo', '4_echo'), ('MEICA_4_echo', '4_echo_SDC'), ('MEICA_4_echo', '4_echo_T2s'), ('MEICA_4_echo', '4_echo_T2s_SDC'), ('1_echo', '1_echo_SDC'), ('1_echo', '3_echo'), ('1_echo', '3_echo_SDC'), ('1_echo', '3_echo_T2s'), ('1_echo', '3_echo_T2s_SDC'), ('1_echo', '4_echo'), ('1_echo', '4_echo_SDC'), ('1_echo', '4_echo_T2s'), ('1_echo', '4_echo_T2s_SDC'), ('1_echo_SDC', '3_echo'), ('1_echo_SDC', '3_echo_SDC'), ('1_echo_SDC', '3_echo_T2s'), ('1_echo_SDC', '3_echo_T2s_SDC'), ('1_echo_SDC', '4_echo'), ('1_echo_SDC', '4_echo_SDC'), ('1_echo_SDC', '4_echo_T2s'), ('1_echo_SDC', '4_echo_T2s_SDC'), ('3_echo', '3_echo_SDC'), ('3_echo', '3_echo_T2s'), ('3_echo', '3_echo_T2s_SDC'), ('3_echo', '4_echo'), ('3_echo', '4_echo_SDC'), ('3_echo', '4_echo_T2s'), ('3_echo', '4_echo_T2s_SDC'), ('3_echo_SDC', '3_echo_T2s'), ('3_echo_SDC', '3_echo_T2s_SDC'), ('3_echo_SDC', '4_echo'), ('3_echo_SDC', '4_echo_SDC'), ('3_echo_SDC', '4_echo_T2s'), ('3_echo_SDC', '4_echo_T2s_SDC'), ('3_echo_T2s', '3_echo_T2s_SDC'), ('3_echo_T2s', '4_echo'), ('3_echo_T2s', '4_echo_SDC'), ('3_echo_T2s', '4_echo_T2s'), ('3_echo_T2s', '4_echo_T2s_SDC'), ('3_echo_T2s_SDC', '4_echo'), ('3_echo_T2s_SDC', '4_echo_SDC'), ('3_echo_T2s_SDC', '4_echo_T2s'), ('3_echo_T2s_SDC', '4_echo_T2s_SDC'), ('4_echo', '4_echo_SDC'), ('4_echo', '4_echo_T2s'), ('4_echo', '4_echo_T2s_SDC'), ('4_echo_SDC', '4_echo_T2s'), ('4_echo_SDC', '4_echo_T2s_SDC'), ('4_echo_T2s', '4_echo_T2s_SDC')]\n",
      "66\n"
     ]
    }
   ],
   "source": [
    "# create a list that contains all possible pairs of pipelines WITHOUT repetitions!!\n",
    "combo_list = list(itertools.combinations(pipeline_names, 2))\n",
    "print(combo_list)\n",
    "# to see how many comparisons would be made\n",
    "print(len(combo_list))"
   ]
  },
  {
   "cell_type": "code",
   "execution_count": null,
   "metadata": {},
   "outputs": [],
   "source": []
  },
  {
   "cell_type": "code",
   "execution_count": 14,
   "metadata": {},
   "outputs": [],
   "source": [
    "# multiple comparisons correction\n",
    "# Bonferroni is not appropriate (and too stringent) as the samples are not independent !!!\n",
    "# Perhaps calculate p-values and correct using scipy.stats and module below \n",
    "# and then use those 'custom' corrected p-values for statannot\n",
    "# https://www.statsmodels.org/dev/generated/statsmodels.stats.multitest.multipletests.html"
   ]
  },
  {
   "cell_type": "code",
   "execution_count": 15,
   "metadata": {},
   "outputs": [],
   "source": [
    "# Copy from the mFD-FC script!!!!!"
   ]
  },
  {
   "cell_type": "code",
   "execution_count": 52,
   "metadata": {},
   "outputs": [],
   "source": [
    "\n",
    "\n",
    "# create the boxplot using seaborn instead of matplotlib\n",
    "#sb_ax = sns.boxplot(data=pipeline_list, showfliers=False)\n",
    "\n",
    "# plot it after a Wilcoxon test for significance \n",
    "#test_results = add_stat_annotation(sb_ax, data=df_pipeline_list,\n",
    "#                                   box_pairs=[combo_list[n] for n in range(len(combo_list))],\n",
    "#                                   test='Wilcoxon', text_format='star',\n",
    "#                                   loc='inside', verbose=2)\n",
    "#test_results"
   ]
  },
  {
   "cell_type": "code",
   "execution_count": null,
   "metadata": {},
   "outputs": [],
   "source": []
  },
  {
   "cell_type": "code",
   "execution_count": 11,
   "metadata": {},
   "outputs": [
    {
     "ename": "KeyError",
     "evalue": "'MEICA_3_echo'",
     "output_type": "error",
     "traceback": [
      "\u001b[0;31m---------------------------------------------------------------------------\u001b[0m",
      "\u001b[0;31mKeyError\u001b[0m                                  Traceback (most recent call last)",
      "\u001b[0;32m/opt/anaconda3/lib/python3.7/site-packages/pandas/core/indexes/base.py\u001b[0m in \u001b[0;36mget_loc\u001b[0;34m(self, key, method, tolerance)\u001b[0m\n\u001b[1;32m   2897\u001b[0m             \u001b[0;32mtry\u001b[0m\u001b[0;34m:\u001b[0m\u001b[0;34m\u001b[0m\u001b[0;34m\u001b[0m\u001b[0m\n\u001b[0;32m-> 2898\u001b[0;31m                 \u001b[0;32mreturn\u001b[0m \u001b[0mself\u001b[0m\u001b[0;34m.\u001b[0m\u001b[0m_engine\u001b[0m\u001b[0;34m.\u001b[0m\u001b[0mget_loc\u001b[0m\u001b[0;34m(\u001b[0m\u001b[0mcasted_key\u001b[0m\u001b[0;34m)\u001b[0m\u001b[0;34m\u001b[0m\u001b[0;34m\u001b[0m\u001b[0m\n\u001b[0m\u001b[1;32m   2899\u001b[0m             \u001b[0;32mexcept\u001b[0m \u001b[0mKeyError\u001b[0m \u001b[0;32mas\u001b[0m \u001b[0merr\u001b[0m\u001b[0;34m:\u001b[0m\u001b[0;34m\u001b[0m\u001b[0;34m\u001b[0m\u001b[0m\n",
      "\u001b[0;32mpandas/_libs/index.pyx\u001b[0m in \u001b[0;36mpandas._libs.index.IndexEngine.get_loc\u001b[0;34m()\u001b[0m\n",
      "\u001b[0;32mpandas/_libs/index.pyx\u001b[0m in \u001b[0;36mpandas._libs.index.IndexEngine.get_loc\u001b[0;34m()\u001b[0m\n",
      "\u001b[0;32mpandas/_libs/hashtable_class_helper.pxi\u001b[0m in \u001b[0;36mpandas._libs.hashtable.PyObjectHashTable.get_item\u001b[0;34m()\u001b[0m\n",
      "\u001b[0;32mpandas/_libs/hashtable_class_helper.pxi\u001b[0m in \u001b[0;36mpandas._libs.hashtable.PyObjectHashTable.get_item\u001b[0;34m()\u001b[0m\n",
      "\u001b[0;31mKeyError\u001b[0m: 'MEICA_3_echo'",
      "\nThe above exception was the direct cause of the following exception:\n",
      "\u001b[0;31mKeyError\u001b[0m                                  Traceback (most recent call last)",
      "\u001b[0;32m<ipython-input-11-264af3b784d3>\u001b[0m in \u001b[0;36m<module>\u001b[0;34m\u001b[0m\n\u001b[1;32m      3\u001b[0m     \u001b[0mcombo_cont1\u001b[0m \u001b[0;34m=\u001b[0m \u001b[0mcombo_list\u001b[0m\u001b[0;34m[\u001b[0m\u001b[0mn\u001b[0m\u001b[0;34m]\u001b[0m\u001b[0;34m[\u001b[0m\u001b[0;36m0\u001b[0m\u001b[0;34m]\u001b[0m\u001b[0;34m\u001b[0m\u001b[0;34m\u001b[0m\u001b[0m\n\u001b[1;32m      4\u001b[0m     \u001b[0mcombo_cont2\u001b[0m \u001b[0;34m=\u001b[0m \u001b[0mcombo_list\u001b[0m\u001b[0;34m[\u001b[0m\u001b[0mn\u001b[0m\u001b[0;34m]\u001b[0m\u001b[0;34m[\u001b[0m\u001b[0;36m1\u001b[0m\u001b[0;34m]\u001b[0m\u001b[0;34m\u001b[0m\u001b[0;34m\u001b[0m\u001b[0m\n\u001b[0;32m----> 5\u001b[0;31m     \u001b[0mw\u001b[0m\u001b[0;34m,\u001b[0m \u001b[0mp\u001b[0m \u001b[0;34m=\u001b[0m \u001b[0mwilcoxon\u001b[0m\u001b[0;34m(\u001b[0m\u001b[0mdf_pipeline_list\u001b[0m\u001b[0;34m.\u001b[0m\u001b[0mloc\u001b[0m\u001b[0;34m[\u001b[0m\u001b[0;34m:\u001b[0m\u001b[0;34m,\u001b[0m \u001b[0mcombo_cont1\u001b[0m\u001b[0;34m]\u001b[0m\u001b[0;34m,\u001b[0m \u001b[0mdf_pipeline_list\u001b[0m\u001b[0;34m.\u001b[0m\u001b[0mloc\u001b[0m\u001b[0;34m[\u001b[0m\u001b[0;34m:\u001b[0m\u001b[0;34m,\u001b[0m \u001b[0mcombo_cont2\u001b[0m\u001b[0;34m]\u001b[0m\u001b[0;34m)\u001b[0m\u001b[0;34m\u001b[0m\u001b[0;34m\u001b[0m\u001b[0m\n\u001b[0m\u001b[1;32m      6\u001b[0m     \u001b[0muncorrected_p_vals\u001b[0m\u001b[0;34m.\u001b[0m\u001b[0mappend\u001b[0m\u001b[0;34m(\u001b[0m\u001b[0mp\u001b[0m\u001b[0;34m)\u001b[0m\u001b[0;34m\u001b[0m\u001b[0;34m\u001b[0m\u001b[0m\n\u001b[1;32m      7\u001b[0m \u001b[0muncorrected_p_vals\u001b[0m\u001b[0;34m\u001b[0m\u001b[0;34m\u001b[0m\u001b[0m\n",
      "\u001b[0;32m/opt/anaconda3/lib/python3.7/site-packages/pandas/core/indexing.py\u001b[0m in \u001b[0;36m__getitem__\u001b[0;34m(self, key)\u001b[0m\n\u001b[1;32m    871\u001b[0m                     \u001b[0;31m# AttributeError for IntervalTree get_value\u001b[0m\u001b[0;34m\u001b[0m\u001b[0;34m\u001b[0m\u001b[0;34m\u001b[0m\u001b[0m\n\u001b[1;32m    872\u001b[0m                     \u001b[0;32mpass\u001b[0m\u001b[0;34m\u001b[0m\u001b[0;34m\u001b[0m\u001b[0m\n\u001b[0;32m--> 873\u001b[0;31m             \u001b[0;32mreturn\u001b[0m \u001b[0mself\u001b[0m\u001b[0;34m.\u001b[0m\u001b[0m_getitem_tuple\u001b[0m\u001b[0;34m(\u001b[0m\u001b[0mkey\u001b[0m\u001b[0;34m)\u001b[0m\u001b[0;34m\u001b[0m\u001b[0;34m\u001b[0m\u001b[0m\n\u001b[0m\u001b[1;32m    874\u001b[0m         \u001b[0;32melse\u001b[0m\u001b[0;34m:\u001b[0m\u001b[0;34m\u001b[0m\u001b[0;34m\u001b[0m\u001b[0m\n\u001b[1;32m    875\u001b[0m             \u001b[0;31m# we by definition only have the 0th axis\u001b[0m\u001b[0;34m\u001b[0m\u001b[0;34m\u001b[0m\u001b[0;34m\u001b[0m\u001b[0m\n",
      "\u001b[0;32m/opt/anaconda3/lib/python3.7/site-packages/pandas/core/indexing.py\u001b[0m in \u001b[0;36m_getitem_tuple\u001b[0;34m(self, tup)\u001b[0m\n\u001b[1;32m   1042\u001b[0m     \u001b[0;32mdef\u001b[0m \u001b[0m_getitem_tuple\u001b[0m\u001b[0;34m(\u001b[0m\u001b[0mself\u001b[0m\u001b[0;34m,\u001b[0m \u001b[0mtup\u001b[0m\u001b[0;34m:\u001b[0m \u001b[0mTuple\u001b[0m\u001b[0;34m)\u001b[0m\u001b[0;34m:\u001b[0m\u001b[0;34m\u001b[0m\u001b[0;34m\u001b[0m\u001b[0m\n\u001b[1;32m   1043\u001b[0m         \u001b[0;32mtry\u001b[0m\u001b[0;34m:\u001b[0m\u001b[0;34m\u001b[0m\u001b[0;34m\u001b[0m\u001b[0m\n\u001b[0;32m-> 1044\u001b[0;31m             \u001b[0;32mreturn\u001b[0m \u001b[0mself\u001b[0m\u001b[0;34m.\u001b[0m\u001b[0m_getitem_lowerdim\u001b[0m\u001b[0;34m(\u001b[0m\u001b[0mtup\u001b[0m\u001b[0;34m)\u001b[0m\u001b[0;34m\u001b[0m\u001b[0;34m\u001b[0m\u001b[0m\n\u001b[0m\u001b[1;32m   1045\u001b[0m         \u001b[0;32mexcept\u001b[0m \u001b[0mIndexingError\u001b[0m\u001b[0;34m:\u001b[0m\u001b[0;34m\u001b[0m\u001b[0;34m\u001b[0m\u001b[0m\n\u001b[1;32m   1046\u001b[0m             \u001b[0;32mpass\u001b[0m\u001b[0;34m\u001b[0m\u001b[0;34m\u001b[0m\u001b[0m\n",
      "\u001b[0;32m/opt/anaconda3/lib/python3.7/site-packages/pandas/core/indexing.py\u001b[0m in \u001b[0;36m_getitem_lowerdim\u001b[0;34m(self, tup)\u001b[0m\n\u001b[1;32m    764\u001b[0m         \u001b[0;31m# we may have a nested tuples indexer here\u001b[0m\u001b[0;34m\u001b[0m\u001b[0;34m\u001b[0m\u001b[0;34m\u001b[0m\u001b[0m\n\u001b[1;32m    765\u001b[0m         \u001b[0;32mif\u001b[0m \u001b[0mself\u001b[0m\u001b[0;34m.\u001b[0m\u001b[0m_is_nested_tuple_indexer\u001b[0m\u001b[0;34m(\u001b[0m\u001b[0mtup\u001b[0m\u001b[0;34m)\u001b[0m\u001b[0;34m:\u001b[0m\u001b[0;34m\u001b[0m\u001b[0;34m\u001b[0m\u001b[0m\n\u001b[0;32m--> 766\u001b[0;31m             \u001b[0;32mreturn\u001b[0m \u001b[0mself\u001b[0m\u001b[0;34m.\u001b[0m\u001b[0m_getitem_nested_tuple\u001b[0m\u001b[0;34m(\u001b[0m\u001b[0mtup\u001b[0m\u001b[0;34m)\u001b[0m\u001b[0;34m\u001b[0m\u001b[0;34m\u001b[0m\u001b[0m\n\u001b[0m\u001b[1;32m    767\u001b[0m \u001b[0;34m\u001b[0m\u001b[0m\n\u001b[1;32m    768\u001b[0m         \u001b[0;31m# we maybe be using a tuple to represent multiple dimensions here\u001b[0m\u001b[0;34m\u001b[0m\u001b[0;34m\u001b[0m\u001b[0;34m\u001b[0m\u001b[0m\n",
      "\u001b[0;32m/opt/anaconda3/lib/python3.7/site-packages/pandas/core/indexing.py\u001b[0m in \u001b[0;36m_getitem_nested_tuple\u001b[0;34m(self, tup)\u001b[0m\n\u001b[1;32m    845\u001b[0m \u001b[0;34m\u001b[0m\u001b[0m\n\u001b[1;32m    846\u001b[0m             \u001b[0mcurrent_ndim\u001b[0m \u001b[0;34m=\u001b[0m \u001b[0mobj\u001b[0m\u001b[0;34m.\u001b[0m\u001b[0mndim\u001b[0m\u001b[0;34m\u001b[0m\u001b[0;34m\u001b[0m\u001b[0m\n\u001b[0;32m--> 847\u001b[0;31m             \u001b[0mobj\u001b[0m \u001b[0;34m=\u001b[0m \u001b[0mgetattr\u001b[0m\u001b[0;34m(\u001b[0m\u001b[0mobj\u001b[0m\u001b[0;34m,\u001b[0m \u001b[0mself\u001b[0m\u001b[0;34m.\u001b[0m\u001b[0mname\u001b[0m\u001b[0;34m)\u001b[0m\u001b[0;34m.\u001b[0m\u001b[0m_getitem_axis\u001b[0m\u001b[0;34m(\u001b[0m\u001b[0mkey\u001b[0m\u001b[0;34m,\u001b[0m \u001b[0maxis\u001b[0m\u001b[0;34m=\u001b[0m\u001b[0maxis\u001b[0m\u001b[0;34m)\u001b[0m\u001b[0;34m\u001b[0m\u001b[0;34m\u001b[0m\u001b[0m\n\u001b[0m\u001b[1;32m    848\u001b[0m             \u001b[0maxis\u001b[0m \u001b[0;34m+=\u001b[0m \u001b[0;36m1\u001b[0m\u001b[0;34m\u001b[0m\u001b[0;34m\u001b[0m\u001b[0m\n\u001b[1;32m    849\u001b[0m \u001b[0;34m\u001b[0m\u001b[0m\n",
      "\u001b[0;32m/opt/anaconda3/lib/python3.7/site-packages/pandas/core/indexing.py\u001b[0m in \u001b[0;36m_getitem_axis\u001b[0;34m(self, key, axis)\u001b[0m\n\u001b[1;32m   1108\u001b[0m         \u001b[0;31m# fall thru to straight lookup\u001b[0m\u001b[0;34m\u001b[0m\u001b[0;34m\u001b[0m\u001b[0;34m\u001b[0m\u001b[0m\n\u001b[1;32m   1109\u001b[0m         \u001b[0mself\u001b[0m\u001b[0;34m.\u001b[0m\u001b[0m_validate_key\u001b[0m\u001b[0;34m(\u001b[0m\u001b[0mkey\u001b[0m\u001b[0;34m,\u001b[0m \u001b[0maxis\u001b[0m\u001b[0;34m)\u001b[0m\u001b[0;34m\u001b[0m\u001b[0;34m\u001b[0m\u001b[0m\n\u001b[0;32m-> 1110\u001b[0;31m         \u001b[0;32mreturn\u001b[0m \u001b[0mself\u001b[0m\u001b[0;34m.\u001b[0m\u001b[0m_get_label\u001b[0m\u001b[0;34m(\u001b[0m\u001b[0mkey\u001b[0m\u001b[0;34m,\u001b[0m \u001b[0maxis\u001b[0m\u001b[0;34m=\u001b[0m\u001b[0maxis\u001b[0m\u001b[0;34m)\u001b[0m\u001b[0;34m\u001b[0m\u001b[0;34m\u001b[0m\u001b[0m\n\u001b[0m\u001b[1;32m   1111\u001b[0m \u001b[0;34m\u001b[0m\u001b[0m\n\u001b[1;32m   1112\u001b[0m     \u001b[0;32mdef\u001b[0m \u001b[0m_get_slice_axis\u001b[0m\u001b[0;34m(\u001b[0m\u001b[0mself\u001b[0m\u001b[0;34m,\u001b[0m \u001b[0mslice_obj\u001b[0m\u001b[0;34m:\u001b[0m \u001b[0mslice\u001b[0m\u001b[0;34m,\u001b[0m \u001b[0maxis\u001b[0m\u001b[0;34m:\u001b[0m \u001b[0mint\u001b[0m\u001b[0;34m)\u001b[0m\u001b[0;34m:\u001b[0m\u001b[0;34m\u001b[0m\u001b[0;34m\u001b[0m\u001b[0m\n",
      "\u001b[0;32m/opt/anaconda3/lib/python3.7/site-packages/pandas/core/indexing.py\u001b[0m in \u001b[0;36m_get_label\u001b[0;34m(self, label, axis)\u001b[0m\n\u001b[1;32m   1057\u001b[0m     \u001b[0;32mdef\u001b[0m \u001b[0m_get_label\u001b[0m\u001b[0;34m(\u001b[0m\u001b[0mself\u001b[0m\u001b[0;34m,\u001b[0m \u001b[0mlabel\u001b[0m\u001b[0;34m,\u001b[0m \u001b[0maxis\u001b[0m\u001b[0;34m:\u001b[0m \u001b[0mint\u001b[0m\u001b[0;34m)\u001b[0m\u001b[0;34m:\u001b[0m\u001b[0;34m\u001b[0m\u001b[0;34m\u001b[0m\u001b[0m\n\u001b[1;32m   1058\u001b[0m         \u001b[0;31m# GH#5667 this will fail if the label is not present in the axis.\u001b[0m\u001b[0;34m\u001b[0m\u001b[0;34m\u001b[0m\u001b[0;34m\u001b[0m\u001b[0m\n\u001b[0;32m-> 1059\u001b[0;31m         \u001b[0;32mreturn\u001b[0m \u001b[0mself\u001b[0m\u001b[0;34m.\u001b[0m\u001b[0mobj\u001b[0m\u001b[0;34m.\u001b[0m\u001b[0mxs\u001b[0m\u001b[0;34m(\u001b[0m\u001b[0mlabel\u001b[0m\u001b[0;34m,\u001b[0m \u001b[0maxis\u001b[0m\u001b[0;34m=\u001b[0m\u001b[0maxis\u001b[0m\u001b[0;34m)\u001b[0m\u001b[0;34m\u001b[0m\u001b[0;34m\u001b[0m\u001b[0m\n\u001b[0m\u001b[1;32m   1060\u001b[0m \u001b[0;34m\u001b[0m\u001b[0m\n\u001b[1;32m   1061\u001b[0m     \u001b[0;32mdef\u001b[0m \u001b[0m_handle_lowerdim_multi_index_axis0\u001b[0m\u001b[0;34m(\u001b[0m\u001b[0mself\u001b[0m\u001b[0;34m,\u001b[0m \u001b[0mtup\u001b[0m\u001b[0;34m:\u001b[0m \u001b[0mTuple\u001b[0m\u001b[0;34m)\u001b[0m\u001b[0;34m:\u001b[0m\u001b[0;34m\u001b[0m\u001b[0;34m\u001b[0m\u001b[0m\n",
      "\u001b[0;32m/opt/anaconda3/lib/python3.7/site-packages/pandas/core/generic.py\u001b[0m in \u001b[0;36mxs\u001b[0;34m(self, key, axis, level, drop_level)\u001b[0m\n\u001b[1;32m   3483\u001b[0m \u001b[0;34m\u001b[0m\u001b[0m\n\u001b[1;32m   3484\u001b[0m         \u001b[0;32mif\u001b[0m \u001b[0maxis\u001b[0m \u001b[0;34m==\u001b[0m \u001b[0;36m1\u001b[0m\u001b[0;34m:\u001b[0m\u001b[0;34m\u001b[0m\u001b[0;34m\u001b[0m\u001b[0m\n\u001b[0;32m-> 3485\u001b[0;31m             \u001b[0;32mreturn\u001b[0m \u001b[0mself\u001b[0m\u001b[0;34m[\u001b[0m\u001b[0mkey\u001b[0m\u001b[0;34m]\u001b[0m\u001b[0;34m\u001b[0m\u001b[0;34m\u001b[0m\u001b[0m\n\u001b[0m\u001b[1;32m   3486\u001b[0m \u001b[0;34m\u001b[0m\u001b[0m\n\u001b[1;32m   3487\u001b[0m         \u001b[0mself\u001b[0m\u001b[0;34m.\u001b[0m\u001b[0m_consolidate_inplace\u001b[0m\u001b[0;34m(\u001b[0m\u001b[0;34m)\u001b[0m\u001b[0;34m\u001b[0m\u001b[0;34m\u001b[0m\u001b[0m\n",
      "\u001b[0;32m/opt/anaconda3/lib/python3.7/site-packages/pandas/core/frame.py\u001b[0m in \u001b[0;36m__getitem__\u001b[0;34m(self, key)\u001b[0m\n\u001b[1;32m   2904\u001b[0m             \u001b[0;32mif\u001b[0m \u001b[0mself\u001b[0m\u001b[0;34m.\u001b[0m\u001b[0mcolumns\u001b[0m\u001b[0;34m.\u001b[0m\u001b[0mnlevels\u001b[0m \u001b[0;34m>\u001b[0m \u001b[0;36m1\u001b[0m\u001b[0;34m:\u001b[0m\u001b[0;34m\u001b[0m\u001b[0;34m\u001b[0m\u001b[0m\n\u001b[1;32m   2905\u001b[0m                 \u001b[0;32mreturn\u001b[0m \u001b[0mself\u001b[0m\u001b[0;34m.\u001b[0m\u001b[0m_getitem_multilevel\u001b[0m\u001b[0;34m(\u001b[0m\u001b[0mkey\u001b[0m\u001b[0;34m)\u001b[0m\u001b[0;34m\u001b[0m\u001b[0;34m\u001b[0m\u001b[0m\n\u001b[0;32m-> 2906\u001b[0;31m             \u001b[0mindexer\u001b[0m \u001b[0;34m=\u001b[0m \u001b[0mself\u001b[0m\u001b[0;34m.\u001b[0m\u001b[0mcolumns\u001b[0m\u001b[0;34m.\u001b[0m\u001b[0mget_loc\u001b[0m\u001b[0;34m(\u001b[0m\u001b[0mkey\u001b[0m\u001b[0;34m)\u001b[0m\u001b[0;34m\u001b[0m\u001b[0;34m\u001b[0m\u001b[0m\n\u001b[0m\u001b[1;32m   2907\u001b[0m             \u001b[0;32mif\u001b[0m \u001b[0mis_integer\u001b[0m\u001b[0;34m(\u001b[0m\u001b[0mindexer\u001b[0m\u001b[0;34m)\u001b[0m\u001b[0;34m:\u001b[0m\u001b[0;34m\u001b[0m\u001b[0;34m\u001b[0m\u001b[0m\n\u001b[1;32m   2908\u001b[0m                 \u001b[0mindexer\u001b[0m \u001b[0;34m=\u001b[0m \u001b[0;34m[\u001b[0m\u001b[0mindexer\u001b[0m\u001b[0;34m]\u001b[0m\u001b[0;34m\u001b[0m\u001b[0;34m\u001b[0m\u001b[0m\n",
      "\u001b[0;32m/opt/anaconda3/lib/python3.7/site-packages/pandas/core/indexes/base.py\u001b[0m in \u001b[0;36mget_loc\u001b[0;34m(self, key, method, tolerance)\u001b[0m\n\u001b[1;32m   2898\u001b[0m                 \u001b[0;32mreturn\u001b[0m \u001b[0mself\u001b[0m\u001b[0;34m.\u001b[0m\u001b[0m_engine\u001b[0m\u001b[0;34m.\u001b[0m\u001b[0mget_loc\u001b[0m\u001b[0;34m(\u001b[0m\u001b[0mcasted_key\u001b[0m\u001b[0;34m)\u001b[0m\u001b[0;34m\u001b[0m\u001b[0;34m\u001b[0m\u001b[0m\n\u001b[1;32m   2899\u001b[0m             \u001b[0;32mexcept\u001b[0m \u001b[0mKeyError\u001b[0m \u001b[0;32mas\u001b[0m \u001b[0merr\u001b[0m\u001b[0;34m:\u001b[0m\u001b[0;34m\u001b[0m\u001b[0;34m\u001b[0m\u001b[0m\n\u001b[0;32m-> 2900\u001b[0;31m                 \u001b[0;32mraise\u001b[0m \u001b[0mKeyError\u001b[0m\u001b[0;34m(\u001b[0m\u001b[0mkey\u001b[0m\u001b[0;34m)\u001b[0m \u001b[0;32mfrom\u001b[0m \u001b[0merr\u001b[0m\u001b[0;34m\u001b[0m\u001b[0;34m\u001b[0m\u001b[0m\n\u001b[0m\u001b[1;32m   2901\u001b[0m \u001b[0;34m\u001b[0m\u001b[0m\n\u001b[1;32m   2902\u001b[0m         \u001b[0;32mif\u001b[0m \u001b[0mtolerance\u001b[0m \u001b[0;32mis\u001b[0m \u001b[0;32mnot\u001b[0m \u001b[0;32mNone\u001b[0m\u001b[0;34m:\u001b[0m\u001b[0;34m\u001b[0m\u001b[0;34m\u001b[0m\u001b[0m\n",
      "\u001b[0;31mKeyError\u001b[0m: 'MEICA_3_echo'"
     ]
    }
   ],
   "source": [
    "uncorrected_p_vals = []\n",
    "for n in range(len(combo_list)):\n",
    "    combo_cont1 = combo_list[n][0]\n",
    "    combo_cont2 = combo_list[n][1]\n",
    "    w, p = wilcoxon(df_pipeline_list.loc[:, combo_cont1], df_pipeline_list.loc[:, combo_cont2])\n",
    "    uncorrected_p_vals.append(p)\n",
    "uncorrected_p_vals"
   ]
  },
  {
   "cell_type": "code",
   "execution_count": 12,
   "metadata": {},
   "outputs": [
    {
     "data": {
      "text/plain": [
       "(array([ True,  True,  True,  True,  True,  True,  True,  True,  True,\n",
       "         True,  True,  True,  True,  True,  True,  True,  True,  True,\n",
       "         True,  True,  True,  True,  True,  True,  True,  True,  True,\n",
       "         True,  True,  True,  True,  True,  True,  True,  True,  True,\n",
       "         True,  True,  True,  True,  True,  True,  True,  True,  True,\n",
       "         True,  True,  True,  True,  True,  True,  True,  True,  True,\n",
       "         True,  True,  True,  True,  True,  True,  True,  True,  True,\n",
       "         True,  True,  True]),\n",
       " array([2.36514237e-242, 0.00000000e+000, 0.00000000e+000, 0.00000000e+000,\n",
       "        0.00000000e+000, 0.00000000e+000, 0.00000000e+000, 0.00000000e+000,\n",
       "        0.00000000e+000, 0.00000000e+000, 0.00000000e+000, 0.00000000e+000,\n",
       "        0.00000000e+000, 0.00000000e+000, 0.00000000e+000, 0.00000000e+000,\n",
       "        0.00000000e+000, 0.00000000e+000, 0.00000000e+000, 0.00000000e+000,\n",
       "        0.00000000e+000, 6.30344994e-003, 0.00000000e+000, 0.00000000e+000,\n",
       "        0.00000000e+000, 0.00000000e+000, 4.97139610e-311, 7.40616940e-304,\n",
       "        0.00000000e+000, 3.75164701e-288, 0.00000000e+000, 0.00000000e+000,\n",
       "        0.00000000e+000, 0.00000000e+000, 0.00000000e+000, 0.00000000e+000,\n",
       "        0.00000000e+000, 0.00000000e+000, 2.75806304e-008, 1.66863211e-038,\n",
       "        4.75984259e-009, 0.00000000e+000, 0.00000000e+000, 1.35944061e-283,\n",
       "        0.00000000e+000, 1.16684266e-054, 1.67768065e-003, 0.00000000e+000,\n",
       "        0.00000000e+000, 1.05013416e-253, 0.00000000e+000, 5.44500853e-058,\n",
       "        0.00000000e+000, 0.00000000e+000, 0.00000000e+000, 0.00000000e+000,\n",
       "        0.00000000e+000, 0.00000000e+000, 5.38535826e-262, 0.00000000e+000,\n",
       "        1.42236793e-010, 1.09864672e-075, 1.54772504e-023, 2.46020990e-096,\n",
       "        7.35431224e-006, 8.63043426e-128]),\n",
       " 0.0007768692078230499,\n",
       " 0.0007575757575757576)"
      ]
     },
     "execution_count": 12,
     "metadata": {},
     "output_type": "execute_result"
    }
   ],
   "source": [
    "# Correct the p-values using the FDR method\n",
    "# and more specifically, one of the newer variations (https://www.jstor.org/stable/20441303?seq=1)\n",
    "corrected_p_vals_extra = multipletests(uncorrected_p_vals, alpha=0.05, method='fdr_tsbky')\n",
    "corrected_p_vals_extra"
   ]
  },
  {
   "cell_type": "code",
   "execution_count": 13,
   "metadata": {},
   "outputs": [
    {
     "data": {
      "text/plain": [
       "array([2.36514237e-242, 0.00000000e+000, 0.00000000e+000, 0.00000000e+000,\n",
       "       0.00000000e+000, 0.00000000e+000, 0.00000000e+000, 0.00000000e+000,\n",
       "       0.00000000e+000, 0.00000000e+000, 0.00000000e+000, 0.00000000e+000,\n",
       "       0.00000000e+000, 0.00000000e+000, 0.00000000e+000, 0.00000000e+000,\n",
       "       0.00000000e+000, 0.00000000e+000, 0.00000000e+000, 0.00000000e+000,\n",
       "       0.00000000e+000, 6.30344994e-003, 0.00000000e+000, 0.00000000e+000,\n",
       "       0.00000000e+000, 0.00000000e+000, 4.97139610e-311, 7.40616940e-304,\n",
       "       0.00000000e+000, 3.75164701e-288, 0.00000000e+000, 0.00000000e+000,\n",
       "       0.00000000e+000, 0.00000000e+000, 0.00000000e+000, 0.00000000e+000,\n",
       "       0.00000000e+000, 0.00000000e+000, 2.75806304e-008, 1.66863211e-038,\n",
       "       4.75984259e-009, 0.00000000e+000, 0.00000000e+000, 1.35944061e-283,\n",
       "       0.00000000e+000, 1.16684266e-054, 1.67768065e-003, 0.00000000e+000,\n",
       "       0.00000000e+000, 1.05013416e-253, 0.00000000e+000, 5.44500853e-058,\n",
       "       0.00000000e+000, 0.00000000e+000, 0.00000000e+000, 0.00000000e+000,\n",
       "       0.00000000e+000, 0.00000000e+000, 5.38535826e-262, 0.00000000e+000,\n",
       "       1.42236793e-010, 1.09864672e-075, 1.54772504e-023, 2.46020990e-096,\n",
       "       7.35431224e-006, 8.63043426e-128])"
      ]
     },
     "execution_count": 13,
     "metadata": {},
     "output_type": "execute_result"
    }
   ],
   "source": [
    "corrected_p_vals = corrected_p_vals_extra[1]\n",
    "corrected_p_vals"
   ]
  },
  {
   "cell_type": "code",
   "execution_count": 14,
   "metadata": {},
   "outputs": [
    {
     "name": "stdout",
     "output_type": "stream",
     "text": [
      "Values bigger than 0.05 = [2.36514237e-242 0.00000000e+000 0.00000000e+000 0.00000000e+000\n",
      " 0.00000000e+000 0.00000000e+000 0.00000000e+000 0.00000000e+000\n",
      " 0.00000000e+000 0.00000000e+000 0.00000000e+000 0.00000000e+000\n",
      " 0.00000000e+000 0.00000000e+000 0.00000000e+000 0.00000000e+000\n",
      " 0.00000000e+000 0.00000000e+000 0.00000000e+000 0.00000000e+000\n",
      " 0.00000000e+000 6.30344994e-003 0.00000000e+000 0.00000000e+000\n",
      " 0.00000000e+000 0.00000000e+000 4.97139610e-311 7.40616940e-304\n",
      " 0.00000000e+000 3.75164701e-288 0.00000000e+000 0.00000000e+000\n",
      " 0.00000000e+000 0.00000000e+000 0.00000000e+000 0.00000000e+000\n",
      " 0.00000000e+000 0.00000000e+000 2.75806304e-008 1.66863211e-038\n",
      " 4.75984259e-009 0.00000000e+000 0.00000000e+000 1.35944061e-283\n",
      " 0.00000000e+000 1.16684266e-054 1.67768065e-003 0.00000000e+000\n",
      " 0.00000000e+000 1.05013416e-253 0.00000000e+000 5.44500853e-058\n",
      " 0.00000000e+000 0.00000000e+000 0.00000000e+000 0.00000000e+000\n",
      " 0.00000000e+000 0.00000000e+000 5.38535826e-262 0.00000000e+000\n",
      " 1.42236793e-010 1.09864672e-075 1.54772504e-023 2.46020990e-096\n",
      " 7.35431224e-006 8.63043426e-128]\n"
     ]
    }
   ],
   "source": [
    "print(\"Values bigger than 0.05 =\", corrected_p_vals[corrected_p_vals < 0.01])"
   ]
  },
  {
   "cell_type": "code",
   "execution_count": 42,
   "metadata": {},
   "outputs": [
    {
     "name": "stderr",
     "output_type": "stream",
     "text": [
      "/opt/anaconda3/lib/python3.7/site-packages/ipykernel_launcher.py:7: UserWarning: FixedFormatter should only be used together with FixedLocator\n",
      "  import sys\n",
      "/opt/anaconda3/lib/python3.7/site-packages/ipykernel_launcher.py:8: UserWarning: FixedFormatter should only be used together with FixedLocator\n",
      "  \n"
     ]
    },
    {
     "data": {
      "image/png": "[encoded data removed]",
      "text/plain": [
       "<Figure size 2304x1944 with 1 Axes>"
      ]
     },
     "metadata": {},
     "output_type": "display_data"
    }
   ],
   "source": [
    "plt.rcParams[\"axes.labelsize\"] = 33\n",
    "\n",
    "# create the boxplot using seaborn instead of matplotlib\n",
    "fig, ax = plt.subplots(figsize=(32,27))\n",
    "sns.set(font_scale = 2)\n",
    "ax.tick_params(axis='both', which='both', labelsize=15)\n",
    "ax.set_xticklabels(new_pipeline_names, rotation=45, fontsize=25)\n",
    "ax.set_yticklabels(['0', '5', '10', '15', '20'], rotation=0, fontsize=25)\n",
    "ax.xaxis.labelpad = 20\n",
    "\n",
    "# these are matplotlib.patch.Patch properties\n",
    "props = dict(boxstyle='round', \n",
    "             #facecolor='wheat', \n",
    "             alpha=0.5)\n",
    "\n",
    "# place a text box in upper right in axes coords\n",
    "textstr = 'All inter-pipeline differences are statistically significant (all FDR-corrected p-values <0.01)'\n",
    "ax.text(0.35, 0.95, textstr, transform=ax.transAxes, fontsize=28,\n",
    "        verticalalignment='top', bbox=props)\n",
    "\n",
    "sb_ax = sns.boxplot(data=df_pipeline_list, #corr_matrix_list, \n",
    "                    order=new_pipeline_names, \n",
    "                    showfliers=False).set(\n",
    "    xlabel='Pipelines', \n",
    "    ylabel='DVARS'\n",
    ")\n",
    "\n",
    "\n",
    "# plot with corrected p-values \n",
    "\n",
    "# CHANGE THIS!!!!!!!!!!!!!!!!!!!!!!!!!!!!!!!!!!!!!!!\n",
    "#test_results = add_stat_annotation(sb_ax, data=df_pipeline_list, order=pipeline_names,\n",
    "#                                   box_pairs=[combo_list[n] for n in range(len(combo_list))],\n",
    "#                                   perform_stat_test=False, pvalues=corrected_p_vals,\n",
    "#                                   text_format='star',\n",
    "#                                   loc='outside', verbose=2)\n",
    "\n",
    "#plt.title('DVARS Scores')\n",
    "ax.set_title('DVARS Scores',fontsize= 35) # title of plot\n",
    "\n",
    "#plt.show()\n",
    "plt.savefig(\"DVARS.png\")"
   ]
  },
  {
   "cell_type": "code",
   "execution_count": null,
   "metadata": {},
   "outputs": [],
   "source": []
  },
  {
   "cell_type": "code",
   "execution_count": null,
   "metadata": {},
   "outputs": [],
   "source": []
  }
 ],
 "metadata": {
  "kernelspec": {
   "display_name": "Python 3 (ipykernel)",
   "language": "python",
   "name": "python3"
  },
  "language_info": {
   "codemirror_mode": {
    "name": "ipython",
    "version": 3
   },
   "file_extension": ".py",
   "mimetype": "text/x-python",
   "name": "python",
   "nbconvert_exporter": "python",
   "pygments_lexer": "ipython3",
   "version": "3.9.13"
  }
 },
 "nbformat": 4,
 "nbformat_minor": 2
}
