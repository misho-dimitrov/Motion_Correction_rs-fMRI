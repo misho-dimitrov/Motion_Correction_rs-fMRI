{
 "cells": [
  {
   "cell_type": "code",
   "execution_count": null,
   "metadata": {},
   "outputs": [],
   "source": [
    "# To do:\n",
    "# special thank you to ... \n",
    "# create markdown sections (including fMRIPrep website, nilearn website etc.) and put references\n",
    "# improve comments and add print statements to facilitate human understanding\n",
    "# add error tests\n",
    "# Different pipelines have different n of participants - remove extra participants:\n",
    "    # exclude M006, M107, M108"
   ]
  },
  {
   "cell_type": "code",
   "execution_count": null,
   "metadata": {},
   "outputs": [],
   "source": [
    "# This script is to be used on pre-processed fMRI timeseries data "
   ]
  },
  {
   "cell_type": "code",
   "execution_count": 1,
   "metadata": {},
   "outputs": [
    {
     "name": "stderr",
     "output_type": "stream",
     "text": [
      "/opt/anaconda3/lib/python3.7/site-packages/statsmodels/tools/_testing.py:19: FutureWarning: pandas.util.testing is deprecated. Use the functions in the public API at pandas.testing instead.\n",
      "  import pandas.util.testing as tm\n"
     ]
    }
   ],
   "source": [
    "# Import all of the necessary modules and libraries\n",
    "\n",
    "import glob\n",
    "import os\n",
    "\n",
    "import pandas as pd\n",
    "import numpy as np\n",
    "from numpy import mean\n",
    "import matplotlib.pyplot as plt\n",
    "import seaborn as sns\n",
    "\n",
    "from scipy.stats import wilcoxon\n",
    "from statsmodels.stats.multitest import multipletests\n",
    "import statannot\n",
    "from statannot import add_stat_annotation\n",
    "\n",
    "import xlrd\n",
    "import itertools\n",
    "\n",
    "import nibabel as nib\n",
    "from nilearn import image\n",
    "from nilearn import plotting\n",
    "from nilearn import datasets\n",
    "from nilearn import input_data\n",
    "from nilearn.input_data import NiftiMapsMasker\n",
    "from nilearn.input_data import NiftiLabelsMasker\n",
    "from nilearn.connectome import ConnectivityMeasure\n"
   ]
  },
  {
   "cell_type": "code",
   "execution_count": null,
   "metadata": {},
   "outputs": [],
   "source": []
  },
  {
   "cell_type": "code",
   "execution_count": null,
   "metadata": {},
   "outputs": [],
   "source": []
  },
  {
   "cell_type": "code",
   "execution_count": null,
   "metadata": {},
   "outputs": [],
   "source": []
  },
  {
   "cell_type": "code",
   "execution_count": null,
   "metadata": {},
   "outputs": [],
   "source": []
  },
  {
   "cell_type": "code",
   "execution_count": null,
   "metadata": {},
   "outputs": [],
   "source": [
    "# import atlas with ROIs to be used for the connectivity analysis\n",
    "\n",
    "# the MSDL (multi-subject dictionary learning; {cite}Varoquaux_2011) atlas defines a set of probabilistic ROIs across the brain.\n",
    "# import a different atlas, if you prefer\n",
    "#msdl_atlas = datasets.fetch_atlas_msdl()\n",
    "#msdl_coords = msdl_atlas.region_coords\n",
    "#n_regions = len(msdl_coords)\n",
    "#print(f'MSDL has {n_regions} ROIs, part of the following networks :\\n{np.unique(msdl_atlas.networks)}.')\n",
    "\n",
    "# A non-probabilistic atlas (in the sense that it doesn't learn on your own data):\n",
    "# check https://fsl.fmrib.ox.ac.uk/fsl/fslwiki/Atlases\n",
    "harv_oxf_atlas = datasets.fetch_atlas_harvard_oxford('cort-maxprob-thr25-2mm')\n",
    "rois = harv_oxf_atlas.labels\n",
    "n_regions = len(rois)\n",
    "print(f'This atlas has {n_regions} ROIs.')"
   ]
  },
  {
   "cell_type": "code",
   "execution_count": null,
   "metadata": {},
   "outputs": [],
   "source": [
    "# view the atlas\n",
    "# plotting.plot_prob_atlas(msdl_atlas.maps)\n",
    "plotting.plot_roi(harv_oxf_atlas.maps)"
   ]
  },
  {
   "cell_type": "code",
   "execution_count": null,
   "metadata": {},
   "outputs": [],
   "source": [
    "# apply a NiftiMapsMasker as the MSDL atlas is probabilistic\n",
    "# !! if you're using a deterministic atlas, then use a NiftiLabelsMasker object !!\n",
    "\n",
    "#masker = input_data.NiftiMapsMasker(\n",
    "#    msdl_atlas.maps, resampling_target=\"data\",\n",
    "#    t_r=2, detrend=True,\n",
    "#    low_pass=0.1, high_pass=0.01).fit()\n",
    "\n",
    "masker = input_data.NiftiLabelsMasker(\n",
    "    harv_oxf_atlas.maps, resampling_target=\"data\",\n",
    "    t_r=2.5, detrend=True,\n",
    "    low_pass=0.1, high_pass=0.01).fit()"
   ]
  },
  {
   "cell_type": "code",
   "execution_count": null,
   "metadata": {},
   "outputs": [],
   "source": []
  },
  {
   "cell_type": "code",
   "execution_count": null,
   "metadata": {},
   "outputs": [],
   "source": [
    "pipeline_list = sorted(glob.glob(\"/Volumes/Seagate Dr/PhD/Chapter 1/*\"))\n",
    "print(*pipeline_list, sep='\\n')\n",
    "print(type(pipeline_list))"
   ]
  },
  {
   "cell_type": "code",
   "execution_count": null,
   "metadata": {},
   "outputs": [],
   "source": []
  },
  {
   "cell_type": "code",
   "execution_count": null,
   "metadata": {},
   "outputs": [],
   "source": [
    "def quality_check(pipeline_list):\n",
    "    for n in range(len(pipeline_list)):\n",
    "        current_pipeline = pipeline_list[n]\n",
    "        print(current_pipeline)\n",
    "        fmri_img_path = os.path.join(current_pipeline, \"*.gz\")\n",
    "        print(fmri_img_path)\n",
    "        fmri_img = sorted(glob.glob(fmri_img_path))\n",
    "        print(*fmri_img, sep='\\n')\n",
    "        # check the dimensions of a single participant fMRI data to see if it makes sense!\n",
    "        fmri_img_single = nib.load(fmri_img[0])\n",
    "        print(fmri_img_single.shape)"
   ]
  },
  {
   "cell_type": "code",
   "execution_count": null,
   "metadata": {},
   "outputs": [],
   "source": [
    "quality_check(pipeline_list)"
   ]
  },
  {
   "cell_type": "code",
   "execution_count": null,
   "metadata": {},
   "outputs": [],
   "source": []
  },
  {
   "cell_type": "code",
   "execution_count": null,
   "metadata": {},
   "outputs": [],
   "source": [
    "# to look at the mean fMRI brain image for a single participant\n",
    "# !!!!!!!!!!! ADD THE OTHER LINES !!!!!!!!!!!!!!\n",
    "# change this line to get your data!\n",
    "mean_image = image.mean_img(fmri_img_single)\n",
    "plotting.view_img(mean_image, threshold=None)"
   ]
  },
  {
   "cell_type": "code",
   "execution_count": null,
   "metadata": {},
   "outputs": [],
   "source": []
  },
  {
   "cell_type": "code",
   "execution_count": null,
   "metadata": {},
   "outputs": [],
   "source": [
    "# !!!!!!!!!!!!!!!!!!!!!!!!!! TEST THIS !!!!!!!!!!!!!!!!!!!!!!!!!!!!!!!!!!!\n",
    "\n",
    "# calculate the connectivity matrices and the mean functional connectivity (mFC) values (across the brain) for all participants\n",
    "\n",
    "\n",
    "# create a function that will execute the connectivity analysis and calculate mFC values\n",
    "def calc_conn_mFC(pipeline_list):\n",
    "    # choose a pipeline\n",
    "    for p in range(len(pipeline_list)):\n",
    "        current_pipeline = pipeline_list[p]\n",
    "        print(\"Current pipeline:\", current_pipeline)\n",
    "        #set the list of fMRI files\n",
    "        fmri_img_path = os.path.join(current_pipeline, \"*.gz\")\n",
    "        print(fmri_img_path)\n",
    "        fmri_img = sorted(glob.glob(fmri_img_path))\n",
    "        # initiate an empty list that will contain a single mFC value for each participant\n",
    "        mFC_list = []\n",
    "        # specify for the number of participants you have\n",
    "        for n in range(len(fmri_img)):\n",
    "            # check if this is the right participant\n",
    "            print(\"Working on participant:\")\n",
    "            print(fmri_img[n])\n",
    "            # !!!!!! change this line to get your data !!!!!!!\n",
    "            # !! it is recommended to remove confounds by using the confounds= option and selecting them from your confounds file\n",
    "            # it is also a good idea to compare the corrected and uncorrected connectivity matrices\n",
    "            roi_time_series = masker.transform(fmri_img[n])        \n",
    "            # calculate a connectivity matrix\n",
    "            # choose a type of correlation analysis, tangent space embedding is recommended, but it requires that the program is run on all subjects simultaneously\n",
    "            correlation_measure = ConnectivityMeasure(kind='correlation')\n",
    "            correlation_matrix = correlation_measure.fit_transform([roi_time_series])[0]\n",
    "            print(\"Connectivity matrix calculated.\")\n",
    "            # save the matrix to a csv file, using subject n\n",
    "            # N.B. matrix file will not have column and row names, i.e. the brain region names. \n",
    "            # They have to be added from the atlas that was used for the connectivity analysis when doing the plotting, for instance\n",
    "            np.savetxt('pipeline'+str(p)+'sub_'+str(n)+'_conn_matrix.csv', correlation_matrix, delimiter=',')\n",
    "            print('Connectivity matrix for sub'+str(n)+' saved.')\n",
    "            # calculate mFC and append value to the mFC_list\n",
    "            mFC = mean(correlation_matrix)\n",
    "            mFC_list.append(mFC)\n",
    "            print('mFC_list updated.')\n",
    "        print('Pipeline'+str(p)+' Analysis Completed.')\n",
    "        mFC_list = np.array(mFC_list)\n",
    "        np.savetxt('mFC_list_pipeline'+str(p)+'.csv', mFC_list, delimiter=',')\n",
    "        print('mFC_list_pipeline'+str(p)+'.csv saved.')\n",
    "    print(\"Done.\")\n"
   ]
  },
  {
   "cell_type": "code",
   "execution_count": null,
   "metadata": {},
   "outputs": [],
   "source": [
    "#run the FC function\n",
    "calc_conn_mFC(pipeline_list)"
   ]
  },
  {
   "cell_type": "code",
   "execution_count": null,
   "metadata": {},
   "outputs": [],
   "source": []
  },
  {
   "cell_type": "code",
   "execution_count": null,
   "metadata": {},
   "outputs": [],
   "source": [
    "# import pandas as pd\n",
    "# import specific correlation matrix csv files\n",
    "# or the mFC_list file (especially after kernel restart)\n",
    "conn_matrix = pd.read_csv('~/Downloads/PhD/Analysis/QC/pipeline0sub_0_conn_matrix.csv', delimiter=',', header=None)\n",
    "print(conn_matrix)\n",
    "print(type(conn_matrix))"
   ]
  },
  {
   "cell_type": "code",
   "execution_count": null,
   "metadata": {},
   "outputs": [],
   "source": [
    "# plot a connectivity matrix\n",
    "# set this to a matrix of your choice\n",
    "correlation_matrix = conn_matrix.to_numpy()\n",
    "np.fill_diagonal(correlation_matrix, 0)\n",
    "plotting.plot_matrix(correlation_matrix, \n",
    "                     # omit the first label as that is the \"background\" ROI, which wasn't actually used !\n",
    "                     labels=harv_oxf_atlas.labels[1:],\n",
    "                     vmax=0.8, vmin=-0.8, colorbar=True)"
   ]
  },
  {
   "cell_type": "code",
   "execution_count": null,
   "metadata": {},
   "outputs": [],
   "source": [
    "# Or view it as an embedded connectome:\n",
    "plotting.view_connectome(correlation_matrix, edge_threshold=0.2,\n",
    "                         node_coords=msdl_atlas.region_coords)"
   ]
  },
  {
   "cell_type": "code",
   "execution_count": null,
   "metadata": {},
   "outputs": [],
   "source": [
    "# import pandas as pd\n",
    "# import a mFC_list file (especially after kernel restart)\n",
    "mFC_list = pd.read_csv('~/Downloads/PhD/Analysis/QC/mFC_list_pipeline0.csv', delimiter=' ', header=None)\n",
    "print(mFC_list)\n",
    "print(type(mFC_list))"
   ]
  },
  {
   "cell_type": "code",
   "execution_count": null,
   "metadata": {},
   "outputs": [],
   "source": []
  },
  {
   "cell_type": "code",
   "execution_count": null,
   "metadata": {},
   "outputs": [],
   "source": [
    "pipeline_list_FD = sorted(glob.glob(\"/Users/mishodimitrov/Downloads/PhD/Analysis/QC/FD/*\"))\n",
    "print(*pipeline_list_FD, sep='\\n')\n",
    "print(type(pipeline_list))"
   ]
  },
  {
   "cell_type": "code",
   "execution_count": null,
   "metadata": {},
   "outputs": [],
   "source": [
    "def calc_mFD(pipeline_list):\n",
    "    # choose a pipeline\n",
    "    for p in range(len(pipeline_list)):\n",
    "        current_pipeline = pipeline_list[p]\n",
    "        print(\"Current pipeline:\", current_pipeline)\n",
    "        #set the list of FD files\n",
    "        FD_path = os.path.join(current_pipeline, \"*.txt\")\n",
    "        print(FD_path)\n",
    "        FD_files = sorted(glob.glob(FD_path))\n",
    "        # initiate an empty list that will contain a single mFD value for each participant\n",
    "        mFD_list = []\n",
    "        # specify for the number of participants you have\n",
    "        for n in range(len(FD_files)):\n",
    "            # check if this is the right participant\n",
    "            print(\"Working on participant:\")\n",
    "            print(FD_files[n])\n",
    "            FD = pd.read_table(FD_files[n])\n",
    "            print(\"This is the FD data:\")\n",
    "            print(FD)\n",
    "            # calculate mFD and append value to the mFD_list\n",
    "            mFD = mean(FD)\n",
    "            print(\"mFD =\",mFD)\n",
    "            mFD_list.append(mFD)\n",
    "            print(\"mFD list updated.\")\n",
    "        print('Pipeline'+str(p)+' Analysis Completed.')\n",
    "        mFD_list = np.array(mFD_list)\n",
    "        np.savetxt('mFD_list_pipeline'+str(p)+'.csv', mFD_list, delimiter=',')\n",
    "        print('mFD_list_pipeline'+str(p)+'.csv saved.')\n",
    "    print(\"Done.\")"
   ]
  },
  {
   "cell_type": "code",
   "execution_count": null,
   "metadata": {},
   "outputs": [],
   "source": [
    "calc_mFD(pipeline_list_FD)"
   ]
  },
  {
   "cell_type": "code",
   "execution_count": null,
   "metadata": {},
   "outputs": [],
   "source": []
  },
  {
   "cell_type": "code",
   "execution_count": null,
   "metadata": {},
   "outputs": [],
   "source": [
    "# import a mFD_list file (especially after kernel restart)\n",
    "mFD_list = pd.read_csv('~/Downloads/PhD/Analysis/QC/mFD_list_pipeline2.csv', delimiter=' ', header=None)\n",
    "print(mFD_list)\n",
    "print(type(mFD_list))"
   ]
  },
  {
   "cell_type": "code",
   "execution_count": null,
   "metadata": {},
   "outputs": [],
   "source": [
    "# plot the mFD values for all pipelines"
   ]
  },
  {
   "cell_type": "code",
   "execution_count": null,
   "metadata": {},
   "outputs": [],
   "source": [
    "mFdisp_list = sorted(glob.glob(\"/Users/mishodimitrov/Downloads/PhD/Analysis/QC/mFD_list_pipeline*\"))\n",
    "mFD_list = []\n",
    "for n in range(len(mFdisp_list)):\n",
    "    mFD_list_single = pd.read_csv(mFdisp_list[n], delimiter=' ', header=None)\n",
    "    mFD_list.append(mFD_list_single)\n",
    "print(len(mFD_list))\n",
    "print(len(mFD_list[10]))\n"
   ]
  },
  {
   "cell_type": "code",
   "execution_count": null,
   "metadata": {},
   "outputs": [],
   "source": [
    "# check normality\n",
    "for n in range(len(mFD_list)):\n",
    "    plt.hist(mFD_list[n], bins = 8)\n",
    "    plt.show()"
   ]
  },
  {
   "cell_type": "code",
   "execution_count": null,
   "metadata": {},
   "outputs": [],
   "source": [
    "xls = xlrd.open_workbook(r'~/Downloads/PhD/Analysis/QC/ARB_QC.xlsx', on_demand=True)\n",
    "pipeline_names = xls.sheet_names()\n",
    "pipeline_names"
   ]
  },
  {
   "cell_type": "code",
   "execution_count": null,
   "metadata": {},
   "outputs": [],
   "source": [
    "# https://matplotlib.org/3.1.1/api/_as_gen/matplotlib.pyplot.boxplot.html\n",
    "\n",
    "fig, ax = plt.subplots(figsize=(20,8))\n",
    "mfd_figure = ax.boxplot(mFD_list, \n",
    "                          #notch=True, \n",
    "                          bootstrap=5000, \n",
    "                          showfliers=True)\n",
    "ax.set_xticklabels(pipeline_names)\n",
    "plt.show(mfd_figure)\n",
    "#plt.savefig(\"dvars.png\")"
   ]
  },
  {
   "cell_type": "code",
   "execution_count": null,
   "metadata": {},
   "outputs": [],
   "source": []
  },
  {
   "cell_type": "code",
   "execution_count": null,
   "metadata": {},
   "outputs": [],
   "source": []
  },
  {
   "cell_type": "code",
   "execution_count": null,
   "metadata": {},
   "outputs": [],
   "source": [
    "# import matplotlib.pyplot as plot\n",
    "# import numpy as np\n",
    "# plot all correlations\n",
    "mFconn_list = sorted(glob.glob(\"/Users/mishodimitrov/Downloads/PhD/Analysis/QC/mFC_list_pipeline*\"))\n",
    "mFdisp_list = sorted(glob.glob(\"/Users/mishodimitrov/Downloads/PhD/Analysis/QC/mFD_list_pipeline*\"))"
   ]
  },
  {
   "cell_type": "code",
   "execution_count": null,
   "metadata": {},
   "outputs": [],
   "source": [
    "# Check normality!!\n"
   ]
  },
  {
   "cell_type": "code",
   "execution_count": null,
   "metadata": {},
   "outputs": [],
   "source": [
    "# the sorting is not done correctly!!!!!!!!!!!!!!!!!!!!!!!!!!!!!!!!!!!!!!!"
   ]
  },
  {
   "cell_type": "code",
   "execution_count": null,
   "metadata": {},
   "outputs": [],
   "source": [
    "mFconn_list"
   ]
  },
  {
   "cell_type": "code",
   "execution_count": null,
   "metadata": {},
   "outputs": [],
   "source": [
    "mFdisp_list"
   ]
  },
  {
   "cell_type": "code",
   "execution_count": null,
   "metadata": {},
   "outputs": [],
   "source": [
    "for n in range(len(mFconn_list)):\n",
    "    mFC_list_single = pd.read_csv(mFconn_list[n], delimiter=' ', header=None)\n",
    "    mFD_list_single = pd.read_csv(mFdisp_list[n], delimiter=' ', header=None)\n",
    "    plt.scatter(mFC_list_single, mFD_list_single)\n",
    "    plt.title('mFD-mFC Correlation - Pipeline'+str(n))\n",
    "    plt.xlabel('mFC')\n",
    "    plt.ylabel('mFD')\n",
    "    plt.show()"
   ]
  },
  {
   "cell_type": "code",
   "execution_count": null,
   "metadata": {},
   "outputs": [],
   "source": [
    "for n in range(len(mFconn_list)):\n",
    "    mFC_list_single = pd.read_csv(mFconn_list[n], delimiter=' ', header=None)\n",
    "    # transpose it to make it work correctly with np.corrcoef\n",
    "    mFC_list_single = mFC_list_single.T\n",
    "    mFD_list_single = pd.read_csv(mFdisp_list[n], delimiter=' ', header=None)\n",
    "    # transpose it to make it work correctly with np.corrcoef\n",
    "    mFD_list_single = mFD_list_single.T\n",
    "    r = np.corrcoef(mFC_list_single, mFD_list_single)\n",
    "    print(n)\n",
    "    print(r)"
   ]
  },
  {
   "cell_type": "code",
   "execution_count": null,
   "metadata": {},
   "outputs": [],
   "source": [
    "r"
   ]
  },
  {
   "cell_type": "code",
   "execution_count": null,
   "metadata": {},
   "outputs": [],
   "source": [
    "r[0,1]"
   ]
  },
  {
   "cell_type": "code",
   "execution_count": null,
   "metadata": {},
   "outputs": [],
   "source": [
    "# ?????? Hypothesis testing ????\n",
    "# ?????? Compare each to each other (like the DVARS)????"
   ]
  },
  {
   "cell_type": "code",
   "execution_count": null,
   "metadata": {},
   "outputs": [],
   "source": []
  },
  {
   "cell_type": "code",
   "execution_count": null,
   "metadata": {},
   "outputs": [],
   "source": [
    "# subject-specific edge-wise mFD-FC"
   ]
  },
  {
   "cell_type": "code",
   "execution_count": null,
   "metadata": {},
   "outputs": [],
   "source": [
    "conn_matrix = pd.read_csv('~/Downloads/PhD/Analysis/QC/pipeline0sub_2_conn_matrix.csv', delimiter=',', header=None)\n",
    "conn_matrix"
   ]
  },
  {
   "cell_type": "code",
   "execution_count": null,
   "metadata": {},
   "outputs": [],
   "source": [
    "# for pipeline 0:\n",
    "# iterate through a specific edge for all 18 participants\n",
    "# SHOULD I?????? ----- ...... !!!!!!!!!!!! if the FC values are above 0.25 !!!!!!!!!!!!\n",
    "# correlate the 18 edge values with the 18 mFD values for that pipeline\n",
    "# plot the distribution of 2304 values and get mean/median and 95%CI/quarters\n",
    "# scale it up to include all pipelines\n",
    "# plot only the mean/median and 95%CI/quarters for each separate pipeline"
   ]
  },
  {
   "cell_type": "code",
   "execution_count": null,
   "metadata": {},
   "outputs": [],
   "source": [
    "#for i in range (len(conn_matrix)):\n",
    "#    for j in range(len(conn_matrix)):\n",
    "#        fc = conn_matrix.iloc[i, j]\n",
    "#        r = np.corrcoef(fc, mFD_val)\n",
    "#        conn_matrix.iloc[i, j] = r\n",
    "#print(conn_matrix)\n",
    "\n",
    "# vectorise the matrices instead??"
   ]
  },
  {
   "cell_type": "code",
   "execution_count": null,
   "metadata": {},
   "outputs": [],
   "source": [
    "fconn_list = []\n",
    "s_vals = sorted(glob.glob(\"/Users/mishodimitrov/Downloads/PhD/Analysis/QC/pipeline2sub_?_conn_matrix.csv\"))\n",
    "ss_vals = sorted(glob.glob(\"/Users/mishodimitrov/Downloads/PhD/Analysis/QC/pipeline2sub_??_conn_matrix.csv\"))\n",
    "for n in range(len(s_vals)):\n",
    "    fconn_list.append(s_vals[n])\n",
    "for n in range(len(ss_vals)):\n",
    "    fconn_list.append(ss_vals[n])\n",
    "fconn_list"
   ]
  },
  {
   "cell_type": "code",
   "execution_count": null,
   "metadata": {},
   "outputs": [],
   "source": [
    "mFdisp_list = []\n",
    "d_vals = sorted(glob.glob(\"/Users/mishodimitrov/Downloads/PhD/Analysis/QC/mFD_list_pipeline?.csv\"))\n",
    "dd_vals = sorted(glob.glob(\"/Users/mishodimitrov/Downloads/PhD/Analysis/QC/mFD_list_pipeline??.csv\"))\n",
    "for n in range(len(d_vals)):\n",
    "    mFdisp_list.append(d_vals[n])\n",
    "for n in range(len(dd_vals)):\n",
    "    mFdisp_list.append(dd_vals[n])\n",
    "mFdisp_list"
   ]
  },
  {
   "cell_type": "code",
   "execution_count": null,
   "metadata": {},
   "outputs": [],
   "source": [
    "fd_pipe = pd.read_csv(mFdisp_list[2], delimiter=' ', header=None)\n",
    "fd_pipe = np.array(fd_pipe)\n",
    "type(fd_pipe)"
   ]
  },
  {
   "cell_type": "code",
   "execution_count": null,
   "metadata": {},
   "outputs": [],
   "source": [
    "type(conn_matrix)"
   ]
  },
  {
   "cell_type": "code",
   "execution_count": null,
   "metadata": {},
   "outputs": [],
   "source": [
    "# Initiate these to use for the range function\n",
    "conn_matrix = pd.read_csv(fconn_list[2], delimiter=',', header=None)\n",
    "conn_rows = conn_matrix.shape[0]\n",
    "conn_cols = conn_matrix.shape[1]"
   ]
  },
  {
   "cell_type": "code",
   "execution_count": null,
   "metadata": {},
   "outputs": [],
   "source": [
    "fd_pipe = fd_pipe.T\n",
    "fd_pipe"
   ]
  },
  {
   "cell_type": "code",
   "execution_count": null,
   "metadata": {},
   "outputs": [],
   "source": [
    "fd_pipe"
   ]
  },
  {
   "cell_type": "code",
   "execution_count": null,
   "metadata": {},
   "outputs": [],
   "source": [
    "print(fd_pipe.shape[0])\n",
    "print(fd_pipe.shape[1])"
   ]
  },
  {
   "cell_type": "code",
   "execution_count": null,
   "metadata": {},
   "outputs": [],
   "source": [
    "corr_matrix"
   ]
  },
  {
   "cell_type": "code",
   "execution_count": null,
   "metadata": {},
   "outputs": [],
   "source": [
    "corr_matrix.shape"
   ]
  },
  {
   "cell_type": "code",
   "execution_count": null,
   "metadata": {},
   "outputs": [],
   "source": [
    "len(corr_matrix)"
   ]
  },
  {
   "cell_type": "code",
   "execution_count": null,
   "metadata": {},
   "outputs": [],
   "source": [
    "# participant 14 is M113 who was dropped\n",
    "\n",
    "fconn_list_complete = []\n",
    "for n in range(12):\n",
    "    fconn_list_s = sorted(glob.glob(\"/Users/mishodimitrov/Downloads/PhD/Analysis/QC/pipeline\"+str(n)+\"sub_?_conn_matrix.csv\"))\n",
    "    fconn_list_ss = sorted(glob.glob(\"/Users/mishodimitrov/Downloads/PhD/Analysis/QC/pipeline\"+str(n)+\"sub_??_conn_matrix.csv\"))\n",
    "    fconn_list_temp = []\n",
    "    for n in range(len(fconn_list_s)):\n",
    "        fconn_list_temp.append(fconn_list_s[n])\n",
    "    for n in range(len(fconn_list_ss)):\n",
    "        fconn_list_temp.append(fconn_list_ss[n])\n",
    "    fconn_list_complete.append(fconn_list_temp)"
   ]
  },
  {
   "cell_type": "code",
   "execution_count": null,
   "metadata": {},
   "outputs": [],
   "source": [
    "fconn_list_complete"
   ]
  },
  {
   "cell_type": "code",
   "execution_count": null,
   "metadata": {},
   "outputs": [],
   "source": [
    "len(fconn_list_complete)"
   ]
  },
  {
   "cell_type": "code",
   "execution_count": null,
   "metadata": {},
   "outputs": [],
   "source": [
    "# super crude... optimise this!!!\n",
    "\n",
    "def calc_FC_mFD(fconn_list_complete):\n",
    "\n",
    "    for p in range(len(fconn_list_complete)):\n",
    "        # Initiate an empty matrix that would be filled with correlation values, i.e. mFD-FC values\n",
    "        corr_matrix = pd.DataFrame(#index=range(0,1),\n",
    "        columns=range(0,48))\n",
    "\n",
    "        fconn_list = fconn_list_complete[p]\n",
    "        for i in range(conn_rows):\n",
    "            temp_corr_list = []\n",
    "            for j in range(conn_cols):\n",
    "                temp_fc_vals = []\n",
    "                \n",
    "                for n in range(len(fconn_list)):\n",
    "                    # !! CHECK IF THE SUBJECT ORDER IS CORRECT !!\n",
    "                    print(\"This is participant:\" + fconn_list[n])\n",
    "                    temp_conn_matrix = pd.read_csv(fconn_list[n], delimiter=',', header=None) \n",
    "                    edge = temp_conn_matrix.iloc[i,j]\n",
    "                    #if edge > 0.25:\n",
    "                        #temp_fc_vals.append(edge)\n",
    "                    #else:\n",
    "                        # what should I append\n",
    "                        #temp_fc_vals.append(0)\n",
    "                    temp_fc_vals.append(edge)\n",
    "                    print(\"FC value appended.\")\n",
    "                temp_fc_vals = np.array(temp_fc_vals).reshape(17, 1).T\n",
    "                print(temp_fc_vals)\n",
    "                print(temp_fc_vals.shape)\n",
    "                fd_pipe = pd.read_csv(mFdisp_list[p], delimiter=' ', header=None)\n",
    "                fd_pipe = np.array(fd_pipe)\n",
    "                fd_pipe = fd_pipe.T\n",
    "                print(fd_pipe.shape)\n",
    "                # Do correlation between temp fc values and the mFD values for current pipeline\n",
    "                r = np.corrcoef(temp_fc_vals, fd_pipe)\n",
    "                # Append only the actual r value, not the whole matrix\n",
    "                print(\"r value is:\")\n",
    "                print(r[0,1])\n",
    "                # append corr values to the corr_list\n",
    "                temp_corr_list.append(r[0,1])\n",
    "                print(\"temp_corr_list updated.\")\n",
    "            # append the whole list as the ith row in the corr_matrix\n",
    "            corr_matrix.loc[len(corr_matrix)] = temp_corr_list\n",
    "            print(\"corr_matrix updated.\")\n",
    "        np.savetxt('mfd-fc_pipeline'+str(p)+'_matrix.csv', corr_matrix, delimiter=',')\n",
    "        print('mfd-fc_pipeline'+str(p)+'_matrix.csv saved.')\n",
    "        print(\"Pipeline\" + str(p) + \" analysis completed.\")\n",
    "    print(\"Done.\")\n",
    "                    "
   ]
  },
  {
   "cell_type": "code",
   "execution_count": null,
   "metadata": {},
   "outputs": [],
   "source": [
    "#%%timeit\n",
    "calc_FC_mFD(fconn_list_complete)"
   ]
  },
  {
   "cell_type": "code",
   "execution_count": null,
   "metadata": {},
   "outputs": [],
   "source": []
  },
  {
   "cell_type": "code",
   "execution_count": null,
   "metadata": {},
   "outputs": [],
   "source": [
    "corr_matrix = pd.read_csv('~/Downloads/PhD/Analysis/QC/mfd-fc_pipeline0_matrix.csv', delimiter=',', header=None)\n",
    "correlation_matrix = corr_matrix.to_numpy()\n",
    "np.fill_diagonal(correlation_matrix, 0)\n",
    "plotting.plot_matrix(correlation_matrix, \n",
    "                     # omit the first label as that is the \"background\" ROI, which wasn't actually used !\n",
    "                     labels=harv_oxf_atlas.labels[1:],\n",
    "                     vmax=0.8, vmin=-0.8, colorbar=True)"
   ]
  },
  {
   "cell_type": "code",
   "execution_count": null,
   "metadata": {},
   "outputs": [],
   "source": [
    "corr_matrix = pd.read_csv('~/Downloads/PhD/Analysis/QC/mfd-fc_pipeline1_matrix.csv', delimiter=',', header=None)\n",
    "correlation_matrix = corr_matrix.to_numpy()\n",
    "np.fill_diagonal(correlation_matrix, 0)\n",
    "plotting.plot_matrix(correlation_matrix, \n",
    "                     # omit the first label as that is the \"background\" ROI, which wasn't actually used !\n",
    "                     labels=harv_oxf_atlas.labels[1:],\n",
    "                     vmax=0.8, vmin=-0.8, colorbar=True)"
   ]
  },
  {
   "cell_type": "code",
   "execution_count": null,
   "metadata": {},
   "outputs": [],
   "source": [
    "corr_matrix = pd.read_csv('~/Downloads/PhD/Analysis/QC/mfd-fc_pipeline2_matrix.csv', delimiter=',', header=None)\n",
    "correlation_matrix = corr_matrix.to_numpy()\n",
    "np.fill_diagonal(correlation_matrix, 0)\n",
    "plotting.plot_matrix(correlation_matrix, \n",
    "                     # omit the first label as that is the \"background\" ROI, which wasn't actually used !\n",
    "                     labels=harv_oxf_atlas.labels[1:],\n",
    "                     vmax=0.8, vmin=-0.8, colorbar=True)"
   ]
  },
  {
   "cell_type": "code",
   "execution_count": null,
   "metadata": {},
   "outputs": [],
   "source": [
    "corr_matrix = pd.read_csv('~/Downloads/PhD/Analysis/QC/mfd-fc_pipeline3_matrix.csv', delimiter=',', header=None)\n",
    "correlation_matrix = corr_matrix.to_numpy()\n",
    "np.fill_diagonal(correlation_matrix, 0)\n",
    "plotting.plot_matrix(correlation_matrix, \n",
    "                     # omit the first label as that is the \"background\" ROI, which wasn't actually used !\n",
    "                     labels=harv_oxf_atlas.labels[1:],\n",
    "                     vmax=0.8, vmin=-0.8, colorbar=True)"
   ]
  },
  {
   "cell_type": "code",
   "execution_count": null,
   "metadata": {},
   "outputs": [],
   "source": [
    "corr_matrix = pd.read_csv('~/Downloads/PhD/Analysis/QC/mfd-fc_pipeline4_matrix.csv', delimiter=',', header=None)\n",
    "correlation_matrix = corr_matrix.to_numpy()\n",
    "np.fill_diagonal(correlation_matrix, 0)\n",
    "plotting.plot_matrix(correlation_matrix, \n",
    "                     # omit the first label as that is the \"background\" ROI, which wasn't actually used !\n",
    "                     labels=harv_oxf_atlas.labels[1:],\n",
    "                     vmax=0.8, vmin=-0.8, colorbar=True)"
   ]
  },
  {
   "cell_type": "code",
   "execution_count": null,
   "metadata": {},
   "outputs": [],
   "source": [
    "corr_matrix = pd.read_csv('~/Downloads/PhD/Analysis/QC/mfd-fc_pipeline5_matrix.csv', delimiter=',', header=None)\n",
    "correlation_matrix = corr_matrix.to_numpy()\n",
    "np.fill_diagonal(correlation_matrix, 0)\n",
    "plotting.plot_matrix(correlation_matrix, \n",
    "                     # omit the first label as that is the \"background\" ROI, which wasn't actually used !\n",
    "                     labels=harv_oxf_atlas.labels[1:],\n",
    "                     vmax=0.8, vmin=-0.8, colorbar=True)"
   ]
  },
  {
   "cell_type": "code",
   "execution_count": null,
   "metadata": {},
   "outputs": [],
   "source": [
    "corr_matrix = pd.read_csv('~/Downloads/PhD/Analysis/QC/mfd-fc_pipeline6_matrix.csv', delimiter=',', header=None)\n",
    "correlation_matrix = corr_matrix.to_numpy()\n",
    "np.fill_diagonal(correlation_matrix, 0)\n",
    "plotting.plot_matrix(correlation_matrix, \n",
    "                     # omit the first label as that is the \"background\" ROI, which wasn't actually used !\n",
    "                     labels=harv_oxf_atlas.labels[1:],\n",
    "                     vmax=0.8, vmin=-0.8, colorbar=True)"
   ]
  },
  {
   "cell_type": "code",
   "execution_count": null,
   "metadata": {},
   "outputs": [],
   "source": [
    "corr_matrix = pd.read_csv('~/Downloads/PhD/Analysis/QC/mfd-fc_pipeline7_matrix.csv', delimiter=',', header=None)\n",
    "correlation_matrix = corr_matrix.to_numpy()\n",
    "np.fill_diagonal(correlation_matrix, 0)\n",
    "plotting.plot_matrix(correlation_matrix, \n",
    "                     # omit the first label as that is the \"background\" ROI, which wasn't actually used !\n",
    "                     labels=harv_oxf_atlas.labels[1:],\n",
    "                     vmax=0.8, vmin=-0.8, colorbar=True)"
   ]
  },
  {
   "cell_type": "code",
   "execution_count": null,
   "metadata": {},
   "outputs": [],
   "source": [
    "corr_matrix = pd.read_csv('~/Downloads/PhD/Analysis/QC/mfd-fc_pipeline8_matrix.csv', delimiter=',', header=None)\n",
    "correlation_matrix = corr_matrix.to_numpy()\n",
    "np.fill_diagonal(correlation_matrix, 0)\n",
    "plotting.plot_matrix(correlation_matrix, \n",
    "                     # omit the first label as that is the \"background\" ROI, which wasn't actually used !\n",
    "                     labels=harv_oxf_atlas.labels[1:],\n",
    "                     vmax=0.8, vmin=-0.8, colorbar=True)"
   ]
  },
  {
   "cell_type": "code",
   "execution_count": null,
   "metadata": {},
   "outputs": [],
   "source": [
    "corr_matrix = pd.read_csv('~/Downloads/PhD/Analysis/QC/mfd-fc_pipeline9_matrix.csv', delimiter=',', header=None)\n",
    "correlation_matrix = corr_matrix.to_numpy()\n",
    "np.fill_diagonal(correlation_matrix, 0)\n",
    "plotting.plot_matrix(correlation_matrix, \n",
    "                     # omit the first label as that is the \"background\" ROI, which wasn't actually used !\n",
    "                     labels=harv_oxf_atlas.labels[1:],\n",
    "                     vmax=0.8, vmin=-0.8, colorbar=True)"
   ]
  },
  {
   "cell_type": "code",
   "execution_count": null,
   "metadata": {},
   "outputs": [],
   "source": [
    "corr_matrix = pd.read_csv('~/Downloads/PhD/Analysis/QC/mfd-fc_pipeline10_matrix.csv', delimiter=',', header=None)\n",
    "correlation_matrix = corr_matrix.to_numpy()\n",
    "np.fill_diagonal(correlation_matrix, 0)\n",
    "plotting.plot_matrix(correlation_matrix, \n",
    "                     # omit the first label as that is the \"background\" ROI, which wasn't actually used !\n",
    "                     labels=harv_oxf_atlas.labels[1:],\n",
    "                     vmax=0.8, vmin=-0.8, colorbar=True)"
   ]
  },
  {
   "cell_type": "code",
   "execution_count": null,
   "metadata": {},
   "outputs": [],
   "source": [
    "corr_matrix = pd.read_csv('~/Downloads/PhD/Analysis/QC/mfd-fc_pipeline11_matrix.csv', delimiter=',', header=None)\n",
    "correlation_matrix = corr_matrix.to_numpy()\n",
    "np.fill_diagonal(correlation_matrix, 0)\n",
    "plotting.plot_matrix(correlation_matrix, \n",
    "                     # omit the first label as that is the \"background\" ROI, which wasn't actually used !\n",
    "                     labels=harv_oxf_atlas.labels[1:],\n",
    "                     vmax=0.8, vmin=-0.8, colorbar=True)"
   ]
  },
  {
   "cell_type": "code",
   "execution_count": 2,
   "metadata": {
    "scrolled": true
   },
   "outputs": [
    {
     "data": {
      "text/plain": [
       "[['/Users/mishodimitrov/Downloads/PhD/Analysis/QC/mfd-fc_pipeline0_matrix.csv',\n",
       "  '/Users/mishodimitrov/Downloads/PhD/Analysis/QC/mfd-fc_pipeline1_matrix.csv',\n",
       "  '/Users/mishodimitrov/Downloads/PhD/Analysis/QC/mfd-fc_pipeline2_matrix.csv',\n",
       "  '/Users/mishodimitrov/Downloads/PhD/Analysis/QC/mfd-fc_pipeline3_matrix.csv',\n",
       "  '/Users/mishodimitrov/Downloads/PhD/Analysis/QC/mfd-fc_pipeline4_matrix.csv',\n",
       "  '/Users/mishodimitrov/Downloads/PhD/Analysis/QC/mfd-fc_pipeline5_matrix.csv',\n",
       "  '/Users/mishodimitrov/Downloads/PhD/Analysis/QC/mfd-fc_pipeline6_matrix.csv',\n",
       "  '/Users/mishodimitrov/Downloads/PhD/Analysis/QC/mfd-fc_pipeline7_matrix.csv',\n",
       "  '/Users/mishodimitrov/Downloads/PhD/Analysis/QC/mfd-fc_pipeline8_matrix.csv',\n",
       "  '/Users/mishodimitrov/Downloads/PhD/Analysis/QC/mfd-fc_pipeline9_matrix.csv',\n",
       "  '/Users/mishodimitrov/Downloads/PhD/Analysis/QC/mfd-fc_pipeline10_matrix.csv',\n",
       "  '/Users/mishodimitrov/Downloads/PhD/Analysis/QC/mfd-fc_pipeline11_matrix.csv']]"
      ]
     },
     "execution_count": 2,
     "metadata": {},
     "output_type": "execute_result"
    }
   ],
   "source": [
    "pipeline_src_s = sorted(glob.glob(\"/Users/mishodimitrov/Downloads/PhD/Analysis/QC/mfd-fc_pipeline?_matrix.csv\"))\n",
    "pipeline_src_ss = sorted(glob.glob(\"/Users/mishodimitrov/Downloads/PhD/Analysis/QC/mfd-fc_pipeline??_matrix.csv\"))\n",
    "\n",
    "pipeline_list_temp = []\n",
    "pipeline_list = []\n",
    "\n",
    "for n in range(len(pipeline_src_s)):\n",
    "    pipeline_list_temp.append(pipeline_src_s[n])\n",
    "for n in range(len(pipeline_src_ss)):\n",
    "    pipeline_list_temp.append(pipeline_src_ss[n])\n",
    "pipeline_list.append(pipeline_list_temp)\n",
    "pipeline_list"
   ]
  },
  {
   "cell_type": "code",
   "execution_count": 3,
   "metadata": {},
   "outputs": [],
   "source": [
    "pipeline_list = np.array(pipeline_list)"
   ]
  },
  {
   "cell_type": "code",
   "execution_count": 4,
   "metadata": {},
   "outputs": [
    {
     "data": {
      "text/plain": [
       "'/Users/mishodimitrov/Downloads/PhD/Analysis/QC/mfd-fc_pipeline1_matrix.csv'"
      ]
     },
     "execution_count": 4,
     "metadata": {},
     "output_type": "execute_result"
    }
   ],
   "source": [
    "pipeline_list[0,1]"
   ]
  },
  {
   "cell_type": "code",
   "execution_count": 5,
   "metadata": {},
   "outputs": [
    {
     "data": {
      "text/plain": [
       "12"
      ]
     },
     "execution_count": 5,
     "metadata": {},
     "output_type": "execute_result"
    }
   ],
   "source": [
    "pipeline_list.shape[1]"
   ]
  },
  {
   "cell_type": "code",
   "execution_count": null,
   "metadata": {},
   "outputs": [],
   "source": [
    "# plot matrices side by side to compare (and to include in supplementary section)"
   ]
  },
  {
   "cell_type": "code",
   "execution_count": null,
   "metadata": {},
   "outputs": [],
   "source": [
    "fig, axes = plt.subplots(nrows=3, ncols=4, figsize=(50,25))\n",
    "fig.subplots_adjust(hspace=0.5, wspace=2.5)\n",
    "fig.suptitle('mFD-FC Comparison')\n",
    "\n",
    "for i, ax in enumerate(axes.flatten()):\n",
    "#for i in range(pipeline_list.shape[1]):\n",
    "    corr_matrix = pd.read_csv(pipeline_list[0,i], delimiter=',', header=None)\n",
    "    correlation_matrix = corr_matrix.to_numpy()\n",
    "    np.fill_diagonal(correlation_matrix, 0)\n",
    "    display = plotting.plot_matrix(correlation_matrix, \n",
    "                         # omit the first label as that is the \"background\" ROI, which wasn't actually used !\n",
    "                         labels=harv_oxf_atlas.labels[1:],\n",
    "                         vmax=1, vmin=-1, colorbar=True\n",
    "                         , axes=ax\n",
    "                        )\n",
    "    ax.title.set_text(pipeline_names[i])\n",
    "    # !!!!! increase the size of each separate subplot !!!!!!\n",
    "plt.savefig('mFD-FC.png')"
   ]
  },
  {
   "cell_type": "code",
   "execution_count": null,
   "metadata": {},
   "outputs": [],
   "source": [
    "# It seems like almost all of the mFD-FC associations are positive, however, do specifically mention the nodes, \n",
    "# whose edges show negative correlations"
   ]
  },
  {
   "cell_type": "code",
   "execution_count": null,
   "metadata": {},
   "outputs": [],
   "source": []
  },
  {
   "cell_type": "code",
   "execution_count": null,
   "metadata": {},
   "outputs": [],
   "source": [
    "# Summary stats for each pipeline to use for a table"
   ]
  },
  {
   "cell_type": "code",
   "execution_count": null,
   "metadata": {},
   "outputs": [],
   "source": [
    "# SHOULD I ONLY TAKE THE ABSOLUTE mFD-FC VALUES??? or use the real values as in Parkes et al., 2018?"
   ]
  },
  {
   "cell_type": "code",
   "execution_count": null,
   "metadata": {},
   "outputs": [],
   "source": []
  },
  {
   "cell_type": "code",
   "execution_count": 6,
   "metadata": {},
   "outputs": [],
   "source": [
    "corr_matrix_list = []\n",
    "\n",
    "results = {'count': [],\n",
    "'mean': [],\n",
    "'std': [],\n",
    "'min': [],\n",
    "'25%': [],\n",
    "'50%': [],\n",
    "'75%': [],\n",
    "'max': []}\n",
    "\n",
    "for i in range(pipeline_list.shape[1]):\n",
    "    corr_matrix_pp = pd.read_csv(pipeline_list[0,i], delimiter=',', header=None)\n",
    "    corr_matrix_p = corr_matrix_pp.values.ravel()\n",
    "    # GET ONLY ABSOLUTE VALUES??????\n",
    "    #corr_matrix_p = np.absolute(corr_matrix_p)\n",
    "    corr_matrix = pd.DataFrame(corr_matrix_p)\n",
    "    corr_matrix_list.append(corr_matrix)\n",
    "    sum_stats = corr_matrix.describe()\n",
    "    #print(type(sum_stats))\n",
    "    #print(sum_stats.shape)\n",
    "    #print(sum_stats)\n",
    "    results['count'].append(sum_stats.loc['count'][0])\n",
    "    results['mean'].append(sum_stats.loc['mean'][0])\n",
    "    results['std'].append(sum_stats.loc['std'][0])\n",
    "    results['min'].append(sum_stats.loc['min'][0])\n",
    "    results['25%'].append(sum_stats.loc['25%'][0])\n",
    "    results['50%'].append(sum_stats.loc['50%'][0])\n",
    "    results['75%'].append(sum_stats.loc['75%'][0])\n",
    "    results['max'].append(sum_stats.loc['max'][0])"
   ]
  },
  {
   "cell_type": "code",
   "execution_count": 7,
   "metadata": {},
   "outputs": [
    {
     "data": {
      "text/plain": [
       "{'count': [2256.0,\n",
       "  2256.0,\n",
       "  2256.0,\n",
       "  2256.0,\n",
       "  2256.0,\n",
       "  2256.0,\n",
       "  2256.0,\n",
       "  2256.0,\n",
       "  2256.0,\n",
       "  2256.0,\n",
       "  2256.0,\n",
       "  2256.0],\n",
       " 'mean': [0.10067665081022328,\n",
       "  0.10906189773736172,\n",
       "  0.392484260166991,\n",
       "  0.3493603120776968,\n",
       "  0.14876995091097991,\n",
       "  0.27216979201344854,\n",
       "  0.4325119827969287,\n",
       "  0.27928588583094566,\n",
       "  0.2850865126424909,\n",
       "  0.30501763969216567,\n",
       "  0.4152057168335447,\n",
       "  0.2196806052559042],\n",
       " 'std': [0.2149731833820158,\n",
       "  0.21231534910783312,\n",
       "  0.19415414973186046,\n",
       "  0.20587780662437075,\n",
       "  0.31779919537230317,\n",
       "  0.27419129994363395,\n",
       "  0.15043775023576397,\n",
       "  0.24926229050244209,\n",
       "  0.25613850898058443,\n",
       "  0.27962888275210884,\n",
       "  0.17076791418415113,\n",
       "  0.2612670178475821],\n",
       " 'min': [-0.6470821210443642,\n",
       "  -0.50887045083367,\n",
       "  -0.5359343551958068,\n",
       "  -0.4023295507783726,\n",
       "  -0.8815721077096758,\n",
       "  -0.8061750168496364,\n",
       "  -0.10255295949677651,\n",
       "  -0.7952747073287972,\n",
       "  -0.7407628588314241,\n",
       "  -0.7632634857240097,\n",
       "  -0.13384463465043592,\n",
       "  -0.7185335011612553],\n",
       " '25%': [-0.03448960207107286,\n",
       "  -0.05228214499126497,\n",
       "  0.3019455462912002,\n",
       "  0.22134434766654648,\n",
       "  -0.033377723706352565,\n",
       "  0.14266736303594907,\n",
       "  0.34290114800521265,\n",
       "  0.16321958447340784,\n",
       "  0.1681286261028956,\n",
       "  0.19309320594104729,\n",
       "  0.3206004067571263,\n",
       "  0.04342138522925216],\n",
       " '50%': [0.11134853596488054,\n",
       "  0.11068451217372469,\n",
       "  0.4311897582999403,\n",
       "  0.3654716277989356,\n",
       "  0.21011506075405767,\n",
       "  0.3470263911542506,\n",
       "  0.4415827802931888,\n",
       "  0.310941336688072,\n",
       "  0.34029715441400676,\n",
       "  0.37259034789970613,\n",
       "  0.43369142830991037,\n",
       "  0.2840955509840137],\n",
       " '75%': [0.24246857345444284,\n",
       "  0.26550946191813724,\n",
       "  0.5259707012310533,\n",
       "  0.4983911467036963,\n",
       "  0.3875896131951879,\n",
       "  0.4598346210339651,\n",
       "  0.5374107990591173,\n",
       "  0.443627195995442,\n",
       "  0.4626115932516631,\n",
       "  0.4868598949942805,\n",
       "  0.5261087663240913,\n",
       "  0.4090651123001301],\n",
       " 'max': [0.6503020507521435,\n",
       "  0.7187665541140984,\n",
       "  0.7539336375646387,\n",
       "  0.8339147616501903,\n",
       "  0.6905661995646706,\n",
       "  0.7543748779841678,\n",
       "  0.7714704351195174,\n",
       "  0.7884187354315528,\n",
       "  0.7507330364762874,\n",
       "  0.827515053345086,\n",
       "  0.8212043503709618,\n",
       "  0.752574782987127]}"
      ]
     },
     "execution_count": 7,
     "metadata": {},
     "output_type": "execute_result"
    }
   ],
   "source": [
    "results"
   ]
  },
  {
   "cell_type": "code",
   "execution_count": 8,
   "metadata": {},
   "outputs": [
    {
     "data": {
      "text/plain": [
       "8"
      ]
     },
     "execution_count": 8,
     "metadata": {},
     "output_type": "execute_result"
    }
   ],
   "source": [
    "len(results)"
   ]
  },
  {
   "cell_type": "code",
   "execution_count": 9,
   "metadata": {},
   "outputs": [],
   "source": [
    "df_results = pd.DataFrame.from_dict(results, orient='index')"
   ]
  },
  {
   "cell_type": "code",
   "execution_count": 10,
   "metadata": {},
   "outputs": [
    {
     "data": {
      "text/html": [
       "<div>\n",
       "<style scoped>\n",
       "    .dataframe tbody tr th:only-of-type {\n",
       "        vertical-align: middle;\n",
       "    }\n",
       "\n",
       "    .dataframe tbody tr th {\n",
       "        vertical-align: top;\n",
       "    }\n",
       "\n",
       "    .dataframe thead th {\n",
       "        text-align: right;\n",
       "    }\n",
       "</style>\n",
       "<table border=\"1\" class=\"dataframe\">\n",
       "  <thead>\n",
       "    <tr style=\"text-align: right;\">\n",
       "      <th></th>\n",
       "      <th>0</th>\n",
       "      <th>1</th>\n",
       "      <th>2</th>\n",
       "      <th>3</th>\n",
       "      <th>4</th>\n",
       "      <th>5</th>\n",
       "      <th>6</th>\n",
       "      <th>7</th>\n",
       "      <th>8</th>\n",
       "      <th>9</th>\n",
       "      <th>10</th>\n",
       "      <th>11</th>\n",
       "    </tr>\n",
       "  </thead>\n",
       "  <tbody>\n",
       "    <tr>\n",
       "      <th>count</th>\n",
       "      <td>2256.000000</td>\n",
       "      <td>2256.000000</td>\n",
       "      <td>2256.000000</td>\n",
       "      <td>2256.000000</td>\n",
       "      <td>2256.000000</td>\n",
       "      <td>2256.000000</td>\n",
       "      <td>2256.000000</td>\n",
       "      <td>2256.000000</td>\n",
       "      <td>2256.000000</td>\n",
       "      <td>2256.000000</td>\n",
       "      <td>2256.000000</td>\n",
       "      <td>2256.000000</td>\n",
       "    </tr>\n",
       "    <tr>\n",
       "      <th>mean</th>\n",
       "      <td>0.100677</td>\n",
       "      <td>0.109062</td>\n",
       "      <td>0.392484</td>\n",
       "      <td>0.349360</td>\n",
       "      <td>0.148770</td>\n",
       "      <td>0.272170</td>\n",
       "      <td>0.432512</td>\n",
       "      <td>0.279286</td>\n",
       "      <td>0.285087</td>\n",
       "      <td>0.305018</td>\n",
       "      <td>0.415206</td>\n",
       "      <td>0.219681</td>\n",
       "    </tr>\n",
       "    <tr>\n",
       "      <th>std</th>\n",
       "      <td>0.214973</td>\n",
       "      <td>0.212315</td>\n",
       "      <td>0.194154</td>\n",
       "      <td>0.205878</td>\n",
       "      <td>0.317799</td>\n",
       "      <td>0.274191</td>\n",
       "      <td>0.150438</td>\n",
       "      <td>0.249262</td>\n",
       "      <td>0.256139</td>\n",
       "      <td>0.279629</td>\n",
       "      <td>0.170768</td>\n",
       "      <td>0.261267</td>\n",
       "    </tr>\n",
       "    <tr>\n",
       "      <th>min</th>\n",
       "      <td>-0.647082</td>\n",
       "      <td>-0.508870</td>\n",
       "      <td>-0.535934</td>\n",
       "      <td>-0.402330</td>\n",
       "      <td>-0.881572</td>\n",
       "      <td>-0.806175</td>\n",
       "      <td>-0.102553</td>\n",
       "      <td>-0.795275</td>\n",
       "      <td>-0.740763</td>\n",
       "      <td>-0.763263</td>\n",
       "      <td>-0.133845</td>\n",
       "      <td>-0.718534</td>\n",
       "    </tr>\n",
       "    <tr>\n",
       "      <th>25%</th>\n",
       "      <td>-0.034490</td>\n",
       "      <td>-0.052282</td>\n",
       "      <td>0.301946</td>\n",
       "      <td>0.221344</td>\n",
       "      <td>-0.033378</td>\n",
       "      <td>0.142667</td>\n",
       "      <td>0.342901</td>\n",
       "      <td>0.163220</td>\n",
       "      <td>0.168129</td>\n",
       "      <td>0.193093</td>\n",
       "      <td>0.320600</td>\n",
       "      <td>0.043421</td>\n",
       "    </tr>\n",
       "    <tr>\n",
       "      <th>50%</th>\n",
       "      <td>0.111349</td>\n",
       "      <td>0.110685</td>\n",
       "      <td>0.431190</td>\n",
       "      <td>0.365472</td>\n",
       "      <td>0.210115</td>\n",
       "      <td>0.347026</td>\n",
       "      <td>0.441583</td>\n",
       "      <td>0.310941</td>\n",
       "      <td>0.340297</td>\n",
       "      <td>0.372590</td>\n",
       "      <td>0.433691</td>\n",
       "      <td>0.284096</td>\n",
       "    </tr>\n",
       "    <tr>\n",
       "      <th>75%</th>\n",
       "      <td>0.242469</td>\n",
       "      <td>0.265509</td>\n",
       "      <td>0.525971</td>\n",
       "      <td>0.498391</td>\n",
       "      <td>0.387590</td>\n",
       "      <td>0.459835</td>\n",
       "      <td>0.537411</td>\n",
       "      <td>0.443627</td>\n",
       "      <td>0.462612</td>\n",
       "      <td>0.486860</td>\n",
       "      <td>0.526109</td>\n",
       "      <td>0.409065</td>\n",
       "    </tr>\n",
       "    <tr>\n",
       "      <th>max</th>\n",
       "      <td>0.650302</td>\n",
       "      <td>0.718767</td>\n",
       "      <td>0.753934</td>\n",
       "      <td>0.833915</td>\n",
       "      <td>0.690566</td>\n",
       "      <td>0.754375</td>\n",
       "      <td>0.771470</td>\n",
       "      <td>0.788419</td>\n",
       "      <td>0.750733</td>\n",
       "      <td>0.827515</td>\n",
       "      <td>0.821204</td>\n",
       "      <td>0.752575</td>\n",
       "    </tr>\n",
       "  </tbody>\n",
       "</table>\n",
       "</div>"
      ],
      "text/plain": [
       "                0            1            2            3            4   \\\n",
       "count  2256.000000  2256.000000  2256.000000  2256.000000  2256.000000   \n",
       "mean      0.100677     0.109062     0.392484     0.349360     0.148770   \n",
       "std       0.214973     0.212315     0.194154     0.205878     0.317799   \n",
       "min      -0.647082    -0.508870    -0.535934    -0.402330    -0.881572   \n",
       "25%      -0.034490    -0.052282     0.301946     0.221344    -0.033378   \n",
       "50%       0.111349     0.110685     0.431190     0.365472     0.210115   \n",
       "75%       0.242469     0.265509     0.525971     0.498391     0.387590   \n",
       "max       0.650302     0.718767     0.753934     0.833915     0.690566   \n",
       "\n",
       "                5            6            7            8            9   \\\n",
       "count  2256.000000  2256.000000  2256.000000  2256.000000  2256.000000   \n",
       "mean      0.272170     0.432512     0.279286     0.285087     0.305018   \n",
       "std       0.274191     0.150438     0.249262     0.256139     0.279629   \n",
       "min      -0.806175    -0.102553    -0.795275    -0.740763    -0.763263   \n",
       "25%       0.142667     0.342901     0.163220     0.168129     0.193093   \n",
       "50%       0.347026     0.441583     0.310941     0.340297     0.372590   \n",
       "75%       0.459835     0.537411     0.443627     0.462612     0.486860   \n",
       "max       0.754375     0.771470     0.788419     0.750733     0.827515   \n",
       "\n",
       "                10           11  \n",
       "count  2256.000000  2256.000000  \n",
       "mean      0.415206     0.219681  \n",
       "std       0.170768     0.261267  \n",
       "min      -0.133845    -0.718534  \n",
       "25%       0.320600     0.043421  \n",
       "50%       0.433691     0.284096  \n",
       "75%       0.526109     0.409065  \n",
       "max       0.821204     0.752575  "
      ]
     },
     "execution_count": 10,
     "metadata": {},
     "output_type": "execute_result"
    }
   ],
   "source": [
    "df_results"
   ]
  },
  {
   "cell_type": "code",
   "execution_count": 11,
   "metadata": {},
   "outputs": [],
   "source": [
    "# significance testing and whisker plots"
   ]
  },
  {
   "cell_type": "code",
   "execution_count": 12,
   "metadata": {},
   "outputs": [
    {
     "data": {
      "text/plain": [
       "['MEICA_3_echo',\n",
       " 'MEICA_4_echo',\n",
       " '1_echo',\n",
       " '1_echo_SDC',\n",
       " '3_echo',\n",
       " '3_echo_SDC',\n",
       " '3_echo_T2s',\n",
       " '3_echo_T2s_SDC',\n",
       " '4_echo',\n",
       " '4_echo_SDC',\n",
       " '4_echo_T2s',\n",
       " '4_echo_T2s_SDC']"
      ]
     },
     "execution_count": 12,
     "metadata": {},
     "output_type": "execute_result"
    }
   ],
   "source": [
    "xls = xlrd.open_workbook(r'~/Downloads/PhD/Analysis/QC/ARB_QC.xlsx', on_demand=True)\n",
    "pipeline_names = xls.sheet_names()\n",
    "pipeline_names"
   ]
  },
  {
   "cell_type": "code",
   "execution_count": 13,
   "metadata": {},
   "outputs": [
    {
     "data": {
      "text/html": [
       "<div>\n",
       "<style scoped>\n",
       "    .dataframe tbody tr th:only-of-type {\n",
       "        vertical-align: middle;\n",
       "    }\n",
       "\n",
       "    .dataframe tbody tr th {\n",
       "        vertical-align: top;\n",
       "    }\n",
       "\n",
       "    .dataframe thead th {\n",
       "        text-align: right;\n",
       "    }\n",
       "</style>\n",
       "<table border=\"1\" class=\"dataframe\">\n",
       "  <thead>\n",
       "    <tr style=\"text-align: right;\">\n",
       "      <th></th>\n",
       "      <th>0</th>\n",
       "      <th>0</th>\n",
       "      <th>0</th>\n",
       "      <th>0</th>\n",
       "      <th>0</th>\n",
       "      <th>0</th>\n",
       "      <th>0</th>\n",
       "      <th>0</th>\n",
       "      <th>0</th>\n",
       "      <th>0</th>\n",
       "      <th>0</th>\n",
       "      <th>0</th>\n",
       "    </tr>\n",
       "  </thead>\n",
       "  <tbody>\n",
       "    <tr>\n",
       "      <th>0</th>\n",
       "      <td>NaN</td>\n",
       "      <td>NaN</td>\n",
       "      <td>NaN</td>\n",
       "      <td>NaN</td>\n",
       "      <td>NaN</td>\n",
       "      <td>NaN</td>\n",
       "      <td>NaN</td>\n",
       "      <td>NaN</td>\n",
       "      <td>NaN</td>\n",
       "      <td>NaN</td>\n",
       "      <td>NaN</td>\n",
       "      <td>NaN</td>\n",
       "    </tr>\n",
       "    <tr>\n",
       "      <th>1</th>\n",
       "      <td>0.384996</td>\n",
       "      <td>0.342999</td>\n",
       "      <td>0.454217</td>\n",
       "      <td>0.187071</td>\n",
       "      <td>0.156078</td>\n",
       "      <td>0.183209</td>\n",
       "      <td>0.229923</td>\n",
       "      <td>0.223840</td>\n",
       "      <td>0.184350</td>\n",
       "      <td>0.227505</td>\n",
       "      <td>0.205236</td>\n",
       "      <td>0.029463</td>\n",
       "    </tr>\n",
       "    <tr>\n",
       "      <th>2</th>\n",
       "      <td>0.242381</td>\n",
       "      <td>0.396987</td>\n",
       "      <td>0.162325</td>\n",
       "      <td>0.196746</td>\n",
       "      <td>0.013706</td>\n",
       "      <td>0.266043</td>\n",
       "      <td>0.196383</td>\n",
       "      <td>0.273354</td>\n",
       "      <td>0.299407</td>\n",
       "      <td>0.317918</td>\n",
       "      <td>0.217076</td>\n",
       "      <td>0.218231</td>\n",
       "    </tr>\n",
       "    <tr>\n",
       "      <th>3</th>\n",
       "      <td>0.549538</td>\n",
       "      <td>0.394349</td>\n",
       "      <td>0.293782</td>\n",
       "      <td>0.161687</td>\n",
       "      <td>0.034208</td>\n",
       "      <td>0.329320</td>\n",
       "      <td>0.364389</td>\n",
       "      <td>0.282656</td>\n",
       "      <td>0.347755</td>\n",
       "      <td>0.322975</td>\n",
       "      <td>0.324991</td>\n",
       "      <td>0.276846</td>\n",
       "    </tr>\n",
       "    <tr>\n",
       "      <th>4</th>\n",
       "      <td>0.136018</td>\n",
       "      <td>0.270826</td>\n",
       "      <td>0.559989</td>\n",
       "      <td>0.462707</td>\n",
       "      <td>0.417394</td>\n",
       "      <td>0.335514</td>\n",
       "      <td>0.416266</td>\n",
       "      <td>0.346419</td>\n",
       "      <td>0.474643</td>\n",
       "      <td>0.393664</td>\n",
       "      <td>0.378641</td>\n",
       "      <td>0.296504</td>\n",
       "    </tr>\n",
       "    <tr>\n",
       "      <th>...</th>\n",
       "      <td>...</td>\n",
       "      <td>...</td>\n",
       "      <td>...</td>\n",
       "      <td>...</td>\n",
       "      <td>...</td>\n",
       "      <td>...</td>\n",
       "      <td>...</td>\n",
       "      <td>...</td>\n",
       "      <td>...</td>\n",
       "      <td>...</td>\n",
       "      <td>...</td>\n",
       "      <td>...</td>\n",
       "    </tr>\n",
       "    <tr>\n",
       "      <th>2299</th>\n",
       "      <td>0.010518</td>\n",
       "      <td>-0.243205</td>\n",
       "      <td>0.284254</td>\n",
       "      <td>0.186925</td>\n",
       "      <td>-0.369921</td>\n",
       "      <td>-0.101310</td>\n",
       "      <td>0.504293</td>\n",
       "      <td>0.155531</td>\n",
       "      <td>-0.180186</td>\n",
       "      <td>-0.053971</td>\n",
       "      <td>0.475744</td>\n",
       "      <td>-0.247905</td>\n",
       "    </tr>\n",
       "    <tr>\n",
       "      <th>2300</th>\n",
       "      <td>-0.077595</td>\n",
       "      <td>-0.255462</td>\n",
       "      <td>0.322994</td>\n",
       "      <td>0.457801</td>\n",
       "      <td>0.225524</td>\n",
       "      <td>0.375088</td>\n",
       "      <td>0.445508</td>\n",
       "      <td>0.293050</td>\n",
       "      <td>0.335623</td>\n",
       "      <td>0.358809</td>\n",
       "      <td>0.486668</td>\n",
       "      <td>0.215207</td>\n",
       "    </tr>\n",
       "    <tr>\n",
       "      <th>2301</th>\n",
       "      <td>-0.005935</td>\n",
       "      <td>-0.296298</td>\n",
       "      <td>0.235719</td>\n",
       "      <td>0.365281</td>\n",
       "      <td>0.177519</td>\n",
       "      <td>0.385519</td>\n",
       "      <td>0.355207</td>\n",
       "      <td>0.433220</td>\n",
       "      <td>0.334273</td>\n",
       "      <td>0.284867</td>\n",
       "      <td>0.229742</td>\n",
       "      <td>0.163960</td>\n",
       "    </tr>\n",
       "    <tr>\n",
       "      <th>2302</th>\n",
       "      <td>-0.235827</td>\n",
       "      <td>-0.086063</td>\n",
       "      <td>-0.078037</td>\n",
       "      <td>0.271601</td>\n",
       "      <td>0.007360</td>\n",
       "      <td>0.149931</td>\n",
       "      <td>0.322864</td>\n",
       "      <td>0.130098</td>\n",
       "      <td>-0.119136</td>\n",
       "      <td>0.031038</td>\n",
       "      <td>0.081419</td>\n",
       "      <td>-0.046131</td>\n",
       "    </tr>\n",
       "    <tr>\n",
       "      <th>2303</th>\n",
       "      <td>NaN</td>\n",
       "      <td>NaN</td>\n",
       "      <td>NaN</td>\n",
       "      <td>NaN</td>\n",
       "      <td>NaN</td>\n",
       "      <td>NaN</td>\n",
       "      <td>NaN</td>\n",
       "      <td>NaN</td>\n",
       "      <td>NaN</td>\n",
       "      <td>NaN</td>\n",
       "      <td>NaN</td>\n",
       "      <td>NaN</td>\n",
       "    </tr>\n",
       "  </tbody>\n",
       "</table>\n",
       "<p>2304 rows × 12 columns</p>\n",
       "</div>"
      ],
      "text/plain": [
       "             0         0         0         0         0         0         0  \\\n",
       "0          NaN       NaN       NaN       NaN       NaN       NaN       NaN   \n",
       "1     0.384996  0.342999  0.454217  0.187071  0.156078  0.183209  0.229923   \n",
       "2     0.242381  0.396987  0.162325  0.196746  0.013706  0.266043  0.196383   \n",
       "3     0.549538  0.394349  0.293782  0.161687  0.034208  0.329320  0.364389   \n",
       "4     0.136018  0.270826  0.559989  0.462707  0.417394  0.335514  0.416266   \n",
       "...        ...       ...       ...       ...       ...       ...       ...   \n",
       "2299  0.010518 -0.243205  0.284254  0.186925 -0.369921 -0.101310  0.504293   \n",
       "2300 -0.077595 -0.255462  0.322994  0.457801  0.225524  0.375088  0.445508   \n",
       "2301 -0.005935 -0.296298  0.235719  0.365281  0.177519  0.385519  0.355207   \n",
       "2302 -0.235827 -0.086063 -0.078037  0.271601  0.007360  0.149931  0.322864   \n",
       "2303       NaN       NaN       NaN       NaN       NaN       NaN       NaN   \n",
       "\n",
       "             0         0         0         0         0  \n",
       "0          NaN       NaN       NaN       NaN       NaN  \n",
       "1     0.223840  0.184350  0.227505  0.205236  0.029463  \n",
       "2     0.273354  0.299407  0.317918  0.217076  0.218231  \n",
       "3     0.282656  0.347755  0.322975  0.324991  0.276846  \n",
       "4     0.346419  0.474643  0.393664  0.378641  0.296504  \n",
       "...        ...       ...       ...       ...       ...  \n",
       "2299  0.155531 -0.180186 -0.053971  0.475744 -0.247905  \n",
       "2300  0.293050  0.335623  0.358809  0.486668  0.215207  \n",
       "2301  0.433220  0.334273  0.284867  0.229742  0.163960  \n",
       "2302  0.130098 -0.119136  0.031038  0.081419 -0.046131  \n",
       "2303       NaN       NaN       NaN       NaN       NaN  \n",
       "\n",
       "[2304 rows x 12 columns]"
      ]
     },
     "execution_count": 13,
     "metadata": {},
     "output_type": "execute_result"
    }
   ],
   "source": [
    "df_pipeline_list = pd.concat(corr_matrix_list, axis=1)\n",
    "df_pipeline_list"
   ]
  },
  {
   "cell_type": "code",
   "execution_count": 14,
   "metadata": {},
   "outputs": [
    {
     "data": {
      "text/html": [
       "<div>\n",
       "<style scoped>\n",
       "    .dataframe tbody tr th:only-of-type {\n",
       "        vertical-align: middle;\n",
       "    }\n",
       "\n",
       "    .dataframe tbody tr th {\n",
       "        vertical-align: top;\n",
       "    }\n",
       "\n",
       "    .dataframe thead th {\n",
       "        text-align: right;\n",
       "    }\n",
       "</style>\n",
       "<table border=\"1\" class=\"dataframe\">\n",
       "  <thead>\n",
       "    <tr style=\"text-align: right;\">\n",
       "      <th></th>\n",
       "      <th>3-echo ME-ICA</th>\n",
       "      <th>4-echo ME-ICA</th>\n",
       "      <th>1-echo baseline</th>\n",
       "      <th>1-echo + SDC</th>\n",
       "      <th>3-echo</th>\n",
       "      <th>3-echo + SDC</th>\n",
       "      <th>3-echo + T2s</th>\n",
       "      <th>3-echo + T2s + SDC</th>\n",
       "      <th>4-echo</th>\n",
       "      <th>4-echo + SDC</th>\n",
       "      <th>4-echo + T2s</th>\n",
       "      <th>4-echo + T2s + SDC</th>\n",
       "    </tr>\n",
       "  </thead>\n",
       "  <tbody>\n",
       "    <tr>\n",
       "      <th>0</th>\n",
       "      <td>NaN</td>\n",
       "      <td>NaN</td>\n",
       "      <td>NaN</td>\n",
       "      <td>NaN</td>\n",
       "      <td>NaN</td>\n",
       "      <td>NaN</td>\n",
       "      <td>NaN</td>\n",
       "      <td>NaN</td>\n",
       "      <td>NaN</td>\n",
       "      <td>NaN</td>\n",
       "      <td>NaN</td>\n",
       "      <td>NaN</td>\n",
       "    </tr>\n",
       "    <tr>\n",
       "      <th>1</th>\n",
       "      <td>0.384996</td>\n",
       "      <td>0.342999</td>\n",
       "      <td>0.454217</td>\n",
       "      <td>0.187071</td>\n",
       "      <td>0.156078</td>\n",
       "      <td>0.183209</td>\n",
       "      <td>0.229923</td>\n",
       "      <td>0.223840</td>\n",
       "      <td>0.184350</td>\n",
       "      <td>0.227505</td>\n",
       "      <td>0.205236</td>\n",
       "      <td>0.029463</td>\n",
       "    </tr>\n",
       "    <tr>\n",
       "      <th>2</th>\n",
       "      <td>0.242381</td>\n",
       "      <td>0.396987</td>\n",
       "      <td>0.162325</td>\n",
       "      <td>0.196746</td>\n",
       "      <td>0.013706</td>\n",
       "      <td>0.266043</td>\n",
       "      <td>0.196383</td>\n",
       "      <td>0.273354</td>\n",
       "      <td>0.299407</td>\n",
       "      <td>0.317918</td>\n",
       "      <td>0.217076</td>\n",
       "      <td>0.218231</td>\n",
       "    </tr>\n",
       "    <tr>\n",
       "      <th>3</th>\n",
       "      <td>0.549538</td>\n",
       "      <td>0.394349</td>\n",
       "      <td>0.293782</td>\n",
       "      <td>0.161687</td>\n",
       "      <td>0.034208</td>\n",
       "      <td>0.329320</td>\n",
       "      <td>0.364389</td>\n",
       "      <td>0.282656</td>\n",
       "      <td>0.347755</td>\n",
       "      <td>0.322975</td>\n",
       "      <td>0.324991</td>\n",
       "      <td>0.276846</td>\n",
       "    </tr>\n",
       "    <tr>\n",
       "      <th>4</th>\n",
       "      <td>0.136018</td>\n",
       "      <td>0.270826</td>\n",
       "      <td>0.559989</td>\n",
       "      <td>0.462707</td>\n",
       "      <td>0.417394</td>\n",
       "      <td>0.335514</td>\n",
       "      <td>0.416266</td>\n",
       "      <td>0.346419</td>\n",
       "      <td>0.474643</td>\n",
       "      <td>0.393664</td>\n",
       "      <td>0.378641</td>\n",
       "      <td>0.296504</td>\n",
       "    </tr>\n",
       "    <tr>\n",
       "      <th>...</th>\n",
       "      <td>...</td>\n",
       "      <td>...</td>\n",
       "      <td>...</td>\n",
       "      <td>...</td>\n",
       "      <td>...</td>\n",
       "      <td>...</td>\n",
       "      <td>...</td>\n",
       "      <td>...</td>\n",
       "      <td>...</td>\n",
       "      <td>...</td>\n",
       "      <td>...</td>\n",
       "      <td>...</td>\n",
       "    </tr>\n",
       "    <tr>\n",
       "      <th>2299</th>\n",
       "      <td>0.010518</td>\n",
       "      <td>-0.243205</td>\n",
       "      <td>0.284254</td>\n",
       "      <td>0.186925</td>\n",
       "      <td>-0.369921</td>\n",
       "      <td>-0.101310</td>\n",
       "      <td>0.504293</td>\n",
       "      <td>0.155531</td>\n",
       "      <td>-0.180186</td>\n",
       "      <td>-0.053971</td>\n",
       "      <td>0.475744</td>\n",
       "      <td>-0.247905</td>\n",
       "    </tr>\n",
       "    <tr>\n",
       "      <th>2300</th>\n",
       "      <td>-0.077595</td>\n",
       "      <td>-0.255462</td>\n",
       "      <td>0.322994</td>\n",
       "      <td>0.457801</td>\n",
       "      <td>0.225524</td>\n",
       "      <td>0.375088</td>\n",
       "      <td>0.445508</td>\n",
       "      <td>0.293050</td>\n",
       "      <td>0.335623</td>\n",
       "      <td>0.358809</td>\n",
       "      <td>0.486668</td>\n",
       "      <td>0.215207</td>\n",
       "    </tr>\n",
       "    <tr>\n",
       "      <th>2301</th>\n",
       "      <td>-0.005935</td>\n",
       "      <td>-0.296298</td>\n",
       "      <td>0.235719</td>\n",
       "      <td>0.365281</td>\n",
       "      <td>0.177519</td>\n",
       "      <td>0.385519</td>\n",
       "      <td>0.355207</td>\n",
       "      <td>0.433220</td>\n",
       "      <td>0.334273</td>\n",
       "      <td>0.284867</td>\n",
       "      <td>0.229742</td>\n",
       "      <td>0.163960</td>\n",
       "    </tr>\n",
       "    <tr>\n",
       "      <th>2302</th>\n",
       "      <td>-0.235827</td>\n",
       "      <td>-0.086063</td>\n",
       "      <td>-0.078037</td>\n",
       "      <td>0.271601</td>\n",
       "      <td>0.007360</td>\n",
       "      <td>0.149931</td>\n",
       "      <td>0.322864</td>\n",
       "      <td>0.130098</td>\n",
       "      <td>-0.119136</td>\n",
       "      <td>0.031038</td>\n",
       "      <td>0.081419</td>\n",
       "      <td>-0.046131</td>\n",
       "    </tr>\n",
       "    <tr>\n",
       "      <th>2303</th>\n",
       "      <td>NaN</td>\n",
       "      <td>NaN</td>\n",
       "      <td>NaN</td>\n",
       "      <td>NaN</td>\n",
       "      <td>NaN</td>\n",
       "      <td>NaN</td>\n",
       "      <td>NaN</td>\n",
       "      <td>NaN</td>\n",
       "      <td>NaN</td>\n",
       "      <td>NaN</td>\n",
       "      <td>NaN</td>\n",
       "      <td>NaN</td>\n",
       "    </tr>\n",
       "  </tbody>\n",
       "</table>\n",
       "<p>2304 rows × 12 columns</p>\n",
       "</div>"
      ],
      "text/plain": [
       "      3-echo ME-ICA  4-echo ME-ICA  1-echo baseline  1-echo + SDC    3-echo  \\\n",
       "0               NaN            NaN              NaN           NaN       NaN   \n",
       "1          0.384996       0.342999         0.454217      0.187071  0.156078   \n",
       "2          0.242381       0.396987         0.162325      0.196746  0.013706   \n",
       "3          0.549538       0.394349         0.293782      0.161687  0.034208   \n",
       "4          0.136018       0.270826         0.559989      0.462707  0.417394   \n",
       "...             ...            ...              ...           ...       ...   \n",
       "2299       0.010518      -0.243205         0.284254      0.186925 -0.369921   \n",
       "2300      -0.077595      -0.255462         0.322994      0.457801  0.225524   \n",
       "2301      -0.005935      -0.296298         0.235719      0.365281  0.177519   \n",
       "2302      -0.235827      -0.086063        -0.078037      0.271601  0.007360   \n",
       "2303            NaN            NaN              NaN           NaN       NaN   \n",
       "\n",
       "      3-echo + SDC  3-echo + T2s  3-echo + T2s + SDC    4-echo  4-echo + SDC  \\\n",
       "0              NaN           NaN                 NaN       NaN           NaN   \n",
       "1         0.183209      0.229923            0.223840  0.184350      0.227505   \n",
       "2         0.266043      0.196383            0.273354  0.299407      0.317918   \n",
       "3         0.329320      0.364389            0.282656  0.347755      0.322975   \n",
       "4         0.335514      0.416266            0.346419  0.474643      0.393664   \n",
       "...            ...           ...                 ...       ...           ...   \n",
       "2299     -0.101310      0.504293            0.155531 -0.180186     -0.053971   \n",
       "2300      0.375088      0.445508            0.293050  0.335623      0.358809   \n",
       "2301      0.385519      0.355207            0.433220  0.334273      0.284867   \n",
       "2302      0.149931      0.322864            0.130098 -0.119136      0.031038   \n",
       "2303           NaN           NaN                 NaN       NaN           NaN   \n",
       "\n",
       "      4-echo + T2s  4-echo + T2s + SDC  \n",
       "0              NaN                 NaN  \n",
       "1         0.205236            0.029463  \n",
       "2         0.217076            0.218231  \n",
       "3         0.324991            0.276846  \n",
       "4         0.378641            0.296504  \n",
       "...            ...                 ...  \n",
       "2299      0.475744           -0.247905  \n",
       "2300      0.486668            0.215207  \n",
       "2301      0.229742            0.163960  \n",
       "2302      0.081419           -0.046131  \n",
       "2303           NaN                 NaN  \n",
       "\n",
       "[2304 rows x 12 columns]"
      ]
     },
     "execution_count": 14,
     "metadata": {},
     "output_type": "execute_result"
    }
   ],
   "source": [
    "# Rename columns so that they are labelled by the pipeline names\n",
    "new_pipeline_names = ['3-echo ME-ICA', \n",
    " '4-echo ME-ICA',\n",
    " '1-echo baseline',\n",
    " '1-echo + SDC',\n",
    " '3-echo',\n",
    " '3-echo + SDC',\n",
    " '3-echo + T2s',\n",
    " '3-echo + T2s + SDC',\n",
    " '4-echo',\n",
    " '4-echo + SDC',\n",
    " '4-echo + T2s',\n",
    " '4-echo + T2s + SDC']\n",
    "df_pipeline_list.columns = new_pipeline_names\n",
    "df_pipeline_list"
   ]
  },
  {
   "cell_type": "code",
   "execution_count": 16,
   "metadata": {},
   "outputs": [
    {
     "data": {
      "text/plain": [
       "12"
      ]
     },
     "execution_count": 16,
     "metadata": {},
     "output_type": "execute_result"
    }
   ],
   "source": [
    "df_pipeline_list.shape[1]"
   ]
  },
  {
   "cell_type": "code",
   "execution_count": 17,
   "metadata": {},
   "outputs": [
    {
     "name": "stdout",
     "output_type": "stream",
     "text": [
      "The median for 3-echo ME-ICA is = 0.11134853596488054\n",
      "The median for 4-echo ME-ICA is = 0.11068451217372469\n",
      "The median for 1-echo baseline is = 0.4311897582999403\n",
      "The median for 1-echo + SDC is = 0.3654716277989356\n",
      "The median for 3-echo is = 0.21011506075405767\n",
      "The median for 3-echo + SDC is = 0.3470263911542506\n",
      "The median for 3-echo + T2s is = 0.4415827802931888\n",
      "The median for 3-echo + T2s + SDC is = 0.310941336688072\n",
      "The median for 4-echo is = 0.34029715441400676\n",
      "The median for 4-echo + SDC is = 0.37259034789970613\n",
      "The median for 4-echo + T2s is = 0.43369142830991037\n",
      "The median for 4-echo + T2s + SDC is = 0.2840955509840137\n"
     ]
    }
   ],
   "source": [
    "for i in range(df_pipeline_list.shape[1]):\n",
    "    print('The median for ' + df_pipeline_list.columns[i] + ' is = ' + str(np.nanmedian(df_pipeline_list.iloc[:,i])) )"
   ]
  },
  {
   "cell_type": "code",
   "execution_count": null,
   "metadata": {},
   "outputs": [],
   "source": []
  },
  {
   "cell_type": "code",
   "execution_count": 18,
   "metadata": {},
   "outputs": [
    {
     "name": "stdout",
     "output_type": "stream",
     "text": [
      "[('MEICA_3_echo', 'MEICA_4_echo'), ('MEICA_3_echo', '1_echo'), ('MEICA_3_echo', '1_echo_SDC'), ('MEICA_3_echo', '3_echo'), ('MEICA_3_echo', '3_echo_SDC'), ('MEICA_3_echo', '3_echo_T2s'), ('MEICA_3_echo', '3_echo_T2s_SDC'), ('MEICA_3_echo', '4_echo'), ('MEICA_3_echo', '4_echo_SDC'), ('MEICA_3_echo', '4_echo_T2s'), ('MEICA_3_echo', '4_echo_T2s_SDC'), ('MEICA_4_echo', '1_echo'), ('MEICA_4_echo', '1_echo_SDC'), ('MEICA_4_echo', '3_echo'), ('MEICA_4_echo', '3_echo_SDC'), ('MEICA_4_echo', '3_echo_T2s'), ('MEICA_4_echo', '3_echo_T2s_SDC'), ('MEICA_4_echo', '4_echo'), ('MEICA_4_echo', '4_echo_SDC'), ('MEICA_4_echo', '4_echo_T2s'), ('MEICA_4_echo', '4_echo_T2s_SDC'), ('1_echo', '1_echo_SDC'), ('1_echo', '3_echo'), ('1_echo', '3_echo_SDC'), ('1_echo', '3_echo_T2s'), ('1_echo', '3_echo_T2s_SDC'), ('1_echo', '4_echo'), ('1_echo', '4_echo_SDC'), ('1_echo', '4_echo_T2s'), ('1_echo', '4_echo_T2s_SDC'), ('1_echo_SDC', '3_echo'), ('1_echo_SDC', '3_echo_SDC'), ('1_echo_SDC', '3_echo_T2s'), ('1_echo_SDC', '3_echo_T2s_SDC'), ('1_echo_SDC', '4_echo'), ('1_echo_SDC', '4_echo_SDC'), ('1_echo_SDC', '4_echo_T2s'), ('1_echo_SDC', '4_echo_T2s_SDC'), ('3_echo', '3_echo_SDC'), ('3_echo', '3_echo_T2s'), ('3_echo', '3_echo_T2s_SDC'), ('3_echo', '4_echo'), ('3_echo', '4_echo_SDC'), ('3_echo', '4_echo_T2s'), ('3_echo', '4_echo_T2s_SDC'), ('3_echo_SDC', '3_echo_T2s'), ('3_echo_SDC', '3_echo_T2s_SDC'), ('3_echo_SDC', '4_echo'), ('3_echo_SDC', '4_echo_SDC'), ('3_echo_SDC', '4_echo_T2s'), ('3_echo_SDC', '4_echo_T2s_SDC'), ('3_echo_T2s', '3_echo_T2s_SDC'), ('3_echo_T2s', '4_echo'), ('3_echo_T2s', '4_echo_SDC'), ('3_echo_T2s', '4_echo_T2s'), ('3_echo_T2s', '4_echo_T2s_SDC'), ('3_echo_T2s_SDC', '4_echo'), ('3_echo_T2s_SDC', '4_echo_SDC'), ('3_echo_T2s_SDC', '4_echo_T2s'), ('3_echo_T2s_SDC', '4_echo_T2s_SDC'), ('4_echo', '4_echo_SDC'), ('4_echo', '4_echo_T2s'), ('4_echo', '4_echo_T2s_SDC'), ('4_echo_SDC', '4_echo_T2s'), ('4_echo_SDC', '4_echo_T2s_SDC'), ('4_echo_T2s', '4_echo_T2s_SDC')]\n",
      "66\n"
     ]
    }
   ],
   "source": [
    "# create a list that contains all possible pairs of pipelines WITHOUT repetitions!!\n",
    "combo_list = list(itertools.combinations(pipeline_names, 2))\n",
    "print(combo_list)\n",
    "# to see how many comparisons would be made\n",
    "print(len(combo_list))"
   ]
  },
  {
   "cell_type": "code",
   "execution_count": null,
   "metadata": {},
   "outputs": [],
   "source": []
  },
  {
   "cell_type": "code",
   "execution_count": 19,
   "metadata": {},
   "outputs": [],
   "source": [
    "# multiple comparisons correction\n",
    "# Bonferroni is not appropriate (and too stringent) as the samples are not independent !!!\n",
    "# Perhaps calculate p-values and correct using scipy.stats and module below \n",
    "# and then use those 'custom' corrected p-values for statannot\n",
    "# https://www.statsmodels.org/dev/generated/statsmodels.stats.multitest.multipletests.html"
   ]
  },
  {
   "cell_type": "code",
   "execution_count": 20,
   "metadata": {},
   "outputs": [
    {
     "name": "stdout",
     "output_type": "stream",
     "text": [
      "MEICA_3_echo\n",
      "MEICA_4_echo\n",
      "<class 'str'>\n"
     ]
    }
   ],
   "source": [
    "print(combo_list[0][0])\n",
    "print(combo_list[0][1])\n",
    "print(type(combo_list[0][1]))"
   ]
  },
  {
   "cell_type": "code",
   "execution_count": 21,
   "metadata": {},
   "outputs": [
    {
     "ename": "KeyError",
     "evalue": "'MEICA_3_echo'",
     "output_type": "error",
     "traceback": [
      "\u001b[0;31m---------------------------------------------------------------------------\u001b[0m",
      "\u001b[0;31mKeyError\u001b[0m                                  Traceback (most recent call last)",
      "\u001b[0;32m/opt/anaconda3/lib/python3.7/site-packages/pandas/core/indexes/base.py\u001b[0m in \u001b[0;36mget_loc\u001b[0;34m(self, key, method, tolerance)\u001b[0m\n\u001b[1;32m   2897\u001b[0m             \u001b[0;32mtry\u001b[0m\u001b[0;34m:\u001b[0m\u001b[0;34m\u001b[0m\u001b[0;34m\u001b[0m\u001b[0m\n\u001b[0;32m-> 2898\u001b[0;31m                 \u001b[0;32mreturn\u001b[0m \u001b[0mself\u001b[0m\u001b[0;34m.\u001b[0m\u001b[0m_engine\u001b[0m\u001b[0;34m.\u001b[0m\u001b[0mget_loc\u001b[0m\u001b[0;34m(\u001b[0m\u001b[0mcasted_key\u001b[0m\u001b[0;34m)\u001b[0m\u001b[0;34m\u001b[0m\u001b[0;34m\u001b[0m\u001b[0m\n\u001b[0m\u001b[1;32m   2899\u001b[0m             \u001b[0;32mexcept\u001b[0m \u001b[0mKeyError\u001b[0m \u001b[0;32mas\u001b[0m \u001b[0merr\u001b[0m\u001b[0;34m:\u001b[0m\u001b[0;34m\u001b[0m\u001b[0;34m\u001b[0m\u001b[0m\n",
      "\u001b[0;32mpandas/_libs/index.pyx\u001b[0m in \u001b[0;36mpandas._libs.index.IndexEngine.get_loc\u001b[0;34m()\u001b[0m\n",
      "\u001b[0;32mpandas/_libs/index.pyx\u001b[0m in \u001b[0;36mpandas._libs.index.IndexEngine.get_loc\u001b[0;34m()\u001b[0m\n",
      "\u001b[0;32mpandas/_libs/hashtable_class_helper.pxi\u001b[0m in \u001b[0;36mpandas._libs.hashtable.PyObjectHashTable.get_item\u001b[0;34m()\u001b[0m\n",
      "\u001b[0;32mpandas/_libs/hashtable_class_helper.pxi\u001b[0m in \u001b[0;36mpandas._libs.hashtable.PyObjectHashTable.get_item\u001b[0;34m()\u001b[0m\n",
      "\u001b[0;31mKeyError\u001b[0m: 'MEICA_3_echo'",
      "\nThe above exception was the direct cause of the following exception:\n",
      "\u001b[0;31mKeyError\u001b[0m                                  Traceback (most recent call last)",
      "\u001b[0;32m<ipython-input-21-264af3b784d3>\u001b[0m in \u001b[0;36m<module>\u001b[0;34m\u001b[0m\n\u001b[1;32m      3\u001b[0m     \u001b[0mcombo_cont1\u001b[0m \u001b[0;34m=\u001b[0m \u001b[0mcombo_list\u001b[0m\u001b[0;34m[\u001b[0m\u001b[0mn\u001b[0m\u001b[0;34m]\u001b[0m\u001b[0;34m[\u001b[0m\u001b[0;36m0\u001b[0m\u001b[0;34m]\u001b[0m\u001b[0;34m\u001b[0m\u001b[0;34m\u001b[0m\u001b[0m\n\u001b[1;32m      4\u001b[0m     \u001b[0mcombo_cont2\u001b[0m \u001b[0;34m=\u001b[0m \u001b[0mcombo_list\u001b[0m\u001b[0;34m[\u001b[0m\u001b[0mn\u001b[0m\u001b[0;34m]\u001b[0m\u001b[0;34m[\u001b[0m\u001b[0;36m1\u001b[0m\u001b[0;34m]\u001b[0m\u001b[0;34m\u001b[0m\u001b[0;34m\u001b[0m\u001b[0m\n\u001b[0;32m----> 5\u001b[0;31m     \u001b[0mw\u001b[0m\u001b[0;34m,\u001b[0m \u001b[0mp\u001b[0m \u001b[0;34m=\u001b[0m \u001b[0mwilcoxon\u001b[0m\u001b[0;34m(\u001b[0m\u001b[0mdf_pipeline_list\u001b[0m\u001b[0;34m.\u001b[0m\u001b[0mloc\u001b[0m\u001b[0;34m[\u001b[0m\u001b[0;34m:\u001b[0m\u001b[0;34m,\u001b[0m \u001b[0mcombo_cont1\u001b[0m\u001b[0;34m]\u001b[0m\u001b[0;34m,\u001b[0m \u001b[0mdf_pipeline_list\u001b[0m\u001b[0;34m.\u001b[0m\u001b[0mloc\u001b[0m\u001b[0;34m[\u001b[0m\u001b[0;34m:\u001b[0m\u001b[0;34m,\u001b[0m \u001b[0mcombo_cont2\u001b[0m\u001b[0;34m]\u001b[0m\u001b[0;34m)\u001b[0m\u001b[0;34m\u001b[0m\u001b[0;34m\u001b[0m\u001b[0m\n\u001b[0m\u001b[1;32m      6\u001b[0m     \u001b[0muncorrected_p_vals\u001b[0m\u001b[0;34m.\u001b[0m\u001b[0mappend\u001b[0m\u001b[0;34m(\u001b[0m\u001b[0mp\u001b[0m\u001b[0;34m)\u001b[0m\u001b[0;34m\u001b[0m\u001b[0;34m\u001b[0m\u001b[0m\n\u001b[1;32m      7\u001b[0m \u001b[0muncorrected_p_vals\u001b[0m\u001b[0;34m\u001b[0m\u001b[0;34m\u001b[0m\u001b[0m\n",
      "\u001b[0;32m/opt/anaconda3/lib/python3.7/site-packages/pandas/core/indexing.py\u001b[0m in \u001b[0;36m__getitem__\u001b[0;34m(self, key)\u001b[0m\n\u001b[1;32m    871\u001b[0m                     \u001b[0;31m# AttributeError for IntervalTree get_value\u001b[0m\u001b[0;34m\u001b[0m\u001b[0;34m\u001b[0m\u001b[0;34m\u001b[0m\u001b[0m\n\u001b[1;32m    872\u001b[0m                     \u001b[0;32mpass\u001b[0m\u001b[0;34m\u001b[0m\u001b[0;34m\u001b[0m\u001b[0m\n\u001b[0;32m--> 873\u001b[0;31m             \u001b[0;32mreturn\u001b[0m \u001b[0mself\u001b[0m\u001b[0;34m.\u001b[0m\u001b[0m_getitem_tuple\u001b[0m\u001b[0;34m(\u001b[0m\u001b[0mkey\u001b[0m\u001b[0;34m)\u001b[0m\u001b[0;34m\u001b[0m\u001b[0;34m\u001b[0m\u001b[0m\n\u001b[0m\u001b[1;32m    874\u001b[0m         \u001b[0;32melse\u001b[0m\u001b[0;34m:\u001b[0m\u001b[0;34m\u001b[0m\u001b[0;34m\u001b[0m\u001b[0m\n\u001b[1;32m    875\u001b[0m             \u001b[0;31m# we by definition only have the 0th axis\u001b[0m\u001b[0;34m\u001b[0m\u001b[0;34m\u001b[0m\u001b[0;34m\u001b[0m\u001b[0m\n",
      "\u001b[0;32m/opt/anaconda3/lib/python3.7/site-packages/pandas/core/indexing.py\u001b[0m in \u001b[0;36m_getitem_tuple\u001b[0;34m(self, tup)\u001b[0m\n\u001b[1;32m   1042\u001b[0m     \u001b[0;32mdef\u001b[0m \u001b[0m_getitem_tuple\u001b[0m\u001b[0;34m(\u001b[0m\u001b[0mself\u001b[0m\u001b[0;34m,\u001b[0m \u001b[0mtup\u001b[0m\u001b[0;34m:\u001b[0m \u001b[0mTuple\u001b[0m\u001b[0;34m)\u001b[0m\u001b[0;34m:\u001b[0m\u001b[0;34m\u001b[0m\u001b[0;34m\u001b[0m\u001b[0m\n\u001b[1;32m   1043\u001b[0m         \u001b[0;32mtry\u001b[0m\u001b[0;34m:\u001b[0m\u001b[0;34m\u001b[0m\u001b[0;34m\u001b[0m\u001b[0m\n\u001b[0;32m-> 1044\u001b[0;31m             \u001b[0;32mreturn\u001b[0m \u001b[0mself\u001b[0m\u001b[0;34m.\u001b[0m\u001b[0m_getitem_lowerdim\u001b[0m\u001b[0;34m(\u001b[0m\u001b[0mtup\u001b[0m\u001b[0;34m)\u001b[0m\u001b[0;34m\u001b[0m\u001b[0;34m\u001b[0m\u001b[0m\n\u001b[0m\u001b[1;32m   1045\u001b[0m         \u001b[0;32mexcept\u001b[0m \u001b[0mIndexingError\u001b[0m\u001b[0;34m:\u001b[0m\u001b[0;34m\u001b[0m\u001b[0;34m\u001b[0m\u001b[0m\n\u001b[1;32m   1046\u001b[0m             \u001b[0;32mpass\u001b[0m\u001b[0;34m\u001b[0m\u001b[0;34m\u001b[0m\u001b[0m\n",
      "\u001b[0;32m/opt/anaconda3/lib/python3.7/site-packages/pandas/core/indexing.py\u001b[0m in \u001b[0;36m_getitem_lowerdim\u001b[0;34m(self, tup)\u001b[0m\n\u001b[1;32m    784\u001b[0m                 \u001b[0;31m# We don't need to check for tuples here because those are\u001b[0m\u001b[0;34m\u001b[0m\u001b[0;34m\u001b[0m\u001b[0;34m\u001b[0m\u001b[0m\n\u001b[1;32m    785\u001b[0m                 \u001b[0;31m#  caught by the _is_nested_tuple_indexer check above.\u001b[0m\u001b[0;34m\u001b[0m\u001b[0;34m\u001b[0m\u001b[0;34m\u001b[0m\u001b[0m\n\u001b[0;32m--> 786\u001b[0;31m                 \u001b[0msection\u001b[0m \u001b[0;34m=\u001b[0m \u001b[0mself\u001b[0m\u001b[0;34m.\u001b[0m\u001b[0m_getitem_axis\u001b[0m\u001b[0;34m(\u001b[0m\u001b[0mkey\u001b[0m\u001b[0;34m,\u001b[0m \u001b[0maxis\u001b[0m\u001b[0;34m=\u001b[0m\u001b[0mi\u001b[0m\u001b[0;34m)\u001b[0m\u001b[0;34m\u001b[0m\u001b[0;34m\u001b[0m\u001b[0m\n\u001b[0m\u001b[1;32m    787\u001b[0m \u001b[0;34m\u001b[0m\u001b[0m\n\u001b[1;32m    788\u001b[0m                 \u001b[0;31m# We should never have a scalar section here, because\u001b[0m\u001b[0;34m\u001b[0m\u001b[0;34m\u001b[0m\u001b[0;34m\u001b[0m\u001b[0m\n",
      "\u001b[0;32m/opt/anaconda3/lib/python3.7/site-packages/pandas/core/indexing.py\u001b[0m in \u001b[0;36m_getitem_axis\u001b[0;34m(self, key, axis)\u001b[0m\n\u001b[1;32m   1108\u001b[0m         \u001b[0;31m# fall thru to straight lookup\u001b[0m\u001b[0;34m\u001b[0m\u001b[0;34m\u001b[0m\u001b[0;34m\u001b[0m\u001b[0m\n\u001b[1;32m   1109\u001b[0m         \u001b[0mself\u001b[0m\u001b[0;34m.\u001b[0m\u001b[0m_validate_key\u001b[0m\u001b[0;34m(\u001b[0m\u001b[0mkey\u001b[0m\u001b[0;34m,\u001b[0m \u001b[0maxis\u001b[0m\u001b[0;34m)\u001b[0m\u001b[0;34m\u001b[0m\u001b[0;34m\u001b[0m\u001b[0m\n\u001b[0;32m-> 1110\u001b[0;31m         \u001b[0;32mreturn\u001b[0m \u001b[0mself\u001b[0m\u001b[0;34m.\u001b[0m\u001b[0m_get_label\u001b[0m\u001b[0;34m(\u001b[0m\u001b[0mkey\u001b[0m\u001b[0;34m,\u001b[0m \u001b[0maxis\u001b[0m\u001b[0;34m=\u001b[0m\u001b[0maxis\u001b[0m\u001b[0;34m)\u001b[0m\u001b[0;34m\u001b[0m\u001b[0;34m\u001b[0m\u001b[0m\n\u001b[0m\u001b[1;32m   1111\u001b[0m \u001b[0;34m\u001b[0m\u001b[0m\n\u001b[1;32m   1112\u001b[0m     \u001b[0;32mdef\u001b[0m \u001b[0m_get_slice_axis\u001b[0m\u001b[0;34m(\u001b[0m\u001b[0mself\u001b[0m\u001b[0;34m,\u001b[0m \u001b[0mslice_obj\u001b[0m\u001b[0;34m:\u001b[0m \u001b[0mslice\u001b[0m\u001b[0;34m,\u001b[0m \u001b[0maxis\u001b[0m\u001b[0;34m:\u001b[0m \u001b[0mint\u001b[0m\u001b[0;34m)\u001b[0m\u001b[0;34m:\u001b[0m\u001b[0;34m\u001b[0m\u001b[0;34m\u001b[0m\u001b[0m\n",
      "\u001b[0;32m/opt/anaconda3/lib/python3.7/site-packages/pandas/core/indexing.py\u001b[0m in \u001b[0;36m_get_label\u001b[0;34m(self, label, axis)\u001b[0m\n\u001b[1;32m   1057\u001b[0m     \u001b[0;32mdef\u001b[0m \u001b[0m_get_label\u001b[0m\u001b[0;34m(\u001b[0m\u001b[0mself\u001b[0m\u001b[0;34m,\u001b[0m \u001b[0mlabel\u001b[0m\u001b[0;34m,\u001b[0m \u001b[0maxis\u001b[0m\u001b[0;34m:\u001b[0m \u001b[0mint\u001b[0m\u001b[0;34m)\u001b[0m\u001b[0;34m:\u001b[0m\u001b[0;34m\u001b[0m\u001b[0;34m\u001b[0m\u001b[0m\n\u001b[1;32m   1058\u001b[0m         \u001b[0;31m# GH#5667 this will fail if the label is not present in the axis.\u001b[0m\u001b[0;34m\u001b[0m\u001b[0;34m\u001b[0m\u001b[0;34m\u001b[0m\u001b[0m\n\u001b[0;32m-> 1059\u001b[0;31m         \u001b[0;32mreturn\u001b[0m \u001b[0mself\u001b[0m\u001b[0;34m.\u001b[0m\u001b[0mobj\u001b[0m\u001b[0;34m.\u001b[0m\u001b[0mxs\u001b[0m\u001b[0;34m(\u001b[0m\u001b[0mlabel\u001b[0m\u001b[0;34m,\u001b[0m \u001b[0maxis\u001b[0m\u001b[0;34m=\u001b[0m\u001b[0maxis\u001b[0m\u001b[0;34m)\u001b[0m\u001b[0;34m\u001b[0m\u001b[0;34m\u001b[0m\u001b[0m\n\u001b[0m\u001b[1;32m   1060\u001b[0m \u001b[0;34m\u001b[0m\u001b[0m\n\u001b[1;32m   1061\u001b[0m     \u001b[0;32mdef\u001b[0m \u001b[0m_handle_lowerdim_multi_index_axis0\u001b[0m\u001b[0;34m(\u001b[0m\u001b[0mself\u001b[0m\u001b[0;34m,\u001b[0m \u001b[0mtup\u001b[0m\u001b[0;34m:\u001b[0m \u001b[0mTuple\u001b[0m\u001b[0;34m)\u001b[0m\u001b[0;34m:\u001b[0m\u001b[0;34m\u001b[0m\u001b[0;34m\u001b[0m\u001b[0m\n",
      "\u001b[0;32m/opt/anaconda3/lib/python3.7/site-packages/pandas/core/generic.py\u001b[0m in \u001b[0;36mxs\u001b[0;34m(self, key, axis, level, drop_level)\u001b[0m\n\u001b[1;32m   3483\u001b[0m \u001b[0;34m\u001b[0m\u001b[0m\n\u001b[1;32m   3484\u001b[0m         \u001b[0;32mif\u001b[0m \u001b[0maxis\u001b[0m \u001b[0;34m==\u001b[0m \u001b[0;36m1\u001b[0m\u001b[0;34m:\u001b[0m\u001b[0;34m\u001b[0m\u001b[0;34m\u001b[0m\u001b[0m\n\u001b[0;32m-> 3485\u001b[0;31m             \u001b[0;32mreturn\u001b[0m \u001b[0mself\u001b[0m\u001b[0;34m[\u001b[0m\u001b[0mkey\u001b[0m\u001b[0;34m]\u001b[0m\u001b[0;34m\u001b[0m\u001b[0;34m\u001b[0m\u001b[0m\n\u001b[0m\u001b[1;32m   3486\u001b[0m \u001b[0;34m\u001b[0m\u001b[0m\n\u001b[1;32m   3487\u001b[0m         \u001b[0mself\u001b[0m\u001b[0;34m.\u001b[0m\u001b[0m_consolidate_inplace\u001b[0m\u001b[0;34m(\u001b[0m\u001b[0;34m)\u001b[0m\u001b[0;34m\u001b[0m\u001b[0;34m\u001b[0m\u001b[0m\n",
      "\u001b[0;32m/opt/anaconda3/lib/python3.7/site-packages/pandas/core/frame.py\u001b[0m in \u001b[0;36m__getitem__\u001b[0;34m(self, key)\u001b[0m\n\u001b[1;32m   2904\u001b[0m             \u001b[0;32mif\u001b[0m \u001b[0mself\u001b[0m\u001b[0;34m.\u001b[0m\u001b[0mcolumns\u001b[0m\u001b[0;34m.\u001b[0m\u001b[0mnlevels\u001b[0m \u001b[0;34m>\u001b[0m \u001b[0;36m1\u001b[0m\u001b[0;34m:\u001b[0m\u001b[0;34m\u001b[0m\u001b[0;34m\u001b[0m\u001b[0m\n\u001b[1;32m   2905\u001b[0m                 \u001b[0;32mreturn\u001b[0m \u001b[0mself\u001b[0m\u001b[0;34m.\u001b[0m\u001b[0m_getitem_multilevel\u001b[0m\u001b[0;34m(\u001b[0m\u001b[0mkey\u001b[0m\u001b[0;34m)\u001b[0m\u001b[0;34m\u001b[0m\u001b[0;34m\u001b[0m\u001b[0m\n\u001b[0;32m-> 2906\u001b[0;31m             \u001b[0mindexer\u001b[0m \u001b[0;34m=\u001b[0m \u001b[0mself\u001b[0m\u001b[0;34m.\u001b[0m\u001b[0mcolumns\u001b[0m\u001b[0;34m.\u001b[0m\u001b[0mget_loc\u001b[0m\u001b[0;34m(\u001b[0m\u001b[0mkey\u001b[0m\u001b[0;34m)\u001b[0m\u001b[0;34m\u001b[0m\u001b[0;34m\u001b[0m\u001b[0m\n\u001b[0m\u001b[1;32m   2907\u001b[0m             \u001b[0;32mif\u001b[0m \u001b[0mis_integer\u001b[0m\u001b[0;34m(\u001b[0m\u001b[0mindexer\u001b[0m\u001b[0;34m)\u001b[0m\u001b[0;34m:\u001b[0m\u001b[0;34m\u001b[0m\u001b[0;34m\u001b[0m\u001b[0m\n\u001b[1;32m   2908\u001b[0m                 \u001b[0mindexer\u001b[0m \u001b[0;34m=\u001b[0m \u001b[0;34m[\u001b[0m\u001b[0mindexer\u001b[0m\u001b[0;34m]\u001b[0m\u001b[0;34m\u001b[0m\u001b[0;34m\u001b[0m\u001b[0m\n",
      "\u001b[0;32m/opt/anaconda3/lib/python3.7/site-packages/pandas/core/indexes/base.py\u001b[0m in \u001b[0;36mget_loc\u001b[0;34m(self, key, method, tolerance)\u001b[0m\n\u001b[1;32m   2898\u001b[0m                 \u001b[0;32mreturn\u001b[0m \u001b[0mself\u001b[0m\u001b[0;34m.\u001b[0m\u001b[0m_engine\u001b[0m\u001b[0;34m.\u001b[0m\u001b[0mget_loc\u001b[0m\u001b[0;34m(\u001b[0m\u001b[0mcasted_key\u001b[0m\u001b[0;34m)\u001b[0m\u001b[0;34m\u001b[0m\u001b[0;34m\u001b[0m\u001b[0m\n\u001b[1;32m   2899\u001b[0m             \u001b[0;32mexcept\u001b[0m \u001b[0mKeyError\u001b[0m \u001b[0;32mas\u001b[0m \u001b[0merr\u001b[0m\u001b[0;34m:\u001b[0m\u001b[0;34m\u001b[0m\u001b[0;34m\u001b[0m\u001b[0m\n\u001b[0;32m-> 2900\u001b[0;31m                 \u001b[0;32mraise\u001b[0m \u001b[0mKeyError\u001b[0m\u001b[0;34m(\u001b[0m\u001b[0mkey\u001b[0m\u001b[0;34m)\u001b[0m \u001b[0;32mfrom\u001b[0m \u001b[0merr\u001b[0m\u001b[0;34m\u001b[0m\u001b[0;34m\u001b[0m\u001b[0m\n\u001b[0m\u001b[1;32m   2901\u001b[0m \u001b[0;34m\u001b[0m\u001b[0m\n\u001b[1;32m   2902\u001b[0m         \u001b[0;32mif\u001b[0m \u001b[0mtolerance\u001b[0m \u001b[0;32mis\u001b[0m \u001b[0;32mnot\u001b[0m \u001b[0;32mNone\u001b[0m\u001b[0;34m:\u001b[0m\u001b[0;34m\u001b[0m\u001b[0;34m\u001b[0m\u001b[0m\n",
      "\u001b[0;31mKeyError\u001b[0m: 'MEICA_3_echo'"
     ]
    }
   ],
   "source": [
    "uncorrected_p_vals = []\n",
    "for n in range(len(combo_list)):\n",
    "    combo_cont1 = combo_list[n][0]\n",
    "    combo_cont2 = combo_list[n][1]\n",
    "    w, p = wilcoxon(df_pipeline_list.loc[:, combo_cont1], df_pipeline_list.loc[:, combo_cont2])\n",
    "    uncorrected_p_vals.append(p)\n",
    "uncorrected_p_vals"
   ]
  },
  {
   "cell_type": "code",
   "execution_count": null,
   "metadata": {},
   "outputs": [],
   "source": [
    "# Correct the p-values using the FDR method\n",
    "# and more specifically, one of the newer variations (https://www.jstor.org/stable/20441303?seq=1)\n",
    "corrected_p_vals_extra = multipletests(uncorrected_p_vals, alpha=0.05, method='fdr_tsbky')"
   ]
  },
  {
   "cell_type": "code",
   "execution_count": null,
   "metadata": {},
   "outputs": [],
   "source": [
    "corrected_p_vals_extra"
   ]
  },
  {
   "cell_type": "code",
   "execution_count": 22,
   "metadata": {},
   "outputs": [
    {
     "ename": "NameError",
     "evalue": "name 'corrected_p_vals_extra' is not defined",
     "output_type": "error",
     "traceback": [
      "\u001b[0;31m---------------------------------------------------------------------------\u001b[0m",
      "\u001b[0;31mNameError\u001b[0m                                 Traceback (most recent call last)",
      "\u001b[0;32m<ipython-input-22-41b305fec39c>\u001b[0m in \u001b[0;36m<module>\u001b[0;34m\u001b[0m\n\u001b[0;32m----> 1\u001b[0;31m \u001b[0mcorrected_p_vals\u001b[0m \u001b[0;34m=\u001b[0m \u001b[0mcorrected_p_vals_extra\u001b[0m\u001b[0;34m[\u001b[0m\u001b[0;36m1\u001b[0m\u001b[0;34m]\u001b[0m\u001b[0;34m\u001b[0m\u001b[0;34m\u001b[0m\u001b[0m\n\u001b[0m\u001b[1;32m      2\u001b[0m \u001b[0mcorrected_p_vals\u001b[0m\u001b[0;34m\u001b[0m\u001b[0;34m\u001b[0m\u001b[0m\n",
      "\u001b[0;31mNameError\u001b[0m: name 'corrected_p_vals_extra' is not defined"
     ]
    }
   ],
   "source": [
    "corrected_p_vals = corrected_p_vals_extra[1]\n",
    "corrected_p_vals"
   ]
  },
  {
   "cell_type": "code",
   "execution_count": null,
   "metadata": {},
   "outputs": [],
   "source": [
    "print(\"Values lower than 0.04 =\", corrected_p_vals[corrected_p_vals < 0.001])\n",
    "print(\"Their indices are \", np.nonzero(corrected_p_vals < 0.001))"
   ]
  },
  {
   "cell_type": "code",
   "execution_count": null,
   "metadata": {},
   "outputs": [],
   "source": [
    "# for < 0.001: all without 28, 47, 56\n",
    "print('p-value for', combo_list[28], corrected_p_vals[28])\n",
    "print('p-value for', combo_list[47], combo_list[47], corrected_p_vals[47])\n",
    "print('p-value for', combo_list[56], combo_list[56], corrected_p_vals[56])"
   ]
  },
  {
   "cell_type": "code",
   "execution_count": 19,
   "metadata": {},
   "outputs": [
    {
     "name": "stderr",
     "output_type": "stream",
     "text": [
      "/opt/anaconda3/lib/python3.7/site-packages/ipykernel_launcher.py:8: UserWarning: FixedFormatter should only be used together with FixedLocator\n",
      "  \n",
      "/opt/anaconda3/lib/python3.7/site-packages/ipykernel_launcher.py:9: UserWarning: FixedFormatter should only be used together with FixedLocator\n",
      "  if __name__ == '__main__':\n"
     ]
    },
    {
     "data": {
      "image/png": "[encoded data removed]",
      "text/plain": [
       "<Figure size 2664x1944 with 1 Axes>"
      ]
     },
     "metadata": {},
     "output_type": "display_data"
    }
   ],
   "source": [
    "plt.rcParams[\"axes.labelsize\"] = 33\n",
    "\n",
    "\n",
    "# create the boxplot using seaborn instead of matplotlib\n",
    "fig, ax = plt.subplots(figsize=(37,27))\n",
    "sns.set(font_scale = 2)\n",
    "ax.tick_params(axis='both', which='both', labelsize=10)\n",
    "ax.set_xticklabels(new_pipeline_names, rotation=45, fontsize=25)\n",
    "ax.set_yticklabels(['-0.8', '-0.6', '-0.4', '-0.2', '0', '0.2', '0.4', '0.6', '0.8'], rotation=0, fontsize=25)\n",
    "ax.xaxis.labelpad = 20\n",
    "\n",
    "# these are matplotlib.patch.Patch properties\n",
    "props = dict(boxstyle='round', \n",
    "             #facecolor='wheat', \n",
    "             alpha=0.5)\n",
    "\n",
    "# place a text box in lower right in axes coords\n",
    "textstr = 'All inter-pipeline differences are statistically significant.'\n",
    "ax.text(0.55, 0.1, textstr, transform=ax.transAxes, fontsize=32,\n",
    "        verticalalignment='top', bbox=props)\n",
    "\n",
    "sb_ax = sns.boxplot(data=df_pipeline_list, #corr_matrix_list, \n",
    "                    order=new_pipeline_names, \n",
    "                    showfliers=False).set(\n",
    "    xlabel='Pipelines', \n",
    "    ylabel='Correlation'\n",
    ")\n",
    "\n",
    "# plot with corrected p-values \n",
    "# CHANGE THIS!!!!!!!!!!!!!!!!!!!!!!!!!!!!!!!!!!!!!!!\n",
    "#test_results = add_stat_annotation(sb_ax, data=df_pipeline_list, order=pipeline_names,\n",
    "#                                   box_pairs=[combo_list[n] for n in range(len(combo_list))],\n",
    "#                                   perform_stat_test=False, pvalues=corrected_p_vals,\n",
    "#                                   text_format='star',\n",
    "#                                   loc='outside', verbose=2)\n",
    "\n",
    "#plt.title('mFD-FC scores')\n",
    "ax.set_title('mFD-FC scores',fontsize= 35) # title of plot\n",
    "\n",
    "# plt.show()\n",
    "plt.savefig('mFD-FC.png')"
   ]
  },
  {
   "cell_type": "code",
   "execution_count": null,
   "metadata": {},
   "outputs": [],
   "source": [
    "# https://stackoverflow.com/questions/36578458/how-does-one-insert-statistical-annotations-stars-or-p-values-into-matplotlib"
   ]
  }
 ],
 "metadata": {
  "kernelspec": {
   "display_name": "Python 3",
   "language": "python",
   "name": "python3"
  },
  "language_info": {
   "codemirror_mode": {
    "name": "ipython",
    "version": 3
   },
   "file_extension": ".py",
   "mimetype": "text/x-python",
   "name": "python",
   "nbconvert_exporter": "python",
   "pygments_lexer": "ipython3",
   "version": "3.7.4"
  }
 },
 "nbformat": 4,
 "nbformat_minor": 2
}
